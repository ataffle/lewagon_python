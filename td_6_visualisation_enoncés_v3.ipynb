{
 "cells": [
  {
   "cell_type": "markdown",
   "id": "standing-glossary",
   "metadata": {
    "id": "standing-glossary"
   },
   "source": [
    "![Emil](data:image/png;base64,iVBORw0KGgoAAAANSUhEUgAAAUAAAACeCAMAAAB0DSNzAAAAwFBMVEX///+KXv0AAACFVf2DU/2KXvyHWv3ZzP/k5OQJCQmoif7///2GV/2JXP3q4/7//v9dXV1QUFDPz8/49f9sbGytra03NzfKuP6CgoK9qf7m3P/6+P708P+kpKT29vbn3/6jgv3t5v7c3Nzt7e26ov6Tk5OQZ/6ATv28vLxmZmbf1f5ISEh5eXmukv7Rwv3x7P62nv3bz/6Zc/2wlf2de/3NvP6YmJgfHx8uLi4TExOUbP2vk/7FsP7FxcV+R/wrKytlLrrwAAAL/klEQVR4nO2dC1fiOhDHg3ngkoSuoiK0KiiUXZQ37K7I3v3+3+omaYG+pUoLlvzO2auUci75O5nJTB4FQKPRaDQajUaj0Wg0Go1Go9G4UECp81PzMajLob/Hl8U1QS3gBzFqbQfL1Bq+C3XtTf6Xtif12dzGmHAiKWF7OliVm6Zjj9TQdhnGWOvXXM0JhFDIxnnJgXMhJEMQLsdlk1KtXRTUEP/MYQUhJixOqIZLYThDvWl9pCWMghrlSg+SaOW8IkKhYU0ruEF1XEpHDYxIsnQbCESDpvM5YBz6+x8cNc57mEHI31fOo2FvPjGo9odO9K1WEHu36/rBJYLmZRW6D92CQ0OtGdy173r0E3DU6p/6SFs0vV5iaeXbQNjMOulcj9KHeTrfF4ThITjhQEJXJHXvDSD68Qkmeq7jsuaIpwweQcSHSakPTs4PqipVn33W/NZG2Dg5PygbvOp9yvutwSWMUeXE3KDUb9b7VN/1A6fWoduUH6ruYlbQ/uQTELt96HblhSHzL7MF96qfVPDhRNygDB9m6+OD5zg4a56GgqKV+7c/pSA/jV4sDLCShX6iF2PrJGyQjrPRTyi4NOkJjGdW+42/XljrBAbU/V5m+pUwGh+6eZljob3kH3GgYbFNkNLpfvLfGDDno2LXFRrZOUAHMjeKLOBDhg5QItJrtCqsCQrTyLYDKziriqFmEc1QNGsFP1k/3QXSkgIeurUZQMGoxDOXryQjMSjkcJCCt/2XEKLgtllMN9jMR79SCdaLOUdSyT6COHBWyIm6Jso+gLjAxqEbmwW5GaBUsHArPihoZ1XEihSwnqd63bOzK+e38zNBJv8PSjt5hZCSTIltkJ8FPkrVfqhfz79lJmAtL//nAPv5meAPKeCd+jUzASkdZl1F8EMq+Y2ln6Rq5+rX7ATMNYQIOLbyCyKPL1d/nd+yE9DK1wBVZfUAUTg7H7jIW0DSOsQwJjsBP9iDPx55uH2IOc7MBDQ/YIC4RBhKiefPBCdZNOQdMhNwkl5AjuC0MyynYjLYKsg6SRZ4/6N7cXN28737N/aWy7tfV7/uLn3X/t51r+6uHwN3dq9efjq/ZSZgg6XtjXC5qKVeNkkb29E6n8Z/+PHqbMvtecQdT93N+7/u3WvnL+tLv699Nz9vVMtIQErnPJ2AjNflGqR2uZ6ASc2F9/VqBLwC4lHM17l/OfPTvQ/ecu1738kyut5Lv72WeZGxgMISUk4Gw/mI0lHH7iEYDxoYtNyDkEHY68kL/zW9AmLUj/46l6+OBn+en5//Ob/eBIxwrfC/b67CrkqC19/ue3f5CQhAtZfKAOHApEaHsXdUh2MxPJJOj3XKS/Gj5xUQl9gq8rv8cCS7e5Rmd//YVRq++tya0u/19vL86fzS0fIX+K4E/fUor1157DIPASlIl8exlglG0x0+glYUzIWCvC2HSRj5LLBEBlFf5lI13uPD7lXXfPXYoJL46sl9da6ku/J19cebs032BjIX0J2N2xmytGjV3mXcyOFwLPfHkkrHlnr6BeTziKm5J9kD//h7rOrTN5uX91KEF8/764jjVV1q9n39KnsBUw2jxQCuttzxA4zJaIGJCvJ+ATG3a+EvI8X4E4wZj6+un1PciRcX3rfvb5xo7b2m/hDrfp95F6bLFDFE5mCDnWuHXtcasMASCYdh1YGfki/feKRxcNym/yN3Hs2zFtAAKWqpHPZpP13xGmO5WSQsIGqHdtFd+Zz/lu5WDqnBjf9dZYJd/7Wn1+1tGQtoUJpiRQxfUtr6WOIcEnASHIg/ieY9R33H+9+bhl+GxQI/xbVgyrJVLXMfCGopgjDrgHbKtAVjzsVgkP0XFDC0QuHaHwo83Ip3nLHxZcQ9t96Y6/IzRwGrEQJywiAjYd8IJ1SWvrD3TgmPd6MccpE19/v9ml9AWA8ukZFC3ESzkW1XAa9yExCAh7CA0G516p0WDu0WFmO6GfPIh0v2VLLEyBlY+4xTvmC40V7v/Q8IGCwJPp8l4cysHb2Ass0E1y2V4tXqS5XlbVTh2PINekRCoZY9i8yu3xH3hvo2R50apUZ72Gg0Rn4BWSfoA/8kCuiMXY5eQOGy2HwEaK1aroqBmjmcIiIDqauHbRpzXwwhA2s0GtXkDjFzuAzEZ0zwBFBrNUUo7AOFOw0gWvf7eyxfxgLJtAbMho0QWnZGwnom820hVE4GBYMw5xwvp4OhBajZgD4jJHaVggV2ahXo4T0B/21mwOM5PgEp9VsgJw/Amqo2c1aaVcUNzYorIZc+8C0Yhbk6PAvhmZCwvAk8WC4pF/oNnI6NMVw037zaw0bwUBThA59DpasARyhgoAuzGQXuZkMsk7FKU2r8hqC6APugDqOHMZzxBaD9tYLcmXrz7BuDiHg/KKJwwAfeRuYhfo5PQABGfgGb/uoMga2+XL46hjLMshWtxiYiHI0pnWzeZgNAx8hJQ8Q/VbT1KBheIBM/DtxyfAJS6htIyxw/4OUImpbFjVYDIU7mIGkvCZpRukKuSqwKJpvAHA7QqByViVxEfcf7bXn0+AQU1uVN5fgU1ELFBYLshbjTqHMEH4SBxmYiuFdfC4zZgIKkMgVqhuZUfsbnwmvRjk9ASqntaSaZAssON5sjXJfrSof4DYB5RIri3iZ3MbjFBtRPnu1D7ZCAUp1vYS/4eLZV6AgFBNQ7suNLA8wj+ijnkDXkQU7lEW0nJG6kst5uYlvJdS9shaf1ZLNvgoH4XJYS1gWE4xNQMPO1sw0aMWEConFbJWWTuPkQ0bfhA13IzwtvGfYF3r/INGKx/pOqPvtt8FFVqdevjk9AatC6VzBUByOsTiyK8HQMzh7UoTyclWJWdojx8UhaIJmBdny0wbIyG8Ff2Vu/eavzd+rKRp/jE1BI6HNVfGmCcvxplQxW+vJEyzGJOVNQbie0RcxljagqxVZBFr132CkvP1+fq1m5866q13/bTvMeoYAU1DxhmIuWUdC3e4yRaGBvXjaAOhQ08hYmsj0oMpNOooCyHBjJel745uLiwq0u/PGU8I9PQOnJscdXiWxjRalZHlfiaY1r4lO1YWcW9aYF6vLHgiYKyB5ivtCTd2GH5NYbVY5PQMnA32PhwNo8aiAG6hxQFnXGp3uRBnNEP5GTci6XPz3yvfhnkD4n4FlGAi4CYZfxwaS6E7UEzH6CgKSV9Pd5uu6K/ntz0f0RnHc6TgHbobUdJGnZixeWcCVpFJjvVpHMsf2pKo8cw6QDJ04281gX+CXJdZuNI+CyUHuGaZK3ygQx3C6SgMCIqB9kCmwWatt/vlvlZHF1WbTdmolj3v0DGwU7eIJGlrCygxXtTFUj5SrVz+pXOXSD94+5zOXME4deoQaBLquY2coMIAl7RL4uNTsn+YQBxuxw+OKsYE4WSObFPBrezGcwjeWGkUJCh7kc3MHlgoVCWqCc3txDFeZdAYt6iKWsIOcQiDFaFfhhX53sOzGZF/LgrDWZxxHOCv1QApr1IapqA2JxkU9B2+dzWEJg1ipYGSuA8O6VLAuDHMfPZRYB9SybnXayflC/Ys0kRSDPJx4lT6d9BrQodP+VyBUFcpl4Jo4QNYpVhY6lnMVx0riExqfxsFfRyOF750l8BDSgRc2BfahFRcPPPZI0Wr/TsD+XMtqrHxT9t3NK8gkbnOz3wSzy8ZqHblWOSFfV5vsbD3K0eGe5YcFQo43adF+lGUKapxA9Aogmj3ufnunEInuD02Lnb7FQWna68Se8IZZb1k/O+BRqlbPV+tx4Bpeg3Tyh6OvDcftDO/XZjB4I65j0hB9SL6mNWfoCF1bnFXHUKnT5eUdotRK/bynJ+tC0XODpo11Re0GaFZTWCoV8Q+MEBy8RUHWswgy+H07w5gfrtcryUeOn7f38WKtlj6y3P0SFFez+lxNExlVte0GEIM0x7jGCMY4Ny1yohyplQ/u+EIahtsA1V9MegtE7/glDPTyeGKeV9u7K9iFIZr9esRmECDKitrsy50Vpvipb7k5DrWAi8pisan+46gxmlfl89jZeLSbNoq0azxKnNO+MUSh1cxZtcylQW4WpoTYMb7uroTvup9DqaTQajUaj0Wg0Go1Go9FoNJqvy//ukP1g1Wg0JwAAAABJRU5ErkJggg==)"
   ]
  },
  {
   "cell_type": "markdown",
   "id": "massive-celtic",
   "metadata": {
    "id": "massive-celtic",
    "tags": [
     "hide"
    ]
   },
   "source": [
    "# Visualisation partie 2\n",
    "\n",
    "L'objectif de ce TD est de :\n",
    "- Créer son premier widget\n",
    "- Ajouter des éléments d'interactivité à un graphique Plotly\n",
    "- transfomer le notebook de visualisation interactive en webapp (application web) avec Voilà\n",
    "- déployer et partager cette application web avec ngrok"
   ]
  },
  {
   "cell_type": "markdown",
   "id": "RMyCwiRJHeST",
   "metadata": {
    "id": "RMyCwiRJHeST",
    "tags": [
     "hide"
    ]
   },
   "source": [
    "# 1) Création d'un premier widget"
   ]
  },
  {
   "cell_type": "markdown",
   "id": "3gJIz75KIHHP",
   "metadata": {
    "id": "3gJIz75KIHHP",
    "tags": [
     "hide"
    ]
   },
   "source": [
    "a) Installation de la librairie Pywi"
   ]
  },
  {
   "cell_type": "code",
   "execution_count": 1,
   "id": "EsRq6FkOH2_Q",
   "metadata": {
    "id": "EsRq6FkOH2_Q",
    "tags": [
     "hide"
    ]
   },
   "outputs": [
    {
     "name": "stdout",
     "output_type": "stream",
     "text": [
      "Requirement already satisfied: ipywidgets in /Users/alixtaffle/anaconda3/envs/TheWagon/lib/python3.11/site-packages (8.0.4)\n",
      "Collecting statsmodels\n",
      "  Downloading statsmodels-0.14.0-cp311-cp311-macosx_10_9_x86_64.whl (9.9 MB)\n",
      "\u001b[2K     \u001b[90m━━━━━━━━━━━━━━━━━━━━━━━━━━━━━━━━━━━━━━━━\u001b[0m \u001b[32m9.9/9.9 MB\u001b[0m \u001b[31m18.8 MB/s\u001b[0m eta \u001b[36m0:00:00\u001b[0m00:01\u001b[0m00:01\u001b[0m\n",
      "\u001b[?25hRequirement already satisfied: ipykernel>=4.5.1 in /Users/alixtaffle/anaconda3/envs/TheWagon/lib/python3.11/site-packages (from ipywidgets) (6.25.0)\n",
      "Requirement already satisfied: ipython>=6.1.0 in /Users/alixtaffle/anaconda3/envs/TheWagon/lib/python3.11/site-packages (from ipywidgets) (8.15.0)\n",
      "Requirement already satisfied: traitlets>=4.3.1 in /Users/alixtaffle/anaconda3/envs/TheWagon/lib/python3.11/site-packages (from ipywidgets) (5.7.1)\n",
      "Requirement already satisfied: widgetsnbextension~=4.0 in /Users/alixtaffle/anaconda3/envs/TheWagon/lib/python3.11/site-packages (from ipywidgets) (4.0.5)\n",
      "Requirement already satisfied: jupyterlab-widgets~=3.0 in /Users/alixtaffle/anaconda3/envs/TheWagon/lib/python3.11/site-packages (from ipywidgets) (3.0.5)\n",
      "Requirement already satisfied: numpy>=1.18 in /Users/alixtaffle/anaconda3/envs/TheWagon/lib/python3.11/site-packages (from statsmodels) (1.25.2)\n",
      "Requirement already satisfied: scipy!=1.9.2,>=1.4 in /Users/alixtaffle/anaconda3/envs/TheWagon/lib/python3.11/site-packages (from statsmodels) (1.11.1)\n",
      "Requirement already satisfied: pandas>=1.0 in /Users/alixtaffle/anaconda3/envs/TheWagon/lib/python3.11/site-packages (from statsmodels) (2.0.3)\n",
      "Collecting patsy>=0.5.2 (from statsmodels)\n",
      "  Downloading patsy-0.5.3-py2.py3-none-any.whl (233 kB)\n",
      "\u001b[2K     \u001b[90m━━━━━━━━━━━━━━━━━━━━━━━━━━━━━━━━━━━━━━━\u001b[0m \u001b[32m233.8/233.8 kB\u001b[0m \u001b[31m1.7 MB/s\u001b[0m eta \u001b[36m0:00:00\u001b[0ma \u001b[36m0:00:01\u001b[0m\n",
      "\u001b[?25hRequirement already satisfied: packaging>=21.3 in /Users/alixtaffle/anaconda3/envs/TheWagon/lib/python3.11/site-packages (from statsmodels) (23.1)\n",
      "Requirement already satisfied: appnope in /Users/alixtaffle/anaconda3/envs/TheWagon/lib/python3.11/site-packages (from ipykernel>=4.5.1->ipywidgets) (0.1.2)\n",
      "Requirement already satisfied: comm>=0.1.1 in /Users/alixtaffle/anaconda3/envs/TheWagon/lib/python3.11/site-packages (from ipykernel>=4.5.1->ipywidgets) (0.1.2)\n",
      "Requirement already satisfied: debugpy>=1.6.5 in /Users/alixtaffle/anaconda3/envs/TheWagon/lib/python3.11/site-packages (from ipykernel>=4.5.1->ipywidgets) (1.6.7)\n",
      "Requirement already satisfied: jupyter-client>=6.1.12 in /Users/alixtaffle/anaconda3/envs/TheWagon/lib/python3.11/site-packages (from ipykernel>=4.5.1->ipywidgets) (7.4.9)\n",
      "Requirement already satisfied: jupyter-core!=5.0.*,>=4.12 in /Users/alixtaffle/anaconda3/envs/TheWagon/lib/python3.11/site-packages (from ipykernel>=4.5.1->ipywidgets) (5.3.0)\n",
      "Requirement already satisfied: matplotlib-inline>=0.1 in /Users/alixtaffle/anaconda3/envs/TheWagon/lib/python3.11/site-packages (from ipykernel>=4.5.1->ipywidgets) (0.1.6)\n",
      "Requirement already satisfied: nest-asyncio in /Users/alixtaffle/anaconda3/envs/TheWagon/lib/python3.11/site-packages (from ipykernel>=4.5.1->ipywidgets) (1.5.6)\n",
      "Requirement already satisfied: psutil in /Users/alixtaffle/anaconda3/envs/TheWagon/lib/python3.11/site-packages (from ipykernel>=4.5.1->ipywidgets) (5.9.0)\n",
      "Requirement already satisfied: pyzmq>=20 in /Users/alixtaffle/anaconda3/envs/TheWagon/lib/python3.11/site-packages (from ipykernel>=4.5.1->ipywidgets) (23.2.0)\n",
      "Requirement already satisfied: tornado>=6.1 in /Users/alixtaffle/anaconda3/envs/TheWagon/lib/python3.11/site-packages (from ipykernel>=4.5.1->ipywidgets) (6.3.2)\n",
      "Requirement already satisfied: backcall in /Users/alixtaffle/anaconda3/envs/TheWagon/lib/python3.11/site-packages (from ipython>=6.1.0->ipywidgets) (0.2.0)\n",
      "Requirement already satisfied: decorator in /Users/alixtaffle/anaconda3/envs/TheWagon/lib/python3.11/site-packages (from ipython>=6.1.0->ipywidgets) (5.1.1)\n",
      "Requirement already satisfied: jedi>=0.16 in /Users/alixtaffle/anaconda3/envs/TheWagon/lib/python3.11/site-packages (from ipython>=6.1.0->ipywidgets) (0.18.1)\n",
      "Requirement already satisfied: pickleshare in /Users/alixtaffle/anaconda3/envs/TheWagon/lib/python3.11/site-packages (from ipython>=6.1.0->ipywidgets) (0.7.5)\n",
      "Requirement already satisfied: prompt-toolkit!=3.0.37,<3.1.0,>=3.0.30 in /Users/alixtaffle/anaconda3/envs/TheWagon/lib/python3.11/site-packages (from ipython>=6.1.0->ipywidgets) (3.0.36)\n",
      "Requirement already satisfied: pygments>=2.4.0 in /Users/alixtaffle/anaconda3/envs/TheWagon/lib/python3.11/site-packages (from ipython>=6.1.0->ipywidgets) (2.15.1)\n",
      "Requirement already satisfied: stack-data in /Users/alixtaffle/anaconda3/envs/TheWagon/lib/python3.11/site-packages (from ipython>=6.1.0->ipywidgets) (0.2.0)\n",
      "Requirement already satisfied: pexpect>4.3 in /Users/alixtaffle/anaconda3/envs/TheWagon/lib/python3.11/site-packages (from ipython>=6.1.0->ipywidgets) (4.8.0)\n",
      "Requirement already satisfied: python-dateutil>=2.8.2 in /Users/alixtaffle/anaconda3/envs/TheWagon/lib/python3.11/site-packages (from pandas>=1.0->statsmodels) (2.8.2)\n",
      "Requirement already satisfied: pytz>=2020.1 in /Users/alixtaffle/anaconda3/envs/TheWagon/lib/python3.11/site-packages (from pandas>=1.0->statsmodels) (2022.7)\n",
      "Requirement already satisfied: tzdata>=2022.1 in /Users/alixtaffle/anaconda3/envs/TheWagon/lib/python3.11/site-packages (from pandas>=1.0->statsmodels) (2023.3)\n",
      "Requirement already satisfied: six in /Users/alixtaffle/anaconda3/envs/TheWagon/lib/python3.11/site-packages (from patsy>=0.5.2->statsmodels) (1.16.0)\n",
      "Requirement already satisfied: parso<0.9.0,>=0.8.0 in /Users/alixtaffle/anaconda3/envs/TheWagon/lib/python3.11/site-packages (from jedi>=0.16->ipython>=6.1.0->ipywidgets) (0.8.3)\n",
      "Requirement already satisfied: entrypoints in /Users/alixtaffle/anaconda3/envs/TheWagon/lib/python3.11/site-packages (from jupyter-client>=6.1.12->ipykernel>=4.5.1->ipywidgets) (0.4)\n",
      "Requirement already satisfied: platformdirs>=2.5 in /Users/alixtaffle/anaconda3/envs/TheWagon/lib/python3.11/site-packages (from jupyter-core!=5.0.*,>=4.12->ipykernel>=4.5.1->ipywidgets) (3.10.0)\n",
      "Requirement already satisfied: ptyprocess>=0.5 in /Users/alixtaffle/anaconda3/envs/TheWagon/lib/python3.11/site-packages (from pexpect>4.3->ipython>=6.1.0->ipywidgets) (0.7.0)\n",
      "Requirement already satisfied: wcwidth in /Users/alixtaffle/anaconda3/envs/TheWagon/lib/python3.11/site-packages (from prompt-toolkit!=3.0.37,<3.1.0,>=3.0.30->ipython>=6.1.0->ipywidgets) (0.2.5)\n",
      "Requirement already satisfied: executing in /Users/alixtaffle/anaconda3/envs/TheWagon/lib/python3.11/site-packages (from stack-data->ipython>=6.1.0->ipywidgets) (0.8.3)\n",
      "Requirement already satisfied: asttokens in /Users/alixtaffle/anaconda3/envs/TheWagon/lib/python3.11/site-packages (from stack-data->ipython>=6.1.0->ipywidgets) (2.0.5)\n",
      "Requirement already satisfied: pure-eval in /Users/alixtaffle/anaconda3/envs/TheWagon/lib/python3.11/site-packages (from stack-data->ipython>=6.1.0->ipywidgets) (0.2.2)\n",
      "Installing collected packages: patsy, statsmodels\n",
      "Successfully installed patsy-0.5.3 statsmodels-0.14.0\n"
     ]
    }
   ],
   "source": [
    "import sys\n",
    "!{sys.executable} -m pip install ipywidgets statsmodels"
   ]
  },
  {
   "cell_type": "markdown",
   "id": "u2PuQBW2I0df",
   "metadata": {
    "id": "u2PuQBW2I0df",
    "tags": [
     "hide"
    ]
   },
   "source": [
    "b) Exécutez le code ci-dessous pour importer la librairie et la renommer widgets. On utilsera "
   ]
  },
  {
   "cell_type": "code",
   "execution_count": 2,
   "id": "mkVdYneZI6lV",
   "metadata": {
    "id": "mkVdYneZI6lV"
   },
   "outputs": [],
   "source": [
    "import ipywidgets as widgets\n",
    "from IPython.display import display"
   ]
  },
  {
   "cell_type": "markdown",
   "id": "62DY3UYiJBHb",
   "metadata": {
    "id": "62DY3UYiJBHb",
    "tags": [
     "hide"
    ]
   },
   "source": [
    "c) La liste complète des widgets disponible est disponible à [cette adresse](https://ipywidgets.readthedocs.io/en/latest/examples/Widget%20List.html).\n",
    "\n",
    "A l'aide de cette documentation, construisez une variable `my_int_slider` qui contiendra un widget \"IntSlider\" avec 5 comme valeur par défaut, 1 en minimum et 20 en maximum. On pourra laisser step égal à 1 comme niveau d'incrément.\n",
    "\n",
    "Utilisez la fonction \"display\" pour l'afficher.\n",
    "        "
   ]
  },
  {
   "cell_type": "code",
   "execution_count": 3,
   "id": "HAk2kxWVJjhS",
   "metadata": {
    "id": "HAk2kxWVJjhS",
    "tags": [
     "hide"
    ]
   },
   "outputs": [
    {
     "data": {
      "application/vnd.jupyter.widget-view+json": {
       "model_id": "2071c9ba8e374843a7044756f091ee30",
       "version_major": 2,
       "version_minor": 0
      },
      "text/plain": [
       "IntSlider(value=5, max=20, min=1)"
      ]
     },
     "metadata": {},
     "output_type": "display_data"
    }
   ],
   "source": [
    "my_int_slider = widgets.IntSlider(value=5, min=1, max=20, step=1)\n",
    "display(my_int_slider)"
   ]
  },
  {
   "cell_type": "markdown",
   "id": "Fn2t2Q1kKO3i",
   "metadata": {
    "id": "Fn2t2Q1kKO3i",
    "tags": [
     "hide"
    ]
   },
   "source": [
    "d) A quoi corresponnd le résultat de cette opération ? "
   ]
  },
  {
   "cell_type": "code",
   "execution_count": 5,
   "id": "243f46ce",
   "metadata": {
    "tags": [
     "hide"
    ]
   },
   "outputs": [
    {
     "data": {
      "text/plain": [
       "ipywidgets.widgets.widget_int.IntSlider"
      ]
     },
     "execution_count": 5,
     "metadata": {},
     "output_type": "execute_result"
    }
   ],
   "source": [
    "type(my_int_slider)"
   ]
  },
  {
   "cell_type": "code",
   "execution_count": 4,
   "id": "XR_bgeKrKP7l",
   "metadata": {
    "id": "XR_bgeKrKP7l",
    "tags": [
     "hide"
    ]
   },
   "outputs": [
    {
     "data": {
      "text/plain": [
       "['_dom_classes',\n",
       " '_model_module',\n",
       " '_model_module_version',\n",
       " '_model_name',\n",
       " '_view_count',\n",
       " '_view_module',\n",
       " '_view_module_version',\n",
       " '_view_name',\n",
       " 'behavior',\n",
       " 'continuous_update',\n",
       " 'description',\n",
       " 'description_allow_html',\n",
       " 'disabled',\n",
       " 'layout',\n",
       " 'max',\n",
       " 'min',\n",
       " 'orientation',\n",
       " 'readout',\n",
       " 'readout_format',\n",
       " 'step',\n",
       " 'style',\n",
       " 'tabbable',\n",
       " 'tooltip',\n",
       " 'value']"
      ]
     },
     "execution_count": 4,
     "metadata": {},
     "output_type": "execute_result"
    }
   ],
   "source": [
    "my_int_slider.keys"
   ]
  },
  {
   "cell_type": "code",
   "execution_count": null,
   "id": "9d53eb05",
   "metadata": {
    "tags": [
     "hide"
    ]
   },
   "outputs": [],
   "source": []
  },
  {
   "cell_type": "markdown",
   "id": "WjcZVutEMSit",
   "metadata": {
    "id": "WjcZVutEMSit",
    "tags": [
     "hide"
    ]
   },
   "source": [
    "e) En déduire comment afficher la valeur du slider.\n",
    "\n",
    "Faites varier la valeur du slider et vérifier qu'en exécutant de nouveau la ligne de code, la valeur a bien changé."
   ]
  },
  {
   "cell_type": "code",
   "execution_count": 12,
   "id": "xpI0CI30MOhQ",
   "metadata": {
    "id": "xpI0CI30MOhQ",
    "tags": [
     "hide"
    ]
   },
   "outputs": [
    {
     "name": "stdout",
     "output_type": "stream",
     "text": [
      "8\n"
     ]
    }
   ],
   "source": [
    "print(my_int_slider.value)"
   ]
  },
  {
   "cell_type": "markdown",
   "id": "Ng7DW66fNdtO",
   "metadata": {
    "id": "Ng7DW66fNdtO",
    "tags": [
     "hide"
    ]
   },
   "source": [
    "# 2) Création d'un User Form"
   ]
  },
  {
   "cell_type": "markdown",
   "id": "F3c0hqFlyJq2",
   "metadata": {
    "id": "F3c0hqFlyJq2",
    "tags": [
     "hide"
    ]
   },
   "source": [
    "Les widgets peuvent servir à créer des user forms pour des utilisateurs finaux.\n",
    "\n",
    "Cet exercice a pour but de construire un outil qui permet de sélectionner de sélectionner un indice boursier pour afficher un scatter plot avec l'indice d'apple AAPL."
   ]
  },
  {
   "cell_type": "markdown",
   "id": "sO5cQcg7lRiA",
   "metadata": {
    "id": "sO5cQcg7lRiA",
    "tags": [
     "hide"
    ]
   },
   "source": [
    "a) Importez les librairies suivantes"
   ]
  },
  {
   "cell_type": "code",
   "execution_count": 13,
   "id": "FUgkOiJrOUIH",
   "metadata": {
    "id": "FUgkOiJrOUIH"
   },
   "outputs": [],
   "source": [
    "import pandas as pd\n",
    "import plotly.express as px\n",
    "from ipywidgets import interact, interactive, fixed, interactive_output\n",
    "import io"
   ]
  },
  {
   "cell_type": "markdown",
   "id": "mZ5Qvw_ulZLV",
   "metadata": {
    "id": "mZ5Qvw_ulZLV",
    "tags": [
     "hide"
    ]
   },
   "source": [
    "b) Dans une variable `my_upload_widget`, créez un widget de type Fileupload qui accepte l'extension .csv et un seul fichier à la fois. Puis testez l'import de ce fichier [csv exemple](https://drive.google.com/file/d/1bWMYHBP6pnxB-sztTyRe8gGMszD0GOp4/view?usp=sharing)."
   ]
  },
  {
   "cell_type": "code",
   "execution_count": 17,
   "id": "HnQifhG-N228",
   "metadata": {
    "id": "HnQifhG-N228",
    "tags": [
     "hide"
    ]
   },
   "outputs": [
    {
     "data": {
      "application/vnd.jupyter.widget-view+json": {
       "model_id": "009b658a3d8144dbbfc535178eb3d6a7",
       "version_major": 2,
       "version_minor": 0
      },
      "text/plain": [
       "FileUpload(value=(), accept='.csv', description='Upload')"
      ]
     },
     "metadata": {},
     "output_type": "display_data"
    }
   ],
   "source": [
    "my_upload_widget = widgets.FileUpload(\n",
    "    accept='.csv',\n",
    "    multiple=False\n",
    ")\n",
    "\n",
    "display(my_upload_widget)"
   ]
  },
  {
   "cell_type": "markdown",
   "id": "j32h2Vdemc9X",
   "metadata": {
    "id": "j32h2Vdemc9X",
    "tags": [
     "hide"
    ]
   },
   "source": [
    "c) Le données en sortie sont un peu difficile à extraire.\n",
    "\n",
    "Exécutez le code ci-dessous pour gagner du temps et posez vos questions au professeur."
   ]
  },
  {
   "cell_type": "code",
   "execution_count": 29,
   "id": "f5d4331a",
   "metadata": {
    "tags": [
     "hide"
    ]
   },
   "outputs": [
    {
     "data": {
      "text/plain": [
       "({'name': 'stock_data.csv',\n",
       "  'type': 'text/csv',\n",
       "  'size': 12746,\n",
       "  'content': <memory at 0x114915480>,\n",
       "  'last_modified': datetime.datetime(2023, 9, 21, 9, 43, 22, 966000, tzinfo=datetime.timezone.utc)},)"
      ]
     },
     "execution_count": 29,
     "metadata": {},
     "output_type": "execute_result"
    }
   ],
   "source": [
    "my_upload_widget.value"
   ]
  },
  {
   "cell_type": "code",
   "execution_count": 92,
   "id": "PCv0MyUTQUDh",
   "metadata": {
    "id": "PCv0MyUTQUDh",
    "tags": [
     "hide"
    ]
   },
   "outputs": [
    {
     "data": {
      "text/html": [
       "<div>\n",
       "<style scoped>\n",
       "    .dataframe tbody tr th:only-of-type {\n",
       "        vertical-align: middle;\n",
       "    }\n",
       "\n",
       "    .dataframe tbody tr th {\n",
       "        vertical-align: top;\n",
       "    }\n",
       "\n",
       "    .dataframe thead th {\n",
       "        text-align: right;\n",
       "    }\n",
       "</style>\n",
       "<table border=\"1\" class=\"dataframe\">\n",
       "  <thead>\n",
       "    <tr style=\"text-align: right;\">\n",
       "      <th></th>\n",
       "      <th>date</th>\n",
       "      <th>GOOG</th>\n",
       "      <th>AAPL</th>\n",
       "      <th>AMZN</th>\n",
       "      <th>FB</th>\n",
       "      <th>NFLX</th>\n",
       "      <th>MSFT</th>\n",
       "    </tr>\n",
       "  </thead>\n",
       "  <tbody>\n",
       "    <tr>\n",
       "      <th>0</th>\n",
       "      <td>2018-01-01</td>\n",
       "      <td>1.000000</td>\n",
       "      <td>1.000000</td>\n",
       "      <td>1.000000</td>\n",
       "      <td>1.000000</td>\n",
       "      <td>1.000000</td>\n",
       "      <td>1.000000</td>\n",
       "    </tr>\n",
       "    <tr>\n",
       "      <th>1</th>\n",
       "      <td>2018-01-08</td>\n",
       "      <td>1.018172</td>\n",
       "      <td>1.011943</td>\n",
       "      <td>1.061881</td>\n",
       "      <td>0.959968</td>\n",
       "      <td>1.053526</td>\n",
       "      <td>1.015988</td>\n",
       "    </tr>\n",
       "    <tr>\n",
       "      <th>2</th>\n",
       "      <td>2018-01-15</td>\n",
       "      <td>1.032008</td>\n",
       "      <td>1.019771</td>\n",
       "      <td>1.053240</td>\n",
       "      <td>0.970243</td>\n",
       "      <td>1.049860</td>\n",
       "      <td>1.020524</td>\n",
       "    </tr>\n",
       "    <tr>\n",
       "      <th>3</th>\n",
       "      <td>2018-01-22</td>\n",
       "      <td>1.066783</td>\n",
       "      <td>0.980057</td>\n",
       "      <td>1.140676</td>\n",
       "      <td>1.016858</td>\n",
       "      <td>1.307681</td>\n",
       "      <td>1.066561</td>\n",
       "    </tr>\n",
       "    <tr>\n",
       "      <th>4</th>\n",
       "      <td>2018-01-29</td>\n",
       "      <td>1.008773</td>\n",
       "      <td>0.917143</td>\n",
       "      <td>1.163374</td>\n",
       "      <td>1.018357</td>\n",
       "      <td>1.273537</td>\n",
       "      <td>1.040708</td>\n",
       "    </tr>\n",
       "    <tr>\n",
       "      <th>...</th>\n",
       "      <td>...</td>\n",
       "      <td>...</td>\n",
       "      <td>...</td>\n",
       "      <td>...</td>\n",
       "      <td>...</td>\n",
       "      <td>...</td>\n",
       "      <td>...</td>\n",
       "    </tr>\n",
       "    <tr>\n",
       "      <th>100</th>\n",
       "      <td>2019-12-02</td>\n",
       "      <td>1.216280</td>\n",
       "      <td>1.546914</td>\n",
       "      <td>1.425061</td>\n",
       "      <td>1.075997</td>\n",
       "      <td>1.463641</td>\n",
       "      <td>1.720717</td>\n",
       "    </tr>\n",
       "    <tr>\n",
       "      <th>101</th>\n",
       "      <td>2019-12-09</td>\n",
       "      <td>1.222821</td>\n",
       "      <td>1.572286</td>\n",
       "      <td>1.432660</td>\n",
       "      <td>1.038855</td>\n",
       "      <td>1.421496</td>\n",
       "      <td>1.752239</td>\n",
       "    </tr>\n",
       "    <tr>\n",
       "      <th>102</th>\n",
       "      <td>2019-12-16</td>\n",
       "      <td>1.224418</td>\n",
       "      <td>1.596800</td>\n",
       "      <td>1.453455</td>\n",
       "      <td>1.104094</td>\n",
       "      <td>1.604362</td>\n",
       "      <td>1.784896</td>\n",
       "    </tr>\n",
       "    <tr>\n",
       "      <th>103</th>\n",
       "      <td>2019-12-23</td>\n",
       "      <td>1.226504</td>\n",
       "      <td>1.656000</td>\n",
       "      <td>1.521226</td>\n",
       "      <td>1.113728</td>\n",
       "      <td>1.567170</td>\n",
       "      <td>1.802472</td>\n",
       "    </tr>\n",
       "    <tr>\n",
       "      <th>104</th>\n",
       "      <td>2019-12-30</td>\n",
       "      <td>1.213014</td>\n",
       "      <td>1.678000</td>\n",
       "      <td>1.503360</td>\n",
       "      <td>1.098475</td>\n",
       "      <td>1.540883</td>\n",
       "      <td>1.788185</td>\n",
       "    </tr>\n",
       "  </tbody>\n",
       "</table>\n",
       "<p>105 rows × 7 columns</p>\n",
       "</div>"
      ],
      "text/plain": [
       "           date      GOOG      AAPL      AMZN        FB      NFLX      MSFT\n",
       "0    2018-01-01  1.000000  1.000000  1.000000  1.000000  1.000000  1.000000\n",
       "1    2018-01-08  1.018172  1.011943  1.061881  0.959968  1.053526  1.015988\n",
       "2    2018-01-15  1.032008  1.019771  1.053240  0.970243  1.049860  1.020524\n",
       "3    2018-01-22  1.066783  0.980057  1.140676  1.016858  1.307681  1.066561\n",
       "4    2018-01-29  1.008773  0.917143  1.163374  1.018357  1.273537  1.040708\n",
       "..          ...       ...       ...       ...       ...       ...       ...\n",
       "100  2019-12-02  1.216280  1.546914  1.425061  1.075997  1.463641  1.720717\n",
       "101  2019-12-09  1.222821  1.572286  1.432660  1.038855  1.421496  1.752239\n",
       "102  2019-12-16  1.224418  1.596800  1.453455  1.104094  1.604362  1.784896\n",
       "103  2019-12-23  1.226504  1.656000  1.521226  1.113728  1.567170  1.802472\n",
       "104  2019-12-30  1.213014  1.678000  1.503360  1.098475  1.540883  1.788185\n",
       "\n",
       "[105 rows x 7 columns]"
      ]
     },
     "execution_count": 92,
     "metadata": {},
     "output_type": "execute_result"
    }
   ],
   "source": [
    "df = pd.read_csv(io.BytesIO(list(my_upload_widget.value)[0][\"content\"]))\n",
    "df"
   ]
  },
  {
   "cell_type": "markdown",
   "id": "F0gp2tb9q_Zn",
   "metadata": {
    "id": "F0gp2tb9q_Zn",
    "tags": [
     "hide"
    ]
   },
   "source": [
    "d) Représentez dans un graphique Plotly Scatter les donnnées de GOOG versus APPL avec une courbe de tendance (trendlines='ols') pour voir la corrélation entre ces deux indices."
   ]
  },
  {
   "cell_type": "code",
   "execution_count": 47,
   "id": "d49ddd56",
   "metadata": {
    "tags": [
     "hide"
    ]
   },
   "outputs": [
    {
     "data": {
      "text/plain": [
       "Index(['date', 'GOOG', 'AAPL', 'AMZN', 'FB', 'NFLX', 'MSFT'], dtype='object')"
      ]
     },
     "execution_count": 47,
     "metadata": {},
     "output_type": "execute_result"
    }
   ],
   "source": [
    "df.columns"
   ]
  },
  {
   "cell_type": "markdown",
   "id": "94ecccd5",
   "metadata": {
    "id": "WXy8KEX6TjjX",
    "tags": [
     "hide"
    ]
   },
   "source": [
    "df['date'] = pd.to_datetime(df['date'])\n",
    "fig = px.scatter(df,x=\"GOOG\", y=\"AAPL\", height=400,template=\"plotly_white\", hover_data=[\"date\"], trendline='ols')\n",
    "fig.show()"
   ]
  },
  {
   "cell_type": "markdown",
   "id": "cAqDm7ZJrU0h",
   "metadata": {
    "id": "cAqDm7ZJrU0h",
    "tags": [
     "hide"
    ]
   },
   "source": [
    "e) Créez une fonction `financial_scatter_widget` qui prendra en entrée les paramètres df, x et y, elle affichera le graphique créé précédemment pour les noms de colonnes x et y."
   ]
  },
  {
   "cell_type": "code",
   "execution_count": 44,
   "id": "LalrhfXQUoAq",
   "metadata": {
    "id": "LalrhfXQUoAq",
    "tags": [
     "hide"
    ]
   },
   "outputs": [
    {
     "data": {
      "application/vnd.plotly.v1+json": {
       "config": {
        "plotlyServerURL": "https://plot.ly"
       },
       "data": [
        {
         "customdata": [
          [
           "2018-01-01T00:00:00"
          ],
          [
           "2018-01-08T00:00:00"
          ],
          [
           "2018-01-15T00:00:00"
          ],
          [
           "2018-01-22T00:00:00"
          ],
          [
           "2018-01-29T00:00:00"
          ],
          [
           "2018-02-05T00:00:00"
          ],
          [
           "2018-02-12T00:00:00"
          ],
          [
           "2018-02-19T00:00:00"
          ],
          [
           "2018-02-26T00:00:00"
          ],
          [
           "2018-03-05T00:00:00"
          ],
          [
           "2018-03-12T00:00:00"
          ],
          [
           "2018-03-19T00:00:00"
          ],
          [
           "2018-03-26T00:00:00"
          ],
          [
           "2018-04-02T00:00:00"
          ],
          [
           "2018-04-09T00:00:00"
          ],
          [
           "2018-04-16T00:00:00"
          ],
          [
           "2018-04-23T00:00:00"
          ],
          [
           "2018-04-30T00:00:00"
          ],
          [
           "2018-05-07T00:00:00"
          ],
          [
           "2018-05-14T00:00:00"
          ],
          [
           "2018-05-21T00:00:00"
          ],
          [
           "2018-05-28T00:00:00"
          ],
          [
           "2018-06-04T00:00:00"
          ],
          [
           "2018-06-11T00:00:00"
          ],
          [
           "2018-06-18T00:00:00"
          ],
          [
           "2018-06-25T00:00:00"
          ],
          [
           "2018-07-02T00:00:00"
          ],
          [
           "2018-07-09T00:00:00"
          ],
          [
           "2018-07-16T00:00:00"
          ],
          [
           "2018-07-23T00:00:00"
          ],
          [
           "2018-07-30T00:00:00"
          ],
          [
           "2018-08-06T00:00:00"
          ],
          [
           "2018-08-13T00:00:00"
          ],
          [
           "2018-08-20T00:00:00"
          ],
          [
           "2018-08-27T00:00:00"
          ],
          [
           "2018-09-03T00:00:00"
          ],
          [
           "2018-09-10T00:00:00"
          ],
          [
           "2018-09-17T00:00:00"
          ],
          [
           "2018-09-24T00:00:00"
          ],
          [
           "2018-10-01T00:00:00"
          ],
          [
           "2018-10-08T00:00:00"
          ],
          [
           "2018-10-15T00:00:00"
          ],
          [
           "2018-10-22T00:00:00"
          ],
          [
           "2018-10-29T00:00:00"
          ],
          [
           "2018-11-05T00:00:00"
          ],
          [
           "2018-11-12T00:00:00"
          ],
          [
           "2018-11-19T00:00:00"
          ],
          [
           "2018-11-26T00:00:00"
          ],
          [
           "2018-12-03T00:00:00"
          ],
          [
           "2018-12-10T00:00:00"
          ],
          [
           "2018-12-17T00:00:00"
          ],
          [
           "2018-12-24T00:00:00"
          ],
          [
           "2018-12-31T00:00:00"
          ],
          [
           "2019-01-07T00:00:00"
          ],
          [
           "2019-01-14T00:00:00"
          ],
          [
           "2019-01-21T00:00:00"
          ],
          [
           "2019-01-28T00:00:00"
          ],
          [
           "2019-02-04T00:00:00"
          ],
          [
           "2019-02-11T00:00:00"
          ],
          [
           "2019-02-18T00:00:00"
          ],
          [
           "2019-02-25T00:00:00"
          ],
          [
           "2019-03-04T00:00:00"
          ],
          [
           "2019-03-11T00:00:00"
          ],
          [
           "2019-03-18T00:00:00"
          ],
          [
           "2019-03-25T00:00:00"
          ],
          [
           "2019-04-01T00:00:00"
          ],
          [
           "2019-04-08T00:00:00"
          ],
          [
           "2019-04-15T00:00:00"
          ],
          [
           "2019-04-22T00:00:00"
          ],
          [
           "2019-04-29T00:00:00"
          ],
          [
           "2019-05-06T00:00:00"
          ],
          [
           "2019-05-13T00:00:00"
          ],
          [
           "2019-05-20T00:00:00"
          ],
          [
           "2019-05-27T00:00:00"
          ],
          [
           "2019-06-03T00:00:00"
          ],
          [
           "2019-06-10T00:00:00"
          ],
          [
           "2019-06-17T00:00:00"
          ],
          [
           "2019-06-24T00:00:00"
          ],
          [
           "2019-07-01T00:00:00"
          ],
          [
           "2019-07-08T00:00:00"
          ],
          [
           "2019-07-15T00:00:00"
          ],
          [
           "2019-07-22T00:00:00"
          ],
          [
           "2019-07-29T00:00:00"
          ],
          [
           "2019-08-05T00:00:00"
          ],
          [
           "2019-08-12T00:00:00"
          ],
          [
           "2019-08-19T00:00:00"
          ],
          [
           "2019-08-26T00:00:00"
          ],
          [
           "2019-09-02T00:00:00"
          ],
          [
           "2019-09-09T00:00:00"
          ],
          [
           "2019-09-16T00:00:00"
          ],
          [
           "2019-09-23T00:00:00"
          ],
          [
           "2019-09-30T00:00:00"
          ],
          [
           "2019-10-07T00:00:00"
          ],
          [
           "2019-10-14T00:00:00"
          ],
          [
           "2019-10-21T00:00:00"
          ],
          [
           "2019-10-28T00:00:00"
          ],
          [
           "2019-11-04T00:00:00"
          ],
          [
           "2019-11-11T00:00:00"
          ],
          [
           "2019-11-18T00:00:00"
          ],
          [
           "2019-11-25T00:00:00"
          ],
          [
           "2019-12-02T00:00:00"
          ],
          [
           "2019-12-09T00:00:00"
          ],
          [
           "2019-12-16T00:00:00"
          ],
          [
           "2019-12-23T00:00:00"
          ],
          [
           "2019-12-30T00:00:00"
          ]
         ],
         "hovertemplate": "GOOG=%{x}<br>AAPL=%{y}<br>date=%{customdata[0]}<extra></extra>",
         "legendgroup": "",
         "marker": {
          "color": "#636efa",
          "symbol": "circle"
         },
         "mode": "markers",
         "name": "",
         "orientation": "v",
         "showlegend": false,
         "type": "scatter",
         "x": [
          1,
          1.018172278347936,
          1.032007866452698,
          1.066782783389724,
          1.0087731636550117,
          0.9415276737437316,
          0.99325918262539,
          1.0222821547641083,
          0.9788520214265992,
          1.0524482730908842,
          1.0303929312465263,
          0.926821104067592,
          0.9360932452590338,
          0.913638710861412,
          0.93380695379017,
          0.9734447261178653,
          0.9345146364100892,
          0.9509902470625956,
          0.9963982380519172,
          0.9674568868105002,
          0.9758943718805396,
          1.015668254641377,
          1.0169111849053498,
          1.0453898287179595,
          1.0483111519067918,
          1.0121753574512644,
          1.0344211867653972,
          1.0785588920381208,
          1.075011617811375,
          1.1236312044424703,
          1.1102129167272332,
          1.1228237368393843,
          1.0895729410299655,
          1.1074367837463466,
          1.1052048693141154,
          1.0567939333314087,
          1.0637798374890872,
          1.0579370795194665,
          1.0827776350267664,
          1.0500077089175164,
          1.007121903906116,
          0.9947651405743836,
          0.9720929301886708,
          0.959681788913054,
          0.9672663993407256,
          0.9630385756700248,
          0.9289168536315806,
          0.992923504040418,
          0.9404389054995582,
          0.945446952912676,
          0.8886892896888904,
          0.9408925313390586,
          0.9714034098401132,
          0.9591373489949891,
          0.9963982380519172,
          0.989802500200548,
          1.0077298024501202,
          0.9934950771344468,
          1.0103608540932627,
          1.0073850422758417,
          1.035165084150587,
          1.0363716889645844,
          1.0746032883264525,
          1.0936918990354445,
          1.064487521016258,
          1.095188886079836,
          1.1049145977684258,
          1.1216987538299403,
          1.1541874899828073,
          1.075456162061569,
          1.0562859304552756,
          1.0544986709579427,
          1.0283425342867192,
          1.001270175031893,
          0.9671666152648106,
          0.98468558802946,
          1.0178275181736574,
          0.980657443195294,
          1.0266368965939394,
          1.0387124690620373,
          1.025285100664745,
          1.1344366027859267,
          1.0832494231376286,
          1.0778240762422375,
          1.068379555417282,
          1.0445098208996275,
          1.0779056980467905,
          1.0931748145700046,
          1.12459294475006,
          1.115856106545024,
          1.1114649285805127,
          1.0968672799119472,
          1.10271900878617,
          1.129972884606169,
          1.1477913211905195,
          1.155602744537941,
          1.189742629754999,
          1.2110630442115171,
          1.1751993590303178,
          1.183927115646047,
          1.216279741365772,
          1.222820990588552,
          1.22441776261611,
          1.2265044859331442,
          1.213013658002661
         ],
         "xaxis": "x",
         "y": [
          1,
          1.0119428342857142,
          1.0197714685714288,
          0.9800571142857144,
          0.9171428571428571,
          0.8937714514285715,
          0.9853142457142856,
          1.002857142857143,
          1.006914325714286,
          1.02845712,
          1.0172571657142857,
          0.9425142971428572,
          0.9587428514285714,
          0.9621714571428572,
          0.99845712,
          0.9469714342857144,
          0.9275428971428572,
          1.0504571542857144,
          1.07765712,
          1.06462856,
          1.0776000114285715,
          1.0870857428571428,
          1.0954285542857145,
          1.0790856914285714,
          1.0566857028571428,
          1.0577714342857143,
          1.0741142914285715,
          1.093314297142857,
          1.0939428685714283,
          1.0913142628571428,
          1.1885143142857142,
          1.1858857085714285,
          1.2433142971428572,
          1.235200022857143,
          1.3007428857142855,
          1.2645714457142856,
          1.279085691428571,
          1.2437714514285716,
          1.2899428857142856,
          1.2816571028571428,
          1.2692000057142856,
          1.253199988571429,
          1.236000017142857,
          1.1855999771428571,
          1.1684000057142856,
          1.1058857085714286,
          0.9845142457142856,
          1.0204571542857144,
          0.9628000285714284,
          0.9455999771428572,
          0.8613142628571429,
          0.8927428342857143,
          0.8471999714285714,
          0.8702285314285714,
          0.8961143257142857,
          0.9014856857142858,
          0.95154288,
          0.9737714514285716,
          0.97382856,
          0.9884000057142855,
          0.9998285771428572,
          0.9880571657142858,
          1.0635428285714286,
          1.0917143028571428,
          1.0854285542857145,
          1.1257142857142857,
          1.1363999714285713,
          1.1649142914285715,
          1.1674285885714286,
          1.21,
          1.126742817142857,
          1.08,
          1.02268572,
          1.00040004,
          1.0865713942857145,
          1.1013714571428572,
          1.135885708571429,
          1.130971417142857,
          1.167028548571429,
          1.1617143028571428,
          1.15765712,
          1.1870857428571429,
          1.1658285942857145,
          1.1485143142857142,
          1.18,
          1.1579428514285717,
          1.1928000285714286,
          1.218628542857143,
          1.25,
          1.2441714057142856,
          1.25040004,
          1.2971999714285716,
          1.3497714685714286,
          1.3509143085714286,
          1.409028582857143,
          1.4618286114285712,
          1.4865143714285716,
          1.5186286285714288,
          1.4958857085714288,
          1.5271428571428571,
          1.5469142342857145,
          1.57228568,
          1.5968000114285714,
          1.6559999314285714,
          1.6779999657142857
         ],
         "yaxis": "y"
        },
        {
         "hovertemplate": "<b>OLS trendline</b><br>AAPL = 1.95191 * GOOG + -0.90356<br>R<sup>2</sup>=0.694937<br><br>GOOG=%{x}<br>AAPL=%{y} <b>(trend)</b><extra></extra>",
         "legendgroup": "",
         "marker": {
          "color": "#636efa",
          "symbol": "circle"
         },
         "mode": "lines",
         "name": "",
         "showlegend": false,
         "type": "scatter",
         "x": [
          0.8886892896888904,
          0.913638710861412,
          0.926821104067592,
          0.9289168536315806,
          0.93380695379017,
          0.9345146364100892,
          0.9360932452590338,
          0.9404389054995582,
          0.9408925313390586,
          0.9415276737437316,
          0.945446952912676,
          0.9509902470625956,
          0.9591373489949891,
          0.959681788913054,
          0.9630385756700248,
          0.9671666152648106,
          0.9672663993407256,
          0.9674568868105002,
          0.9714034098401132,
          0.9720929301886708,
          0.9734447261178653,
          0.9758943718805396,
          0.9788520214265992,
          0.980657443195294,
          0.98468558802946,
          0.989802500200548,
          0.992923504040418,
          0.99325918262539,
          0.9934950771344468,
          0.9947651405743836,
          0.9963982380519172,
          0.9963982380519172,
          1,
          1.001270175031893,
          1.007121903906116,
          1.0073850422758417,
          1.0077298024501202,
          1.0087731636550117,
          1.0103608540932627,
          1.0121753574512644,
          1.015668254641377,
          1.0169111849053498,
          1.0178275181736574,
          1.018172278347936,
          1.0222821547641083,
          1.025285100664745,
          1.0266368965939394,
          1.0283425342867192,
          1.0303929312465263,
          1.032007866452698,
          1.0344211867653972,
          1.035165084150587,
          1.0363716889645844,
          1.0387124690620373,
          1.0445098208996275,
          1.0453898287179595,
          1.0483111519067918,
          1.0500077089175164,
          1.0524482730908842,
          1.0544986709579427,
          1.0562859304552756,
          1.0567939333314087,
          1.0579370795194665,
          1.0637798374890872,
          1.064487521016258,
          1.066782783389724,
          1.068379555417282,
          1.0746032883264525,
          1.075011617811375,
          1.075456162061569,
          1.0778240762422375,
          1.0779056980467905,
          1.0785588920381208,
          1.0827776350267664,
          1.0832494231376286,
          1.0895729410299655,
          1.0931748145700046,
          1.0936918990354445,
          1.095188886079836,
          1.0968672799119472,
          1.10271900878617,
          1.1049145977684258,
          1.1052048693141154,
          1.1074367837463466,
          1.1102129167272332,
          1.1114649285805127,
          1.115856106545024,
          1.1216987538299403,
          1.1228237368393843,
          1.1236312044424703,
          1.12459294475006,
          1.129972884606169,
          1.1344366027859267,
          1.1477913211905195,
          1.1541874899828073,
          1.155602744537941,
          1.1751993590303178,
          1.183927115646047,
          1.189742629754999,
          1.2110630442115171,
          1.213013658002661,
          1.216279741365772,
          1.222820990588552,
          1.22441776261611,
          1.2265044859331442
         ],
         "xaxis": "x",
         "y": [
          0.831078321562053,
          0.8797772608170555,
          0.9055080608041253,
          0.9095987681598048,
          0.9191437868168431,
          0.9205251171764117,
          0.9236064141696594,
          0.9320887369703685,
          0.9329741722295504,
          0.9342139108659526,
          0.9418639776491464,
          0.9526839699532912,
          0.9685863517907871,
          0.969649047647116,
          0.9762011817924068,
          0.9842587294236169,
          0.9844534986175792,
          0.9848253123624855,
          0.992528556616475,
          0.9938744359191369,
          0.9965130152827939,
          1.0012944949559233,
          1.0070675505544946,
          1.0105915651773334,
          1.018454127568378,
          1.028441862084137,
          1.0345337700030208,
          1.035188983240463,
          1.0356494272839425,
          1.0381284724643414,
          1.0413161261700512,
          1.0413161261700512,
          1.0483464290018398,
          1.050825691999312,
          1.0622477200701028,
          1.0627613415843786,
          1.0634342812357092,
          1.0654708248327203,
          1.0685698482398562,
          1.0721115892765838,
          1.0789293982713917,
          1.0813554820271976,
          1.08314407895945,
          1.083817018610781,
          1.0918391134142136,
          1.0977005832651545,
          1.1003391626288113,
          1.1036684080576875,
          1.1076705913670248,
          1.1108227940158275,
          1.1155333698042726,
          1.1169853880023228,
          1.119340567873444,
          1.123909551938723,
          1.135225441114125,
          1.1369431341616925,
          1.1426452841047086,
          1.1459568048905662,
          1.150720558149807,
          1.1547227432300144,
          1.158211306795946,
          1.1592028809505166,
          1.16143419551236,
          1.172838713215465,
          1.174220045345904,
          1.1787001830664066,
          1.1818169328874308,
          1.1939650780803492,
          1.1947620990871601,
          1.1956298079324537,
          1.2002517551931957,
          1.2004110733302507,
          1.2016860469773576,
          1.2099206391595114,
          1.2108415254756006,
          1.2231844416333506,
          1.2302149622822127,
          1.2312242628506724,
          1.2341462417068647,
          1.2374223096649453,
          1.2488443377357359,
          1.2531299223084789,
          1.2536965052473477,
          1.258052993704775,
          1.2634717459261253,
          1.2659155560958197,
          1.2744867252413057,
          1.285891026898208,
          1.2880868886322734,
          1.2896629899566752,
          1.2915402171875008,
          1.3020413571713325,
          1.3107541180399847,
          1.336821280715054,
          1.3493060046421732,
          1.3520684493151078,
          1.3903192100108717,
          1.4073549755431785,
          1.418706315775487,
          1.4603217729570344,
          1.4641291888432795,
          1.4705042784376263,
          1.4832721858110784,
          1.4863889356321032,
          1.4904620245969955
         ],
         "yaxis": "y"
        }
       ],
       "layout": {
        "height": 400,
        "legend": {
         "tracegroupgap": 0
        },
        "margin": {
         "t": 60
        },
        "template": {
         "data": {
          "bar": [
           {
            "error_x": {
             "color": "#2a3f5f"
            },
            "error_y": {
             "color": "#2a3f5f"
            },
            "marker": {
             "line": {
              "color": "white",
              "width": 0.5
             },
             "pattern": {
              "fillmode": "overlay",
              "size": 10,
              "solidity": 0.2
             }
            },
            "type": "bar"
           }
          ],
          "barpolar": [
           {
            "marker": {
             "line": {
              "color": "white",
              "width": 0.5
             },
             "pattern": {
              "fillmode": "overlay",
              "size": 10,
              "solidity": 0.2
             }
            },
            "type": "barpolar"
           }
          ],
          "carpet": [
           {
            "aaxis": {
             "endlinecolor": "#2a3f5f",
             "gridcolor": "#C8D4E3",
             "linecolor": "#C8D4E3",
             "minorgridcolor": "#C8D4E3",
             "startlinecolor": "#2a3f5f"
            },
            "baxis": {
             "endlinecolor": "#2a3f5f",
             "gridcolor": "#C8D4E3",
             "linecolor": "#C8D4E3",
             "minorgridcolor": "#C8D4E3",
             "startlinecolor": "#2a3f5f"
            },
            "type": "carpet"
           }
          ],
          "choropleth": [
           {
            "colorbar": {
             "outlinewidth": 0,
             "ticks": ""
            },
            "type": "choropleth"
           }
          ],
          "contour": [
           {
            "colorbar": {
             "outlinewidth": 0,
             "ticks": ""
            },
            "colorscale": [
             [
              0,
              "#0d0887"
             ],
             [
              0.1111111111111111,
              "#46039f"
             ],
             [
              0.2222222222222222,
              "#7201a8"
             ],
             [
              0.3333333333333333,
              "#9c179e"
             ],
             [
              0.4444444444444444,
              "#bd3786"
             ],
             [
              0.5555555555555556,
              "#d8576b"
             ],
             [
              0.6666666666666666,
              "#ed7953"
             ],
             [
              0.7777777777777778,
              "#fb9f3a"
             ],
             [
              0.8888888888888888,
              "#fdca26"
             ],
             [
              1,
              "#f0f921"
             ]
            ],
            "type": "contour"
           }
          ],
          "contourcarpet": [
           {
            "colorbar": {
             "outlinewidth": 0,
             "ticks": ""
            },
            "type": "contourcarpet"
           }
          ],
          "heatmap": [
           {
            "colorbar": {
             "outlinewidth": 0,
             "ticks": ""
            },
            "colorscale": [
             [
              0,
              "#0d0887"
             ],
             [
              0.1111111111111111,
              "#46039f"
             ],
             [
              0.2222222222222222,
              "#7201a8"
             ],
             [
              0.3333333333333333,
              "#9c179e"
             ],
             [
              0.4444444444444444,
              "#bd3786"
             ],
             [
              0.5555555555555556,
              "#d8576b"
             ],
             [
              0.6666666666666666,
              "#ed7953"
             ],
             [
              0.7777777777777778,
              "#fb9f3a"
             ],
             [
              0.8888888888888888,
              "#fdca26"
             ],
             [
              1,
              "#f0f921"
             ]
            ],
            "type": "heatmap"
           }
          ],
          "heatmapgl": [
           {
            "colorbar": {
             "outlinewidth": 0,
             "ticks": ""
            },
            "colorscale": [
             [
              0,
              "#0d0887"
             ],
             [
              0.1111111111111111,
              "#46039f"
             ],
             [
              0.2222222222222222,
              "#7201a8"
             ],
             [
              0.3333333333333333,
              "#9c179e"
             ],
             [
              0.4444444444444444,
              "#bd3786"
             ],
             [
              0.5555555555555556,
              "#d8576b"
             ],
             [
              0.6666666666666666,
              "#ed7953"
             ],
             [
              0.7777777777777778,
              "#fb9f3a"
             ],
             [
              0.8888888888888888,
              "#fdca26"
             ],
             [
              1,
              "#f0f921"
             ]
            ],
            "type": "heatmapgl"
           }
          ],
          "histogram": [
           {
            "marker": {
             "pattern": {
              "fillmode": "overlay",
              "size": 10,
              "solidity": 0.2
             }
            },
            "type": "histogram"
           }
          ],
          "histogram2d": [
           {
            "colorbar": {
             "outlinewidth": 0,
             "ticks": ""
            },
            "colorscale": [
             [
              0,
              "#0d0887"
             ],
             [
              0.1111111111111111,
              "#46039f"
             ],
             [
              0.2222222222222222,
              "#7201a8"
             ],
             [
              0.3333333333333333,
              "#9c179e"
             ],
             [
              0.4444444444444444,
              "#bd3786"
             ],
             [
              0.5555555555555556,
              "#d8576b"
             ],
             [
              0.6666666666666666,
              "#ed7953"
             ],
             [
              0.7777777777777778,
              "#fb9f3a"
             ],
             [
              0.8888888888888888,
              "#fdca26"
             ],
             [
              1,
              "#f0f921"
             ]
            ],
            "type": "histogram2d"
           }
          ],
          "histogram2dcontour": [
           {
            "colorbar": {
             "outlinewidth": 0,
             "ticks": ""
            },
            "colorscale": [
             [
              0,
              "#0d0887"
             ],
             [
              0.1111111111111111,
              "#46039f"
             ],
             [
              0.2222222222222222,
              "#7201a8"
             ],
             [
              0.3333333333333333,
              "#9c179e"
             ],
             [
              0.4444444444444444,
              "#bd3786"
             ],
             [
              0.5555555555555556,
              "#d8576b"
             ],
             [
              0.6666666666666666,
              "#ed7953"
             ],
             [
              0.7777777777777778,
              "#fb9f3a"
             ],
             [
              0.8888888888888888,
              "#fdca26"
             ],
             [
              1,
              "#f0f921"
             ]
            ],
            "type": "histogram2dcontour"
           }
          ],
          "mesh3d": [
           {
            "colorbar": {
             "outlinewidth": 0,
             "ticks": ""
            },
            "type": "mesh3d"
           }
          ],
          "parcoords": [
           {
            "line": {
             "colorbar": {
              "outlinewidth": 0,
              "ticks": ""
             }
            },
            "type": "parcoords"
           }
          ],
          "pie": [
           {
            "automargin": true,
            "type": "pie"
           }
          ],
          "scatter": [
           {
            "fillpattern": {
             "fillmode": "overlay",
             "size": 10,
             "solidity": 0.2
            },
            "type": "scatter"
           }
          ],
          "scatter3d": [
           {
            "line": {
             "colorbar": {
              "outlinewidth": 0,
              "ticks": ""
             }
            },
            "marker": {
             "colorbar": {
              "outlinewidth": 0,
              "ticks": ""
             }
            },
            "type": "scatter3d"
           }
          ],
          "scattercarpet": [
           {
            "marker": {
             "colorbar": {
              "outlinewidth": 0,
              "ticks": ""
             }
            },
            "type": "scattercarpet"
           }
          ],
          "scattergeo": [
           {
            "marker": {
             "colorbar": {
              "outlinewidth": 0,
              "ticks": ""
             }
            },
            "type": "scattergeo"
           }
          ],
          "scattergl": [
           {
            "marker": {
             "colorbar": {
              "outlinewidth": 0,
              "ticks": ""
             }
            },
            "type": "scattergl"
           }
          ],
          "scattermapbox": [
           {
            "marker": {
             "colorbar": {
              "outlinewidth": 0,
              "ticks": ""
             }
            },
            "type": "scattermapbox"
           }
          ],
          "scatterpolar": [
           {
            "marker": {
             "colorbar": {
              "outlinewidth": 0,
              "ticks": ""
             }
            },
            "type": "scatterpolar"
           }
          ],
          "scatterpolargl": [
           {
            "marker": {
             "colorbar": {
              "outlinewidth": 0,
              "ticks": ""
             }
            },
            "type": "scatterpolargl"
           }
          ],
          "scatterternary": [
           {
            "marker": {
             "colorbar": {
              "outlinewidth": 0,
              "ticks": ""
             }
            },
            "type": "scatterternary"
           }
          ],
          "surface": [
           {
            "colorbar": {
             "outlinewidth": 0,
             "ticks": ""
            },
            "colorscale": [
             [
              0,
              "#0d0887"
             ],
             [
              0.1111111111111111,
              "#46039f"
             ],
             [
              0.2222222222222222,
              "#7201a8"
             ],
             [
              0.3333333333333333,
              "#9c179e"
             ],
             [
              0.4444444444444444,
              "#bd3786"
             ],
             [
              0.5555555555555556,
              "#d8576b"
             ],
             [
              0.6666666666666666,
              "#ed7953"
             ],
             [
              0.7777777777777778,
              "#fb9f3a"
             ],
             [
              0.8888888888888888,
              "#fdca26"
             ],
             [
              1,
              "#f0f921"
             ]
            ],
            "type": "surface"
           }
          ],
          "table": [
           {
            "cells": {
             "fill": {
              "color": "#EBF0F8"
             },
             "line": {
              "color": "white"
             }
            },
            "header": {
             "fill": {
              "color": "#C8D4E3"
             },
             "line": {
              "color": "white"
             }
            },
            "type": "table"
           }
          ]
         },
         "layout": {
          "annotationdefaults": {
           "arrowcolor": "#2a3f5f",
           "arrowhead": 0,
           "arrowwidth": 1
          },
          "autotypenumbers": "strict",
          "coloraxis": {
           "colorbar": {
            "outlinewidth": 0,
            "ticks": ""
           }
          },
          "colorscale": {
           "diverging": [
            [
             0,
             "#8e0152"
            ],
            [
             0.1,
             "#c51b7d"
            ],
            [
             0.2,
             "#de77ae"
            ],
            [
             0.3,
             "#f1b6da"
            ],
            [
             0.4,
             "#fde0ef"
            ],
            [
             0.5,
             "#f7f7f7"
            ],
            [
             0.6,
             "#e6f5d0"
            ],
            [
             0.7,
             "#b8e186"
            ],
            [
             0.8,
             "#7fbc41"
            ],
            [
             0.9,
             "#4d9221"
            ],
            [
             1,
             "#276419"
            ]
           ],
           "sequential": [
            [
             0,
             "#0d0887"
            ],
            [
             0.1111111111111111,
             "#46039f"
            ],
            [
             0.2222222222222222,
             "#7201a8"
            ],
            [
             0.3333333333333333,
             "#9c179e"
            ],
            [
             0.4444444444444444,
             "#bd3786"
            ],
            [
             0.5555555555555556,
             "#d8576b"
            ],
            [
             0.6666666666666666,
             "#ed7953"
            ],
            [
             0.7777777777777778,
             "#fb9f3a"
            ],
            [
             0.8888888888888888,
             "#fdca26"
            ],
            [
             1,
             "#f0f921"
            ]
           ],
           "sequentialminus": [
            [
             0,
             "#0d0887"
            ],
            [
             0.1111111111111111,
             "#46039f"
            ],
            [
             0.2222222222222222,
             "#7201a8"
            ],
            [
             0.3333333333333333,
             "#9c179e"
            ],
            [
             0.4444444444444444,
             "#bd3786"
            ],
            [
             0.5555555555555556,
             "#d8576b"
            ],
            [
             0.6666666666666666,
             "#ed7953"
            ],
            [
             0.7777777777777778,
             "#fb9f3a"
            ],
            [
             0.8888888888888888,
             "#fdca26"
            ],
            [
             1,
             "#f0f921"
            ]
           ]
          },
          "colorway": [
           "#636efa",
           "#EF553B",
           "#00cc96",
           "#ab63fa",
           "#FFA15A",
           "#19d3f3",
           "#FF6692",
           "#B6E880",
           "#FF97FF",
           "#FECB52"
          ],
          "font": {
           "color": "#2a3f5f"
          },
          "geo": {
           "bgcolor": "white",
           "lakecolor": "white",
           "landcolor": "white",
           "showlakes": true,
           "showland": true,
           "subunitcolor": "#C8D4E3"
          },
          "hoverlabel": {
           "align": "left"
          },
          "hovermode": "closest",
          "mapbox": {
           "style": "light"
          },
          "paper_bgcolor": "white",
          "plot_bgcolor": "white",
          "polar": {
           "angularaxis": {
            "gridcolor": "#EBF0F8",
            "linecolor": "#EBF0F8",
            "ticks": ""
           },
           "bgcolor": "white",
           "radialaxis": {
            "gridcolor": "#EBF0F8",
            "linecolor": "#EBF0F8",
            "ticks": ""
           }
          },
          "scene": {
           "xaxis": {
            "backgroundcolor": "white",
            "gridcolor": "#DFE8F3",
            "gridwidth": 2,
            "linecolor": "#EBF0F8",
            "showbackground": true,
            "ticks": "",
            "zerolinecolor": "#EBF0F8"
           },
           "yaxis": {
            "backgroundcolor": "white",
            "gridcolor": "#DFE8F3",
            "gridwidth": 2,
            "linecolor": "#EBF0F8",
            "showbackground": true,
            "ticks": "",
            "zerolinecolor": "#EBF0F8"
           },
           "zaxis": {
            "backgroundcolor": "white",
            "gridcolor": "#DFE8F3",
            "gridwidth": 2,
            "linecolor": "#EBF0F8",
            "showbackground": true,
            "ticks": "",
            "zerolinecolor": "#EBF0F8"
           }
          },
          "shapedefaults": {
           "line": {
            "color": "#2a3f5f"
           }
          },
          "ternary": {
           "aaxis": {
            "gridcolor": "#DFE8F3",
            "linecolor": "#A2B1C6",
            "ticks": ""
           },
           "baxis": {
            "gridcolor": "#DFE8F3",
            "linecolor": "#A2B1C6",
            "ticks": ""
           },
           "bgcolor": "white",
           "caxis": {
            "gridcolor": "#DFE8F3",
            "linecolor": "#A2B1C6",
            "ticks": ""
           }
          },
          "title": {
           "x": 0.05
          },
          "xaxis": {
           "automargin": true,
           "gridcolor": "#EBF0F8",
           "linecolor": "#EBF0F8",
           "ticks": "",
           "title": {
            "standoff": 15
           },
           "zerolinecolor": "#EBF0F8",
           "zerolinewidth": 2
          },
          "yaxis": {
           "automargin": true,
           "gridcolor": "#EBF0F8",
           "linecolor": "#EBF0F8",
           "ticks": "",
           "title": {
            "standoff": 15
           },
           "zerolinecolor": "#EBF0F8",
           "zerolinewidth": 2
          }
         }
        },
        "xaxis": {
         "anchor": "y",
         "domain": [
          0,
          1
         ],
         "title": {
          "text": "GOOG"
         }
        },
        "yaxis": {
         "anchor": "x",
         "domain": [
          0,
          1
         ],
         "title": {
          "text": "AAPL"
         }
        }
       }
      },
      "text/html": [
       "<div>                            <div id=\"9e9c6a01-cfe6-488f-9462-ccda6035e471\" class=\"plotly-graph-div\" style=\"height:400px; width:100%;\"></div>            <script type=\"text/javascript\">                require([\"plotly\"], function(Plotly) {                    window.PLOTLYENV=window.PLOTLYENV || {};                                    if (document.getElementById(\"9e9c6a01-cfe6-488f-9462-ccda6035e471\")) {                    Plotly.newPlot(                        \"9e9c6a01-cfe6-488f-9462-ccda6035e471\",                        [{\"customdata\":[[\"2018-01-01T00:00:00\"],[\"2018-01-08T00:00:00\"],[\"2018-01-15T00:00:00\"],[\"2018-01-22T00:00:00\"],[\"2018-01-29T00:00:00\"],[\"2018-02-05T00:00:00\"],[\"2018-02-12T00:00:00\"],[\"2018-02-19T00:00:00\"],[\"2018-02-26T00:00:00\"],[\"2018-03-05T00:00:00\"],[\"2018-03-12T00:00:00\"],[\"2018-03-19T00:00:00\"],[\"2018-03-26T00:00:00\"],[\"2018-04-02T00:00:00\"],[\"2018-04-09T00:00:00\"],[\"2018-04-16T00:00:00\"],[\"2018-04-23T00:00:00\"],[\"2018-04-30T00:00:00\"],[\"2018-05-07T00:00:00\"],[\"2018-05-14T00:00:00\"],[\"2018-05-21T00:00:00\"],[\"2018-05-28T00:00:00\"],[\"2018-06-04T00:00:00\"],[\"2018-06-11T00:00:00\"],[\"2018-06-18T00:00:00\"],[\"2018-06-25T00:00:00\"],[\"2018-07-02T00:00:00\"],[\"2018-07-09T00:00:00\"],[\"2018-07-16T00:00:00\"],[\"2018-07-23T00:00:00\"],[\"2018-07-30T00:00:00\"],[\"2018-08-06T00:00:00\"],[\"2018-08-13T00:00:00\"],[\"2018-08-20T00:00:00\"],[\"2018-08-27T00:00:00\"],[\"2018-09-03T00:00:00\"],[\"2018-09-10T00:00:00\"],[\"2018-09-17T00:00:00\"],[\"2018-09-24T00:00:00\"],[\"2018-10-01T00:00:00\"],[\"2018-10-08T00:00:00\"],[\"2018-10-15T00:00:00\"],[\"2018-10-22T00:00:00\"],[\"2018-10-29T00:00:00\"],[\"2018-11-05T00:00:00\"],[\"2018-11-12T00:00:00\"],[\"2018-11-19T00:00:00\"],[\"2018-11-26T00:00:00\"],[\"2018-12-03T00:00:00\"],[\"2018-12-10T00:00:00\"],[\"2018-12-17T00:00:00\"],[\"2018-12-24T00:00:00\"],[\"2018-12-31T00:00:00\"],[\"2019-01-07T00:00:00\"],[\"2019-01-14T00:00:00\"],[\"2019-01-21T00:00:00\"],[\"2019-01-28T00:00:00\"],[\"2019-02-04T00:00:00\"],[\"2019-02-11T00:00:00\"],[\"2019-02-18T00:00:00\"],[\"2019-02-25T00:00:00\"],[\"2019-03-04T00:00:00\"],[\"2019-03-11T00:00:00\"],[\"2019-03-18T00:00:00\"],[\"2019-03-25T00:00:00\"],[\"2019-04-01T00:00:00\"],[\"2019-04-08T00:00:00\"],[\"2019-04-15T00:00:00\"],[\"2019-04-22T00:00:00\"],[\"2019-04-29T00:00:00\"],[\"2019-05-06T00:00:00\"],[\"2019-05-13T00:00:00\"],[\"2019-05-20T00:00:00\"],[\"2019-05-27T00:00:00\"],[\"2019-06-03T00:00:00\"],[\"2019-06-10T00:00:00\"],[\"2019-06-17T00:00:00\"],[\"2019-06-24T00:00:00\"],[\"2019-07-01T00:00:00\"],[\"2019-07-08T00:00:00\"],[\"2019-07-15T00:00:00\"],[\"2019-07-22T00:00:00\"],[\"2019-07-29T00:00:00\"],[\"2019-08-05T00:00:00\"],[\"2019-08-12T00:00:00\"],[\"2019-08-19T00:00:00\"],[\"2019-08-26T00:00:00\"],[\"2019-09-02T00:00:00\"],[\"2019-09-09T00:00:00\"],[\"2019-09-16T00:00:00\"],[\"2019-09-23T00:00:00\"],[\"2019-09-30T00:00:00\"],[\"2019-10-07T00:00:00\"],[\"2019-10-14T00:00:00\"],[\"2019-10-21T00:00:00\"],[\"2019-10-28T00:00:00\"],[\"2019-11-04T00:00:00\"],[\"2019-11-11T00:00:00\"],[\"2019-11-18T00:00:00\"],[\"2019-11-25T00:00:00\"],[\"2019-12-02T00:00:00\"],[\"2019-12-09T00:00:00\"],[\"2019-12-16T00:00:00\"],[\"2019-12-23T00:00:00\"],[\"2019-12-30T00:00:00\"]],\"hovertemplate\":\"GOOG=%{x}<br>AAPL=%{y}<br>date=%{customdata[0]}<extra></extra>\",\"legendgroup\":\"\",\"marker\":{\"color\":\"#636efa\",\"symbol\":\"circle\"},\"mode\":\"markers\",\"name\":\"\",\"orientation\":\"v\",\"showlegend\":false,\"x\":[1.0,1.018172278347936,1.032007866452698,1.066782783389724,1.0087731636550117,0.9415276737437316,0.99325918262539,1.0222821547641083,0.9788520214265992,1.0524482730908842,1.0303929312465263,0.926821104067592,0.9360932452590338,0.913638710861412,0.93380695379017,0.9734447261178653,0.9345146364100892,0.9509902470625956,0.9963982380519172,0.9674568868105002,0.9758943718805396,1.015668254641377,1.0169111849053498,1.0453898287179595,1.0483111519067918,1.0121753574512644,1.0344211867653972,1.0785588920381208,1.075011617811375,1.1236312044424703,1.1102129167272332,1.1228237368393843,1.0895729410299655,1.1074367837463466,1.1052048693141154,1.0567939333314087,1.0637798374890872,1.0579370795194665,1.0827776350267664,1.0500077089175164,1.007121903906116,0.9947651405743836,0.9720929301886708,0.959681788913054,0.9672663993407256,0.9630385756700248,0.9289168536315806,0.992923504040418,0.9404389054995582,0.945446952912676,0.8886892896888904,0.9408925313390586,0.9714034098401132,0.9591373489949891,0.9963982380519172,0.989802500200548,1.0077298024501202,0.9934950771344468,1.0103608540932627,1.0073850422758417,1.035165084150587,1.0363716889645844,1.0746032883264525,1.0936918990354445,1.064487521016258,1.095188886079836,1.1049145977684258,1.1216987538299403,1.1541874899828073,1.075456162061569,1.0562859304552756,1.0544986709579427,1.0283425342867192,1.001270175031893,0.9671666152648106,0.98468558802946,1.0178275181736574,0.980657443195294,1.0266368965939394,1.0387124690620373,1.025285100664745,1.1344366027859267,1.0832494231376286,1.0778240762422375,1.068379555417282,1.0445098208996275,1.0779056980467905,1.0931748145700046,1.12459294475006,1.115856106545024,1.1114649285805127,1.0968672799119472,1.10271900878617,1.129972884606169,1.1477913211905195,1.155602744537941,1.189742629754999,1.2110630442115171,1.1751993590303178,1.183927115646047,1.216279741365772,1.222820990588552,1.22441776261611,1.2265044859331442,1.213013658002661],\"xaxis\":\"x\",\"y\":[1.0,1.0119428342857142,1.0197714685714288,0.9800571142857144,0.9171428571428571,0.8937714514285715,0.9853142457142856,1.002857142857143,1.006914325714286,1.02845712,1.0172571657142857,0.9425142971428572,0.9587428514285714,0.9621714571428572,0.99845712,0.9469714342857144,0.9275428971428572,1.0504571542857144,1.07765712,1.06462856,1.0776000114285715,1.0870857428571428,1.0954285542857145,1.0790856914285714,1.0566857028571428,1.0577714342857143,1.0741142914285715,1.093314297142857,1.0939428685714283,1.0913142628571428,1.1885143142857142,1.1858857085714285,1.2433142971428572,1.235200022857143,1.3007428857142855,1.2645714457142856,1.279085691428571,1.2437714514285716,1.2899428857142856,1.2816571028571428,1.2692000057142856,1.253199988571429,1.236000017142857,1.1855999771428571,1.1684000057142856,1.1058857085714286,0.9845142457142856,1.0204571542857144,0.9628000285714284,0.9455999771428572,0.8613142628571429,0.8927428342857143,0.8471999714285714,0.8702285314285714,0.8961143257142857,0.9014856857142858,0.95154288,0.9737714514285716,0.97382856,0.9884000057142855,0.9998285771428572,0.9880571657142858,1.0635428285714286,1.0917143028571428,1.0854285542857145,1.1257142857142857,1.1363999714285713,1.1649142914285715,1.1674285885714286,1.21,1.126742817142857,1.08,1.02268572,1.00040004,1.0865713942857145,1.1013714571428572,1.135885708571429,1.130971417142857,1.167028548571429,1.1617143028571428,1.15765712,1.1870857428571429,1.1658285942857145,1.1485143142857142,1.18,1.1579428514285717,1.1928000285714286,1.218628542857143,1.25,1.2441714057142856,1.25040004,1.2971999714285716,1.3497714685714286,1.3509143085714286,1.409028582857143,1.4618286114285712,1.4865143714285716,1.5186286285714288,1.4958857085714288,1.5271428571428571,1.5469142342857145,1.57228568,1.5968000114285714,1.6559999314285714,1.6779999657142857],\"yaxis\":\"y\",\"type\":\"scatter\"},{\"hovertemplate\":\"<b>OLS trendline</b><br>AAPL = 1.95191 * GOOG + -0.90356<br>R<sup>2</sup>=0.694937<br><br>GOOG=%{x}<br>AAPL=%{y} <b>(trend)</b><extra></extra>\",\"legendgroup\":\"\",\"marker\":{\"color\":\"#636efa\",\"symbol\":\"circle\"},\"mode\":\"lines\",\"name\":\"\",\"showlegend\":false,\"x\":[0.8886892896888904,0.913638710861412,0.926821104067592,0.9289168536315806,0.93380695379017,0.9345146364100892,0.9360932452590338,0.9404389054995582,0.9408925313390586,0.9415276737437316,0.945446952912676,0.9509902470625956,0.9591373489949891,0.959681788913054,0.9630385756700248,0.9671666152648106,0.9672663993407256,0.9674568868105002,0.9714034098401132,0.9720929301886708,0.9734447261178653,0.9758943718805396,0.9788520214265992,0.980657443195294,0.98468558802946,0.989802500200548,0.992923504040418,0.99325918262539,0.9934950771344468,0.9947651405743836,0.9963982380519172,0.9963982380519172,1.0,1.001270175031893,1.007121903906116,1.0073850422758417,1.0077298024501202,1.0087731636550117,1.0103608540932627,1.0121753574512644,1.015668254641377,1.0169111849053498,1.0178275181736574,1.018172278347936,1.0222821547641083,1.025285100664745,1.0266368965939394,1.0283425342867192,1.0303929312465263,1.032007866452698,1.0344211867653972,1.035165084150587,1.0363716889645844,1.0387124690620373,1.0445098208996275,1.0453898287179595,1.0483111519067918,1.0500077089175164,1.0524482730908842,1.0544986709579427,1.0562859304552756,1.0567939333314087,1.0579370795194665,1.0637798374890872,1.064487521016258,1.066782783389724,1.068379555417282,1.0746032883264525,1.075011617811375,1.075456162061569,1.0778240762422375,1.0779056980467905,1.0785588920381208,1.0827776350267664,1.0832494231376286,1.0895729410299655,1.0931748145700046,1.0936918990354445,1.095188886079836,1.0968672799119472,1.10271900878617,1.1049145977684258,1.1052048693141154,1.1074367837463466,1.1102129167272332,1.1114649285805127,1.115856106545024,1.1216987538299403,1.1228237368393843,1.1236312044424703,1.12459294475006,1.129972884606169,1.1344366027859267,1.1477913211905195,1.1541874899828073,1.155602744537941,1.1751993590303178,1.183927115646047,1.189742629754999,1.2110630442115171,1.213013658002661,1.216279741365772,1.222820990588552,1.22441776261611,1.2265044859331442],\"xaxis\":\"x\",\"y\":[0.831078321562053,0.8797772608170555,0.9055080608041253,0.9095987681598048,0.9191437868168431,0.9205251171764117,0.9236064141696594,0.9320887369703685,0.9329741722295504,0.9342139108659526,0.9418639776491464,0.9526839699532912,0.9685863517907871,0.969649047647116,0.9762011817924068,0.9842587294236169,0.9844534986175792,0.9848253123624855,0.992528556616475,0.9938744359191369,0.9965130152827939,1.0012944949559233,1.0070675505544946,1.0105915651773334,1.018454127568378,1.028441862084137,1.0345337700030208,1.035188983240463,1.0356494272839425,1.0381284724643414,1.0413161261700512,1.0413161261700512,1.0483464290018398,1.050825691999312,1.0622477200701028,1.0627613415843786,1.0634342812357092,1.0654708248327203,1.0685698482398562,1.0721115892765838,1.0789293982713917,1.0813554820271976,1.08314407895945,1.083817018610781,1.0918391134142136,1.0977005832651545,1.1003391626288113,1.1036684080576875,1.1076705913670248,1.1108227940158275,1.1155333698042726,1.1169853880023228,1.119340567873444,1.123909551938723,1.135225441114125,1.1369431341616925,1.1426452841047086,1.1459568048905662,1.150720558149807,1.1547227432300144,1.158211306795946,1.1592028809505166,1.16143419551236,1.172838713215465,1.174220045345904,1.1787001830664066,1.1818169328874308,1.1939650780803492,1.1947620990871601,1.1956298079324537,1.2002517551931957,1.2004110733302507,1.2016860469773576,1.2099206391595114,1.2108415254756006,1.2231844416333506,1.2302149622822127,1.2312242628506724,1.2341462417068647,1.2374223096649453,1.2488443377357359,1.2531299223084789,1.2536965052473477,1.258052993704775,1.2634717459261253,1.2659155560958197,1.2744867252413057,1.285891026898208,1.2880868886322734,1.2896629899566752,1.2915402171875008,1.3020413571713325,1.3107541180399847,1.336821280715054,1.3493060046421732,1.3520684493151078,1.3903192100108717,1.4073549755431785,1.418706315775487,1.4603217729570344,1.4641291888432795,1.4705042784376263,1.4832721858110784,1.4863889356321032,1.4904620245969955],\"yaxis\":\"y\",\"type\":\"scatter\"}],                        {\"template\":{\"data\":{\"barpolar\":[{\"marker\":{\"line\":{\"color\":\"white\",\"width\":0.5},\"pattern\":{\"fillmode\":\"overlay\",\"size\":10,\"solidity\":0.2}},\"type\":\"barpolar\"}],\"bar\":[{\"error_x\":{\"color\":\"#2a3f5f\"},\"error_y\":{\"color\":\"#2a3f5f\"},\"marker\":{\"line\":{\"color\":\"white\",\"width\":0.5},\"pattern\":{\"fillmode\":\"overlay\",\"size\":10,\"solidity\":0.2}},\"type\":\"bar\"}],\"carpet\":[{\"aaxis\":{\"endlinecolor\":\"#2a3f5f\",\"gridcolor\":\"#C8D4E3\",\"linecolor\":\"#C8D4E3\",\"minorgridcolor\":\"#C8D4E3\",\"startlinecolor\":\"#2a3f5f\"},\"baxis\":{\"endlinecolor\":\"#2a3f5f\",\"gridcolor\":\"#C8D4E3\",\"linecolor\":\"#C8D4E3\",\"minorgridcolor\":\"#C8D4E3\",\"startlinecolor\":\"#2a3f5f\"},\"type\":\"carpet\"}],\"choropleth\":[{\"colorbar\":{\"outlinewidth\":0,\"ticks\":\"\"},\"type\":\"choropleth\"}],\"contourcarpet\":[{\"colorbar\":{\"outlinewidth\":0,\"ticks\":\"\"},\"type\":\"contourcarpet\"}],\"contour\":[{\"colorbar\":{\"outlinewidth\":0,\"ticks\":\"\"},\"colorscale\":[[0.0,\"#0d0887\"],[0.1111111111111111,\"#46039f\"],[0.2222222222222222,\"#7201a8\"],[0.3333333333333333,\"#9c179e\"],[0.4444444444444444,\"#bd3786\"],[0.5555555555555556,\"#d8576b\"],[0.6666666666666666,\"#ed7953\"],[0.7777777777777778,\"#fb9f3a\"],[0.8888888888888888,\"#fdca26\"],[1.0,\"#f0f921\"]],\"type\":\"contour\"}],\"heatmapgl\":[{\"colorbar\":{\"outlinewidth\":0,\"ticks\":\"\"},\"colorscale\":[[0.0,\"#0d0887\"],[0.1111111111111111,\"#46039f\"],[0.2222222222222222,\"#7201a8\"],[0.3333333333333333,\"#9c179e\"],[0.4444444444444444,\"#bd3786\"],[0.5555555555555556,\"#d8576b\"],[0.6666666666666666,\"#ed7953\"],[0.7777777777777778,\"#fb9f3a\"],[0.8888888888888888,\"#fdca26\"],[1.0,\"#f0f921\"]],\"type\":\"heatmapgl\"}],\"heatmap\":[{\"colorbar\":{\"outlinewidth\":0,\"ticks\":\"\"},\"colorscale\":[[0.0,\"#0d0887\"],[0.1111111111111111,\"#46039f\"],[0.2222222222222222,\"#7201a8\"],[0.3333333333333333,\"#9c179e\"],[0.4444444444444444,\"#bd3786\"],[0.5555555555555556,\"#d8576b\"],[0.6666666666666666,\"#ed7953\"],[0.7777777777777778,\"#fb9f3a\"],[0.8888888888888888,\"#fdca26\"],[1.0,\"#f0f921\"]],\"type\":\"heatmap\"}],\"histogram2dcontour\":[{\"colorbar\":{\"outlinewidth\":0,\"ticks\":\"\"},\"colorscale\":[[0.0,\"#0d0887\"],[0.1111111111111111,\"#46039f\"],[0.2222222222222222,\"#7201a8\"],[0.3333333333333333,\"#9c179e\"],[0.4444444444444444,\"#bd3786\"],[0.5555555555555556,\"#d8576b\"],[0.6666666666666666,\"#ed7953\"],[0.7777777777777778,\"#fb9f3a\"],[0.8888888888888888,\"#fdca26\"],[1.0,\"#f0f921\"]],\"type\":\"histogram2dcontour\"}],\"histogram2d\":[{\"colorbar\":{\"outlinewidth\":0,\"ticks\":\"\"},\"colorscale\":[[0.0,\"#0d0887\"],[0.1111111111111111,\"#46039f\"],[0.2222222222222222,\"#7201a8\"],[0.3333333333333333,\"#9c179e\"],[0.4444444444444444,\"#bd3786\"],[0.5555555555555556,\"#d8576b\"],[0.6666666666666666,\"#ed7953\"],[0.7777777777777778,\"#fb9f3a\"],[0.8888888888888888,\"#fdca26\"],[1.0,\"#f0f921\"]],\"type\":\"histogram2d\"}],\"histogram\":[{\"marker\":{\"pattern\":{\"fillmode\":\"overlay\",\"size\":10,\"solidity\":0.2}},\"type\":\"histogram\"}],\"mesh3d\":[{\"colorbar\":{\"outlinewidth\":0,\"ticks\":\"\"},\"type\":\"mesh3d\"}],\"parcoords\":[{\"line\":{\"colorbar\":{\"outlinewidth\":0,\"ticks\":\"\"}},\"type\":\"parcoords\"}],\"pie\":[{\"automargin\":true,\"type\":\"pie\"}],\"scatter3d\":[{\"line\":{\"colorbar\":{\"outlinewidth\":0,\"ticks\":\"\"}},\"marker\":{\"colorbar\":{\"outlinewidth\":0,\"ticks\":\"\"}},\"type\":\"scatter3d\"}],\"scattercarpet\":[{\"marker\":{\"colorbar\":{\"outlinewidth\":0,\"ticks\":\"\"}},\"type\":\"scattercarpet\"}],\"scattergeo\":[{\"marker\":{\"colorbar\":{\"outlinewidth\":0,\"ticks\":\"\"}},\"type\":\"scattergeo\"}],\"scattergl\":[{\"marker\":{\"colorbar\":{\"outlinewidth\":0,\"ticks\":\"\"}},\"type\":\"scattergl\"}],\"scattermapbox\":[{\"marker\":{\"colorbar\":{\"outlinewidth\":0,\"ticks\":\"\"}},\"type\":\"scattermapbox\"}],\"scatterpolargl\":[{\"marker\":{\"colorbar\":{\"outlinewidth\":0,\"ticks\":\"\"}},\"type\":\"scatterpolargl\"}],\"scatterpolar\":[{\"marker\":{\"colorbar\":{\"outlinewidth\":0,\"ticks\":\"\"}},\"type\":\"scatterpolar\"}],\"scatter\":[{\"fillpattern\":{\"fillmode\":\"overlay\",\"size\":10,\"solidity\":0.2},\"type\":\"scatter\"}],\"scatterternary\":[{\"marker\":{\"colorbar\":{\"outlinewidth\":0,\"ticks\":\"\"}},\"type\":\"scatterternary\"}],\"surface\":[{\"colorbar\":{\"outlinewidth\":0,\"ticks\":\"\"},\"colorscale\":[[0.0,\"#0d0887\"],[0.1111111111111111,\"#46039f\"],[0.2222222222222222,\"#7201a8\"],[0.3333333333333333,\"#9c179e\"],[0.4444444444444444,\"#bd3786\"],[0.5555555555555556,\"#d8576b\"],[0.6666666666666666,\"#ed7953\"],[0.7777777777777778,\"#fb9f3a\"],[0.8888888888888888,\"#fdca26\"],[1.0,\"#f0f921\"]],\"type\":\"surface\"}],\"table\":[{\"cells\":{\"fill\":{\"color\":\"#EBF0F8\"},\"line\":{\"color\":\"white\"}},\"header\":{\"fill\":{\"color\":\"#C8D4E3\"},\"line\":{\"color\":\"white\"}},\"type\":\"table\"}]},\"layout\":{\"annotationdefaults\":{\"arrowcolor\":\"#2a3f5f\",\"arrowhead\":0,\"arrowwidth\":1},\"autotypenumbers\":\"strict\",\"coloraxis\":{\"colorbar\":{\"outlinewidth\":0,\"ticks\":\"\"}},\"colorscale\":{\"diverging\":[[0,\"#8e0152\"],[0.1,\"#c51b7d\"],[0.2,\"#de77ae\"],[0.3,\"#f1b6da\"],[0.4,\"#fde0ef\"],[0.5,\"#f7f7f7\"],[0.6,\"#e6f5d0\"],[0.7,\"#b8e186\"],[0.8,\"#7fbc41\"],[0.9,\"#4d9221\"],[1,\"#276419\"]],\"sequential\":[[0.0,\"#0d0887\"],[0.1111111111111111,\"#46039f\"],[0.2222222222222222,\"#7201a8\"],[0.3333333333333333,\"#9c179e\"],[0.4444444444444444,\"#bd3786\"],[0.5555555555555556,\"#d8576b\"],[0.6666666666666666,\"#ed7953\"],[0.7777777777777778,\"#fb9f3a\"],[0.8888888888888888,\"#fdca26\"],[1.0,\"#f0f921\"]],\"sequentialminus\":[[0.0,\"#0d0887\"],[0.1111111111111111,\"#46039f\"],[0.2222222222222222,\"#7201a8\"],[0.3333333333333333,\"#9c179e\"],[0.4444444444444444,\"#bd3786\"],[0.5555555555555556,\"#d8576b\"],[0.6666666666666666,\"#ed7953\"],[0.7777777777777778,\"#fb9f3a\"],[0.8888888888888888,\"#fdca26\"],[1.0,\"#f0f921\"]]},\"colorway\":[\"#636efa\",\"#EF553B\",\"#00cc96\",\"#ab63fa\",\"#FFA15A\",\"#19d3f3\",\"#FF6692\",\"#B6E880\",\"#FF97FF\",\"#FECB52\"],\"font\":{\"color\":\"#2a3f5f\"},\"geo\":{\"bgcolor\":\"white\",\"lakecolor\":\"white\",\"landcolor\":\"white\",\"showlakes\":true,\"showland\":true,\"subunitcolor\":\"#C8D4E3\"},\"hoverlabel\":{\"align\":\"left\"},\"hovermode\":\"closest\",\"mapbox\":{\"style\":\"light\"},\"paper_bgcolor\":\"white\",\"plot_bgcolor\":\"white\",\"polar\":{\"angularaxis\":{\"gridcolor\":\"#EBF0F8\",\"linecolor\":\"#EBF0F8\",\"ticks\":\"\"},\"bgcolor\":\"white\",\"radialaxis\":{\"gridcolor\":\"#EBF0F8\",\"linecolor\":\"#EBF0F8\",\"ticks\":\"\"}},\"scene\":{\"xaxis\":{\"backgroundcolor\":\"white\",\"gridcolor\":\"#DFE8F3\",\"gridwidth\":2,\"linecolor\":\"#EBF0F8\",\"showbackground\":true,\"ticks\":\"\",\"zerolinecolor\":\"#EBF0F8\"},\"yaxis\":{\"backgroundcolor\":\"white\",\"gridcolor\":\"#DFE8F3\",\"gridwidth\":2,\"linecolor\":\"#EBF0F8\",\"showbackground\":true,\"ticks\":\"\",\"zerolinecolor\":\"#EBF0F8\"},\"zaxis\":{\"backgroundcolor\":\"white\",\"gridcolor\":\"#DFE8F3\",\"gridwidth\":2,\"linecolor\":\"#EBF0F8\",\"showbackground\":true,\"ticks\":\"\",\"zerolinecolor\":\"#EBF0F8\"}},\"shapedefaults\":{\"line\":{\"color\":\"#2a3f5f\"}},\"ternary\":{\"aaxis\":{\"gridcolor\":\"#DFE8F3\",\"linecolor\":\"#A2B1C6\",\"ticks\":\"\"},\"baxis\":{\"gridcolor\":\"#DFE8F3\",\"linecolor\":\"#A2B1C6\",\"ticks\":\"\"},\"bgcolor\":\"white\",\"caxis\":{\"gridcolor\":\"#DFE8F3\",\"linecolor\":\"#A2B1C6\",\"ticks\":\"\"}},\"title\":{\"x\":0.05},\"xaxis\":{\"automargin\":true,\"gridcolor\":\"#EBF0F8\",\"linecolor\":\"#EBF0F8\",\"ticks\":\"\",\"title\":{\"standoff\":15},\"zerolinecolor\":\"#EBF0F8\",\"zerolinewidth\":2},\"yaxis\":{\"automargin\":true,\"gridcolor\":\"#EBF0F8\",\"linecolor\":\"#EBF0F8\",\"ticks\":\"\",\"title\":{\"standoff\":15},\"zerolinecolor\":\"#EBF0F8\",\"zerolinewidth\":2}}},\"xaxis\":{\"anchor\":\"y\",\"domain\":[0.0,1.0],\"title\":{\"text\":\"GOOG\"}},\"yaxis\":{\"anchor\":\"x\",\"domain\":[0.0,1.0],\"title\":{\"text\":\"AAPL\"}},\"legend\":{\"tracegroupgap\":0},\"margin\":{\"t\":60},\"height\":400},                        {\"responsive\": true}                    ).then(function(){\n",
       "                            \n",
       "var gd = document.getElementById('9e9c6a01-cfe6-488f-9462-ccda6035e471');\n",
       "var x = new MutationObserver(function (mutations, observer) {{\n",
       "        var display = window.getComputedStyle(gd).display;\n",
       "        if (!display || display === 'none') {{\n",
       "            console.log([gd, 'removed!']);\n",
       "            Plotly.purge(gd);\n",
       "            observer.disconnect();\n",
       "        }}\n",
       "}});\n",
       "\n",
       "// Listen for the removal of the full notebook cells\n",
       "var notebookContainer = gd.closest('#notebook-container');\n",
       "if (notebookContainer) {{\n",
       "    x.observe(notebookContainer, {childList: true});\n",
       "}}\n",
       "\n",
       "// Listen for the clearing of the current output cell\n",
       "var outputEl = gd.closest('.output');\n",
       "if (outputEl) {{\n",
       "    x.observe(outputEl, {childList: true});\n",
       "}}\n",
       "\n",
       "                        })                };                });            </script>        </div>"
      ]
     },
     "metadata": {},
     "output_type": "display_data"
    }
   ],
   "source": [
    "def financial_scatter_widget(df, x=None, y=None):\n",
    "    df['date'] = pd.to_datetime(df['date'])\n",
    "    fig = px.scatter(df,x=x, y=y, height=400,template=\"plotly_white\", hover_data=[\"date\"], trendline='ols')\n",
    "    fig.show()\n",
    "\n",
    "financial_scatter_widget(df, x=\"GOOG\", y=\"AAPL\")"
   ]
  },
  {
   "cell_type": "markdown",
   "id": "dAShy3heryPS",
   "metadata": {
    "id": "dAShy3heryPS",
    "tags": [
     "hide"
    ]
   },
   "source": [
    "f) L'idée est de donner la main à l'utilisateur pour choisir quel indice il souhaite vérifier la correlation avec l'indice APPL.\n",
    "\n",
    "Créez un widget de type Dropdown, qui permettra de sélectionner le nom d'une colonne du DataFrame créé."
   ]
  },
  {
   "cell_type": "code",
   "execution_count": 93,
   "id": "pgZk5vVwWekU",
   "metadata": {
    "id": "pgZk5vVwWekU",
    "tags": [
     "hide"
    ]
   },
   "outputs": [
    {
     "data": {
      "application/vnd.jupyter.widget-view+json": {
       "model_id": "3276a0aa8183472aa1b260a148745f55",
       "version_major": 2,
       "version_minor": 0
      },
      "text/plain": [
       "Dropdown(description='AAPL vs ', index=1, options=('GOOG', 'AAPL', 'AMZN', 'FB', 'NFLX', 'MSFT'), style=Descri…"
      ]
     },
     "metadata": {},
     "output_type": "display_data"
    }
   ],
   "source": [
    "x_dropdown = widgets.Dropdown(\n",
    "    options=df.columns[1:],\n",
    "    value='AAPL',\n",
    "    description='AAPL vs ',\n",
    "    style= {'description_width': 'initial'},\n",
    "    disabled=False,\n",
    ")\n",
    "display(x_dropdown)"
   ]
  },
  {
   "cell_type": "code",
   "execution_count": 91,
   "id": "6b4ce78e",
   "metadata": {
    "tags": [
     "hide"
    ]
   },
   "outputs": [
    {
     "name": "stdout",
     "output_type": "stream",
     "text": [
      "FB\n"
     ]
    }
   ],
   "source": [
    "print(x_dropdown.value)"
   ]
  },
  {
   "cell_type": "markdown",
   "id": "R3DQnyBOsSgs",
   "metadata": {
    "id": "R3DQnyBOsSgs",
    "tags": [
     "hide"
    ]
   },
   "source": [
    "g) A l'aide de la fonction `interact()` de widgets, faites exécutez la fonction `financial_scatter_widget` en fonction de la colonne choisie.\n",
    "\n",
    "On fixera les paramètres `df`=Le DataFrame récupéré de l'upload  et `y`=\"APPL\" à l'aide de la fonction `fixed()`."
   ]
  },
  {
   "cell_type": "code",
   "execution_count": 95,
   "id": "KRca1-0LXijC",
   "metadata": {
    "id": "KRca1-0LXijC",
    "tags": [
     "hide"
    ]
   },
   "outputs": [
    {
     "data": {
      "application/vnd.plotly.v1+json": {
       "config": {
        "plotlyServerURL": "https://plot.ly"
       },
       "data": [
        {
         "customdata": [
          [
           "2018-01-01T00:00:00"
          ],
          [
           "2018-01-08T00:00:00"
          ],
          [
           "2018-01-15T00:00:00"
          ],
          [
           "2018-01-22T00:00:00"
          ],
          [
           "2018-01-29T00:00:00"
          ],
          [
           "2018-02-05T00:00:00"
          ],
          [
           "2018-02-12T00:00:00"
          ],
          [
           "2018-02-19T00:00:00"
          ],
          [
           "2018-02-26T00:00:00"
          ],
          [
           "2018-03-05T00:00:00"
          ],
          [
           "2018-03-12T00:00:00"
          ],
          [
           "2018-03-19T00:00:00"
          ],
          [
           "2018-03-26T00:00:00"
          ],
          [
           "2018-04-02T00:00:00"
          ],
          [
           "2018-04-09T00:00:00"
          ],
          [
           "2018-04-16T00:00:00"
          ],
          [
           "2018-04-23T00:00:00"
          ],
          [
           "2018-04-30T00:00:00"
          ],
          [
           "2018-05-07T00:00:00"
          ],
          [
           "2018-05-14T00:00:00"
          ],
          [
           "2018-05-21T00:00:00"
          ],
          [
           "2018-05-28T00:00:00"
          ],
          [
           "2018-06-04T00:00:00"
          ],
          [
           "2018-06-11T00:00:00"
          ],
          [
           "2018-06-18T00:00:00"
          ],
          [
           "2018-06-25T00:00:00"
          ],
          [
           "2018-07-02T00:00:00"
          ],
          [
           "2018-07-09T00:00:00"
          ],
          [
           "2018-07-16T00:00:00"
          ],
          [
           "2018-07-23T00:00:00"
          ],
          [
           "2018-07-30T00:00:00"
          ],
          [
           "2018-08-06T00:00:00"
          ],
          [
           "2018-08-13T00:00:00"
          ],
          [
           "2018-08-20T00:00:00"
          ],
          [
           "2018-08-27T00:00:00"
          ],
          [
           "2018-09-03T00:00:00"
          ],
          [
           "2018-09-10T00:00:00"
          ],
          [
           "2018-09-17T00:00:00"
          ],
          [
           "2018-09-24T00:00:00"
          ],
          [
           "2018-10-01T00:00:00"
          ],
          [
           "2018-10-08T00:00:00"
          ],
          [
           "2018-10-15T00:00:00"
          ],
          [
           "2018-10-22T00:00:00"
          ],
          [
           "2018-10-29T00:00:00"
          ],
          [
           "2018-11-05T00:00:00"
          ],
          [
           "2018-11-12T00:00:00"
          ],
          [
           "2018-11-19T00:00:00"
          ],
          [
           "2018-11-26T00:00:00"
          ],
          [
           "2018-12-03T00:00:00"
          ],
          [
           "2018-12-10T00:00:00"
          ],
          [
           "2018-12-17T00:00:00"
          ],
          [
           "2018-12-24T00:00:00"
          ],
          [
           "2018-12-31T00:00:00"
          ],
          [
           "2019-01-07T00:00:00"
          ],
          [
           "2019-01-14T00:00:00"
          ],
          [
           "2019-01-21T00:00:00"
          ],
          [
           "2019-01-28T00:00:00"
          ],
          [
           "2019-02-04T00:00:00"
          ],
          [
           "2019-02-11T00:00:00"
          ],
          [
           "2019-02-18T00:00:00"
          ],
          [
           "2019-02-25T00:00:00"
          ],
          [
           "2019-03-04T00:00:00"
          ],
          [
           "2019-03-11T00:00:00"
          ],
          [
           "2019-03-18T00:00:00"
          ],
          [
           "2019-03-25T00:00:00"
          ],
          [
           "2019-04-01T00:00:00"
          ],
          [
           "2019-04-08T00:00:00"
          ],
          [
           "2019-04-15T00:00:00"
          ],
          [
           "2019-04-22T00:00:00"
          ],
          [
           "2019-04-29T00:00:00"
          ],
          [
           "2019-05-06T00:00:00"
          ],
          [
           "2019-05-13T00:00:00"
          ],
          [
           "2019-05-20T00:00:00"
          ],
          [
           "2019-05-27T00:00:00"
          ],
          [
           "2019-06-03T00:00:00"
          ],
          [
           "2019-06-10T00:00:00"
          ],
          [
           "2019-06-17T00:00:00"
          ],
          [
           "2019-06-24T00:00:00"
          ],
          [
           "2019-07-01T00:00:00"
          ],
          [
           "2019-07-08T00:00:00"
          ],
          [
           "2019-07-15T00:00:00"
          ],
          [
           "2019-07-22T00:00:00"
          ],
          [
           "2019-07-29T00:00:00"
          ],
          [
           "2019-08-05T00:00:00"
          ],
          [
           "2019-08-12T00:00:00"
          ],
          [
           "2019-08-19T00:00:00"
          ],
          [
           "2019-08-26T00:00:00"
          ],
          [
           "2019-09-02T00:00:00"
          ],
          [
           "2019-09-09T00:00:00"
          ],
          [
           "2019-09-16T00:00:00"
          ],
          [
           "2019-09-23T00:00:00"
          ],
          [
           "2019-09-30T00:00:00"
          ],
          [
           "2019-10-07T00:00:00"
          ],
          [
           "2019-10-14T00:00:00"
          ],
          [
           "2019-10-21T00:00:00"
          ],
          [
           "2019-10-28T00:00:00"
          ],
          [
           "2019-11-04T00:00:00"
          ],
          [
           "2019-11-11T00:00:00"
          ],
          [
           "2019-11-18T00:00:00"
          ],
          [
           "2019-11-25T00:00:00"
          ],
          [
           "2019-12-02T00:00:00"
          ],
          [
           "2019-12-09T00:00:00"
          ],
          [
           "2019-12-16T00:00:00"
          ],
          [
           "2019-12-23T00:00:00"
          ],
          [
           "2019-12-30T00:00:00"
          ]
         ],
         "hovertemplate": "FB=%{x}<br>AAPL=%{y}<br>date=%{customdata[0]}<extra></extra>",
         "legendgroup": "",
         "marker": {
          "color": "#636efa",
          "symbol": "circle"
         },
         "mode": "markers",
         "name": "",
         "orientation": "v",
         "showlegend": false,
         "type": "scatter",
         "x": [
          1,
          0.9599678310954936,
          0.9702434422185674,
          1.0168584099483515,
          1.0183569327795472,
          0.9425207136466456,
          0.949210571606832,
          0.9809472149548658,
          0.9452501435830832,
          0.9913298905647344,
          0.9905806264731936,
          0.8530371628674177,
          0.8551778853033591,
          0.8413165210173983,
          0.8804923666954552,
          0.8899116599439659,
          0.9290339332394776,
          0.9451966568307202,
          1.0007492587396545,
          0.9776825642702948,
          0.9896708164943808,
          1.038212463316699,
          1.0120417443283358,
          1.048166977313343,
          1.0796895826698554,
          1.039978596521961,
          1.0876638451914205,
          1.109553119307901,
          1.12357503483302,
          0.9359914015737306,
          0.951458353177682,
          0.9647310099631464,
          0.9301578668399936,
          0.934706922085943,
          0.940486970067317,
          0.8725715159998442,
          0.868718232741186,
          0.8719828084993478,
          0.8801712695690254,
          0.8420122930046896,
          0.822799036998693,
          0.8244581110690464,
          0.7780036945784202,
          0.8046561475625534,
          0.7758094853901156,
          0.7467486995959743,
          0.7050039698687512,
          0.7525287475773482,
          0.735456214007293,
          0.7709927394918039,
          0.668718185644586,
          0.712871248181817,
          0.7382927084305257,
          0.769601275795517,
          0.8029969932139043,
          0.7974845609584834,
          0.8868611275292119,
          0.8955311566861818,
          0.8696815348242483,
          0.8664168787877908,
          0.8685041144713691,
          0.907679960149426,
          0.8883060779778621,
          0.8795289843340972,
          0.8921059494105662,
          0.9404334779630672,
          0.9585228806468435,
          0.9541342963617566,
          1.024832747396326,
          1.0461332337340143,
          1.0079742571696786,
          0.9917045600737096,
          0.9690125351133252,
          0.9497992791073284,
          0.9277495340299856,
          0.9704575658402708,
          1.0229595550561554,
          1.0329140690527994,
          1.0511104505931883,
          1.0964409334832987,
          1.0616001853379655,
          1.0690393020378066,
          1.011613582715111,
          1.0053518863681492,
          0.9831415097733526,
          0.951297801938524,
          0.993684731270493,
          1.003425201923729,
          1.0018196199576253,
          1.0164837404393767,
          0.9478191079105452,
          0.9657478790768677,
          0.9857639608531776,
          0.9946481136318508,
          1.0055659243596704,
          1.03623221184162,
          1.0213539730900516,
          1.044153062537231,
          1.0640620851786324,
          1.0791543619217223,
          1.07599677037206,
          1.0388546682733315,
          1.104094173804843,
          1.113727585323171,
          1.0984746770626277
         ],
         "xaxis": "x",
         "y": [
          1,
          1.0119428342857142,
          1.0197714685714288,
          0.9800571142857144,
          0.9171428571428571,
          0.8937714514285715,
          0.9853142457142856,
          1.002857142857143,
          1.006914325714286,
          1.02845712,
          1.0172571657142857,
          0.9425142971428572,
          0.9587428514285714,
          0.9621714571428572,
          0.99845712,
          0.9469714342857144,
          0.9275428971428572,
          1.0504571542857144,
          1.07765712,
          1.06462856,
          1.0776000114285715,
          1.0870857428571428,
          1.0954285542857145,
          1.0790856914285714,
          1.0566857028571428,
          1.0577714342857143,
          1.0741142914285715,
          1.093314297142857,
          1.0939428685714283,
          1.0913142628571428,
          1.1885143142857142,
          1.1858857085714285,
          1.2433142971428572,
          1.235200022857143,
          1.3007428857142855,
          1.2645714457142856,
          1.279085691428571,
          1.2437714514285716,
          1.2899428857142856,
          1.2816571028571428,
          1.2692000057142856,
          1.253199988571429,
          1.236000017142857,
          1.1855999771428571,
          1.1684000057142856,
          1.1058857085714286,
          0.9845142457142856,
          1.0204571542857144,
          0.9628000285714284,
          0.9455999771428572,
          0.8613142628571429,
          0.8927428342857143,
          0.8471999714285714,
          0.8702285314285714,
          0.8961143257142857,
          0.9014856857142858,
          0.95154288,
          0.9737714514285716,
          0.97382856,
          0.9884000057142855,
          0.9998285771428572,
          0.9880571657142858,
          1.0635428285714286,
          1.0917143028571428,
          1.0854285542857145,
          1.1257142857142857,
          1.1363999714285713,
          1.1649142914285715,
          1.1674285885714286,
          1.21,
          1.126742817142857,
          1.08,
          1.02268572,
          1.00040004,
          1.0865713942857145,
          1.1013714571428572,
          1.135885708571429,
          1.130971417142857,
          1.167028548571429,
          1.1617143028571428,
          1.15765712,
          1.1870857428571429,
          1.1658285942857145,
          1.1485143142857142,
          1.18,
          1.1579428514285717,
          1.1928000285714286,
          1.218628542857143,
          1.25,
          1.2441714057142856,
          1.25040004,
          1.2971999714285716,
          1.3497714685714286,
          1.3509143085714286,
          1.409028582857143,
          1.4618286114285712,
          1.4865143714285716,
          1.5186286285714288,
          1.4958857085714288,
          1.5271428571428571,
          1.5469142342857145,
          1.57228568,
          1.5968000114285714,
          1.6559999314285714,
          1.6779999657142857
         ],
         "yaxis": "y"
        },
        {
         "hovertemplate": "<b>OLS trendline</b><br>AAPL = 0.86957 * FB + 0.316687<br>R<sup>2</sup>=0.243540<br><br>FB=%{x}<br>AAPL=%{y} <b>(trend)</b><extra></extra>",
         "legendgroup": "",
         "marker": {
          "color": "#636efa",
          "symbol": "circle"
         },
         "mode": "lines",
         "name": "",
         "showlegend": false,
         "type": "scatter",
         "x": [
          0.668718185644586,
          0.7050039698687512,
          0.712871248181817,
          0.735456214007293,
          0.7382927084305257,
          0.7467486995959743,
          0.7525287475773482,
          0.769601275795517,
          0.7709927394918039,
          0.7758094853901156,
          0.7780036945784202,
          0.7974845609584834,
          0.8029969932139043,
          0.8046561475625534,
          0.822799036998693,
          0.8244581110690464,
          0.8413165210173983,
          0.8420122930046896,
          0.8530371628674177,
          0.8551778853033591,
          0.8664168787877908,
          0.8685041144713691,
          0.868718232741186,
          0.8696815348242483,
          0.8719828084993478,
          0.8725715159998442,
          0.8795289843340972,
          0.8801712695690254,
          0.8804923666954552,
          0.8868611275292119,
          0.8883060779778621,
          0.8899116599439659,
          0.8921059494105662,
          0.8955311566861818,
          0.907679960149426,
          0.9277495340299856,
          0.9290339332394776,
          0.9301578668399936,
          0.934706922085943,
          0.9359914015737306,
          0.9404334779630672,
          0.940486970067317,
          0.9425207136466456,
          0.9451966568307202,
          0.9452501435830832,
          0.9478191079105452,
          0.949210571606832,
          0.9497992791073284,
          0.951297801938524,
          0.951458353177682,
          0.9541342963617566,
          0.9585228806468435,
          0.9599678310954936,
          0.9647310099631464,
          0.9657478790768677,
          0.9690125351133252,
          0.9702434422185674,
          0.9704575658402708,
          0.9776825642702948,
          0.9809472149548658,
          0.9831415097733526,
          0.9857639608531776,
          0.9896708164943808,
          0.9905806264731936,
          0.9913298905647344,
          0.9917045600737096,
          0.993684731270493,
          0.9946481136318508,
          1,
          1.0007492587396545,
          1.0018196199576253,
          1.003425201923729,
          1.0053518863681492,
          1.0055659243596704,
          1.0079742571696786,
          1.011613582715111,
          1.0120417443283358,
          1.0164837404393767,
          1.0168584099483515,
          1.0183569327795472,
          1.0213539730900516,
          1.0229595550561554,
          1.024832747396326,
          1.0329140690527994,
          1.03623221184162,
          1.038212463316699,
          1.0388546682733315,
          1.039978596521961,
          1.044153062537231,
          1.0461332337340143,
          1.048166977313343,
          1.0511104505931883,
          1.0616001853379655,
          1.0640620851786324,
          1.0690393020378066,
          1.07599677037206,
          1.0791543619217223,
          1.0796895826698554,
          1.0876638451914205,
          1.0964409334832987,
          1.0984746770626277,
          1.104094173804843,
          1.109553119307901,
          1.113727585323171,
          1.12357503483302
         ],
         "xaxis": "x",
         "y": [
          0.8981841526419707,
          0.9297371977396911,
          0.936578350348518,
          0.9562175688595274,
          0.9586841005431967,
          0.9660371804419532,
          0.9710633392675855,
          0.9859091050218014,
          0.9871190807106152,
          0.9913075805268179,
          0.9932155999606738,
          1.010155585373017,
          1.0149490334759683,
          1.0163917850412532,
          1.0321683052631925,
          1.033610987020845,
          1.0482705618584738,
          1.0488755846066968,
          1.0584624854664413,
          1.0603239944018878,
          1.070097090832062,
          1.0719120892690988,
          1.0720982801856858,
          1.0729359391951154,
          1.0749370587411071,
          1.0754489813771944,
          1.0814989901288432,
          1.082057502378657,
          1.0823367189459052,
          1.087874805061467,
          1.0891312912486906,
          1.0905274578540913,
          1.0924355470955796,
          1.0954140060691784,
          1.1059782463565302,
          1.1234301544049607,
          1.124547029981639,
          1.125524369409246,
          1.1294800933489775,
          1.130597038733288,
          1.1344597370223581,
          1.13450625217461,
          1.136274735459395,
          1.138601656532519,
          1.1386481670309285,
          1.1408820624533915,
          1.1420920381422053,
          1.1426039607782923,
          1.1439070319253999,
          1.1440466425359452,
          1.1463735636090693,
          1.1501897467458877,
          1.151446232933111,
          1.1555881524432718,
          1.1564723917587434,
          1.159311240121797,
          1.160381600546223,
          1.1605677961166525,
          1.1668504411295082,
          1.1696892848387195,
          1.17159737873405,
          1.1738777846549224,
          1.1772750708063147,
          1.1780662146634926,
          1.1787177525639674,
          1.1790435540910997,
          1.180765452416001,
          1.1816031812330627,
          1.1862570233793108,
          1.1869085566259434,
          1.1878393110936667,
          1.1892354776990675,
          1.190910865525559,
          1.1910969866345138,
          1.193191201638799,
          1.1963558515289852,
          1.1967281682083692,
          1.2005907966898073,
          1.2009165982169394,
          1.202219669364047,
          1.2048258070044195,
          1.2062219736098205,
          1.2078508462840603,
          1.2148781246556841,
          1.2177634835171474,
          1.2194854516496805,
          1.2200438940918619,
          1.2210212288656268,
          1.2246512210858582,
          1.2263731194107592,
          1.2281416026955445,
          1.230701160029875,
          1.2398227232134165,
          1.2419635185237434,
          1.2462915591428592,
          1.2523415678945087,
          1.2550873161454261,
          1.2555527282831038,
          1.2624869111964343,
          1.270119207662439,
          1.2718876909472243,
          1.276774239162311,
          1.2815211767668528,
          1.2851511689870843,
          1.2937142199208123
         ],
         "yaxis": "y"
        }
       ],
       "layout": {
        "height": 400,
        "legend": {
         "tracegroupgap": 0
        },
        "margin": {
         "t": 60
        },
        "template": {
         "data": {
          "bar": [
           {
            "error_x": {
             "color": "#2a3f5f"
            },
            "error_y": {
             "color": "#2a3f5f"
            },
            "marker": {
             "line": {
              "color": "white",
              "width": 0.5
             },
             "pattern": {
              "fillmode": "overlay",
              "size": 10,
              "solidity": 0.2
             }
            },
            "type": "bar"
           }
          ],
          "barpolar": [
           {
            "marker": {
             "line": {
              "color": "white",
              "width": 0.5
             },
             "pattern": {
              "fillmode": "overlay",
              "size": 10,
              "solidity": 0.2
             }
            },
            "type": "barpolar"
           }
          ],
          "carpet": [
           {
            "aaxis": {
             "endlinecolor": "#2a3f5f",
             "gridcolor": "#C8D4E3",
             "linecolor": "#C8D4E3",
             "minorgridcolor": "#C8D4E3",
             "startlinecolor": "#2a3f5f"
            },
            "baxis": {
             "endlinecolor": "#2a3f5f",
             "gridcolor": "#C8D4E3",
             "linecolor": "#C8D4E3",
             "minorgridcolor": "#C8D4E3",
             "startlinecolor": "#2a3f5f"
            },
            "type": "carpet"
           }
          ],
          "choropleth": [
           {
            "colorbar": {
             "outlinewidth": 0,
             "ticks": ""
            },
            "type": "choropleth"
           }
          ],
          "contour": [
           {
            "colorbar": {
             "outlinewidth": 0,
             "ticks": ""
            },
            "colorscale": [
             [
              0,
              "#0d0887"
             ],
             [
              0.1111111111111111,
              "#46039f"
             ],
             [
              0.2222222222222222,
              "#7201a8"
             ],
             [
              0.3333333333333333,
              "#9c179e"
             ],
             [
              0.4444444444444444,
              "#bd3786"
             ],
             [
              0.5555555555555556,
              "#d8576b"
             ],
             [
              0.6666666666666666,
              "#ed7953"
             ],
             [
              0.7777777777777778,
              "#fb9f3a"
             ],
             [
              0.8888888888888888,
              "#fdca26"
             ],
             [
              1,
              "#f0f921"
             ]
            ],
            "type": "contour"
           }
          ],
          "contourcarpet": [
           {
            "colorbar": {
             "outlinewidth": 0,
             "ticks": ""
            },
            "type": "contourcarpet"
           }
          ],
          "heatmap": [
           {
            "colorbar": {
             "outlinewidth": 0,
             "ticks": ""
            },
            "colorscale": [
             [
              0,
              "#0d0887"
             ],
             [
              0.1111111111111111,
              "#46039f"
             ],
             [
              0.2222222222222222,
              "#7201a8"
             ],
             [
              0.3333333333333333,
              "#9c179e"
             ],
             [
              0.4444444444444444,
              "#bd3786"
             ],
             [
              0.5555555555555556,
              "#d8576b"
             ],
             [
              0.6666666666666666,
              "#ed7953"
             ],
             [
              0.7777777777777778,
              "#fb9f3a"
             ],
             [
              0.8888888888888888,
              "#fdca26"
             ],
             [
              1,
              "#f0f921"
             ]
            ],
            "type": "heatmap"
           }
          ],
          "heatmapgl": [
           {
            "colorbar": {
             "outlinewidth": 0,
             "ticks": ""
            },
            "colorscale": [
             [
              0,
              "#0d0887"
             ],
             [
              0.1111111111111111,
              "#46039f"
             ],
             [
              0.2222222222222222,
              "#7201a8"
             ],
             [
              0.3333333333333333,
              "#9c179e"
             ],
             [
              0.4444444444444444,
              "#bd3786"
             ],
             [
              0.5555555555555556,
              "#d8576b"
             ],
             [
              0.6666666666666666,
              "#ed7953"
             ],
             [
              0.7777777777777778,
              "#fb9f3a"
             ],
             [
              0.8888888888888888,
              "#fdca26"
             ],
             [
              1,
              "#f0f921"
             ]
            ],
            "type": "heatmapgl"
           }
          ],
          "histogram": [
           {
            "marker": {
             "pattern": {
              "fillmode": "overlay",
              "size": 10,
              "solidity": 0.2
             }
            },
            "type": "histogram"
           }
          ],
          "histogram2d": [
           {
            "colorbar": {
             "outlinewidth": 0,
             "ticks": ""
            },
            "colorscale": [
             [
              0,
              "#0d0887"
             ],
             [
              0.1111111111111111,
              "#46039f"
             ],
             [
              0.2222222222222222,
              "#7201a8"
             ],
             [
              0.3333333333333333,
              "#9c179e"
             ],
             [
              0.4444444444444444,
              "#bd3786"
             ],
             [
              0.5555555555555556,
              "#d8576b"
             ],
             [
              0.6666666666666666,
              "#ed7953"
             ],
             [
              0.7777777777777778,
              "#fb9f3a"
             ],
             [
              0.8888888888888888,
              "#fdca26"
             ],
             [
              1,
              "#f0f921"
             ]
            ],
            "type": "histogram2d"
           }
          ],
          "histogram2dcontour": [
           {
            "colorbar": {
             "outlinewidth": 0,
             "ticks": ""
            },
            "colorscale": [
             [
              0,
              "#0d0887"
             ],
             [
              0.1111111111111111,
              "#46039f"
             ],
             [
              0.2222222222222222,
              "#7201a8"
             ],
             [
              0.3333333333333333,
              "#9c179e"
             ],
             [
              0.4444444444444444,
              "#bd3786"
             ],
             [
              0.5555555555555556,
              "#d8576b"
             ],
             [
              0.6666666666666666,
              "#ed7953"
             ],
             [
              0.7777777777777778,
              "#fb9f3a"
             ],
             [
              0.8888888888888888,
              "#fdca26"
             ],
             [
              1,
              "#f0f921"
             ]
            ],
            "type": "histogram2dcontour"
           }
          ],
          "mesh3d": [
           {
            "colorbar": {
             "outlinewidth": 0,
             "ticks": ""
            },
            "type": "mesh3d"
           }
          ],
          "parcoords": [
           {
            "line": {
             "colorbar": {
              "outlinewidth": 0,
              "ticks": ""
             }
            },
            "type": "parcoords"
           }
          ],
          "pie": [
           {
            "automargin": true,
            "type": "pie"
           }
          ],
          "scatter": [
           {
            "fillpattern": {
             "fillmode": "overlay",
             "size": 10,
             "solidity": 0.2
            },
            "type": "scatter"
           }
          ],
          "scatter3d": [
           {
            "line": {
             "colorbar": {
              "outlinewidth": 0,
              "ticks": ""
             }
            },
            "marker": {
             "colorbar": {
              "outlinewidth": 0,
              "ticks": ""
             }
            },
            "type": "scatter3d"
           }
          ],
          "scattercarpet": [
           {
            "marker": {
             "colorbar": {
              "outlinewidth": 0,
              "ticks": ""
             }
            },
            "type": "scattercarpet"
           }
          ],
          "scattergeo": [
           {
            "marker": {
             "colorbar": {
              "outlinewidth": 0,
              "ticks": ""
             }
            },
            "type": "scattergeo"
           }
          ],
          "scattergl": [
           {
            "marker": {
             "colorbar": {
              "outlinewidth": 0,
              "ticks": ""
             }
            },
            "type": "scattergl"
           }
          ],
          "scattermapbox": [
           {
            "marker": {
             "colorbar": {
              "outlinewidth": 0,
              "ticks": ""
             }
            },
            "type": "scattermapbox"
           }
          ],
          "scatterpolar": [
           {
            "marker": {
             "colorbar": {
              "outlinewidth": 0,
              "ticks": ""
             }
            },
            "type": "scatterpolar"
           }
          ],
          "scatterpolargl": [
           {
            "marker": {
             "colorbar": {
              "outlinewidth": 0,
              "ticks": ""
             }
            },
            "type": "scatterpolargl"
           }
          ],
          "scatterternary": [
           {
            "marker": {
             "colorbar": {
              "outlinewidth": 0,
              "ticks": ""
             }
            },
            "type": "scatterternary"
           }
          ],
          "surface": [
           {
            "colorbar": {
             "outlinewidth": 0,
             "ticks": ""
            },
            "colorscale": [
             [
              0,
              "#0d0887"
             ],
             [
              0.1111111111111111,
              "#46039f"
             ],
             [
              0.2222222222222222,
              "#7201a8"
             ],
             [
              0.3333333333333333,
              "#9c179e"
             ],
             [
              0.4444444444444444,
              "#bd3786"
             ],
             [
              0.5555555555555556,
              "#d8576b"
             ],
             [
              0.6666666666666666,
              "#ed7953"
             ],
             [
              0.7777777777777778,
              "#fb9f3a"
             ],
             [
              0.8888888888888888,
              "#fdca26"
             ],
             [
              1,
              "#f0f921"
             ]
            ],
            "type": "surface"
           }
          ],
          "table": [
           {
            "cells": {
             "fill": {
              "color": "#EBF0F8"
             },
             "line": {
              "color": "white"
             }
            },
            "header": {
             "fill": {
              "color": "#C8D4E3"
             },
             "line": {
              "color": "white"
             }
            },
            "type": "table"
           }
          ]
         },
         "layout": {
          "annotationdefaults": {
           "arrowcolor": "#2a3f5f",
           "arrowhead": 0,
           "arrowwidth": 1
          },
          "autotypenumbers": "strict",
          "coloraxis": {
           "colorbar": {
            "outlinewidth": 0,
            "ticks": ""
           }
          },
          "colorscale": {
           "diverging": [
            [
             0,
             "#8e0152"
            ],
            [
             0.1,
             "#c51b7d"
            ],
            [
             0.2,
             "#de77ae"
            ],
            [
             0.3,
             "#f1b6da"
            ],
            [
             0.4,
             "#fde0ef"
            ],
            [
             0.5,
             "#f7f7f7"
            ],
            [
             0.6,
             "#e6f5d0"
            ],
            [
             0.7,
             "#b8e186"
            ],
            [
             0.8,
             "#7fbc41"
            ],
            [
             0.9,
             "#4d9221"
            ],
            [
             1,
             "#276419"
            ]
           ],
           "sequential": [
            [
             0,
             "#0d0887"
            ],
            [
             0.1111111111111111,
             "#46039f"
            ],
            [
             0.2222222222222222,
             "#7201a8"
            ],
            [
             0.3333333333333333,
             "#9c179e"
            ],
            [
             0.4444444444444444,
             "#bd3786"
            ],
            [
             0.5555555555555556,
             "#d8576b"
            ],
            [
             0.6666666666666666,
             "#ed7953"
            ],
            [
             0.7777777777777778,
             "#fb9f3a"
            ],
            [
             0.8888888888888888,
             "#fdca26"
            ],
            [
             1,
             "#f0f921"
            ]
           ],
           "sequentialminus": [
            [
             0,
             "#0d0887"
            ],
            [
             0.1111111111111111,
             "#46039f"
            ],
            [
             0.2222222222222222,
             "#7201a8"
            ],
            [
             0.3333333333333333,
             "#9c179e"
            ],
            [
             0.4444444444444444,
             "#bd3786"
            ],
            [
             0.5555555555555556,
             "#d8576b"
            ],
            [
             0.6666666666666666,
             "#ed7953"
            ],
            [
             0.7777777777777778,
             "#fb9f3a"
            ],
            [
             0.8888888888888888,
             "#fdca26"
            ],
            [
             1,
             "#f0f921"
            ]
           ]
          },
          "colorway": [
           "#636efa",
           "#EF553B",
           "#00cc96",
           "#ab63fa",
           "#FFA15A",
           "#19d3f3",
           "#FF6692",
           "#B6E880",
           "#FF97FF",
           "#FECB52"
          ],
          "font": {
           "color": "#2a3f5f"
          },
          "geo": {
           "bgcolor": "white",
           "lakecolor": "white",
           "landcolor": "white",
           "showlakes": true,
           "showland": true,
           "subunitcolor": "#C8D4E3"
          },
          "hoverlabel": {
           "align": "left"
          },
          "hovermode": "closest",
          "mapbox": {
           "style": "light"
          },
          "paper_bgcolor": "white",
          "plot_bgcolor": "white",
          "polar": {
           "angularaxis": {
            "gridcolor": "#EBF0F8",
            "linecolor": "#EBF0F8",
            "ticks": ""
           },
           "bgcolor": "white",
           "radialaxis": {
            "gridcolor": "#EBF0F8",
            "linecolor": "#EBF0F8",
            "ticks": ""
           }
          },
          "scene": {
           "xaxis": {
            "backgroundcolor": "white",
            "gridcolor": "#DFE8F3",
            "gridwidth": 2,
            "linecolor": "#EBF0F8",
            "showbackground": true,
            "ticks": "",
            "zerolinecolor": "#EBF0F8"
           },
           "yaxis": {
            "backgroundcolor": "white",
            "gridcolor": "#DFE8F3",
            "gridwidth": 2,
            "linecolor": "#EBF0F8",
            "showbackground": true,
            "ticks": "",
            "zerolinecolor": "#EBF0F8"
           },
           "zaxis": {
            "backgroundcolor": "white",
            "gridcolor": "#DFE8F3",
            "gridwidth": 2,
            "linecolor": "#EBF0F8",
            "showbackground": true,
            "ticks": "",
            "zerolinecolor": "#EBF0F8"
           }
          },
          "shapedefaults": {
           "line": {
            "color": "#2a3f5f"
           }
          },
          "ternary": {
           "aaxis": {
            "gridcolor": "#DFE8F3",
            "linecolor": "#A2B1C6",
            "ticks": ""
           },
           "baxis": {
            "gridcolor": "#DFE8F3",
            "linecolor": "#A2B1C6",
            "ticks": ""
           },
           "bgcolor": "white",
           "caxis": {
            "gridcolor": "#DFE8F3",
            "linecolor": "#A2B1C6",
            "ticks": ""
           }
          },
          "title": {
           "x": 0.05
          },
          "xaxis": {
           "automargin": true,
           "gridcolor": "#EBF0F8",
           "linecolor": "#EBF0F8",
           "ticks": "",
           "title": {
            "standoff": 15
           },
           "zerolinecolor": "#EBF0F8",
           "zerolinewidth": 2
          },
          "yaxis": {
           "automargin": true,
           "gridcolor": "#EBF0F8",
           "linecolor": "#EBF0F8",
           "ticks": "",
           "title": {
            "standoff": 15
           },
           "zerolinecolor": "#EBF0F8",
           "zerolinewidth": 2
          }
         }
        },
        "xaxis": {
         "anchor": "y",
         "domain": [
          0,
          1
         ],
         "title": {
          "text": "FB"
         }
        },
        "yaxis": {
         "anchor": "x",
         "domain": [
          0,
          1
         ],
         "title": {
          "text": "AAPL"
         }
        }
       }
      },
      "text/html": [
       "<div>                            <div id=\"852cde01-436f-415f-be94-91d6337b1a24\" class=\"plotly-graph-div\" style=\"height:400px; width:100%;\"></div>            <script type=\"text/javascript\">                require([\"plotly\"], function(Plotly) {                    window.PLOTLYENV=window.PLOTLYENV || {};                                    if (document.getElementById(\"852cde01-436f-415f-be94-91d6337b1a24\")) {                    Plotly.newPlot(                        \"852cde01-436f-415f-be94-91d6337b1a24\",                        [{\"customdata\":[[\"2018-01-01T00:00:00\"],[\"2018-01-08T00:00:00\"],[\"2018-01-15T00:00:00\"],[\"2018-01-22T00:00:00\"],[\"2018-01-29T00:00:00\"],[\"2018-02-05T00:00:00\"],[\"2018-02-12T00:00:00\"],[\"2018-02-19T00:00:00\"],[\"2018-02-26T00:00:00\"],[\"2018-03-05T00:00:00\"],[\"2018-03-12T00:00:00\"],[\"2018-03-19T00:00:00\"],[\"2018-03-26T00:00:00\"],[\"2018-04-02T00:00:00\"],[\"2018-04-09T00:00:00\"],[\"2018-04-16T00:00:00\"],[\"2018-04-23T00:00:00\"],[\"2018-04-30T00:00:00\"],[\"2018-05-07T00:00:00\"],[\"2018-05-14T00:00:00\"],[\"2018-05-21T00:00:00\"],[\"2018-05-28T00:00:00\"],[\"2018-06-04T00:00:00\"],[\"2018-06-11T00:00:00\"],[\"2018-06-18T00:00:00\"],[\"2018-06-25T00:00:00\"],[\"2018-07-02T00:00:00\"],[\"2018-07-09T00:00:00\"],[\"2018-07-16T00:00:00\"],[\"2018-07-23T00:00:00\"],[\"2018-07-30T00:00:00\"],[\"2018-08-06T00:00:00\"],[\"2018-08-13T00:00:00\"],[\"2018-08-20T00:00:00\"],[\"2018-08-27T00:00:00\"],[\"2018-09-03T00:00:00\"],[\"2018-09-10T00:00:00\"],[\"2018-09-17T00:00:00\"],[\"2018-09-24T00:00:00\"],[\"2018-10-01T00:00:00\"],[\"2018-10-08T00:00:00\"],[\"2018-10-15T00:00:00\"],[\"2018-10-22T00:00:00\"],[\"2018-10-29T00:00:00\"],[\"2018-11-05T00:00:00\"],[\"2018-11-12T00:00:00\"],[\"2018-11-19T00:00:00\"],[\"2018-11-26T00:00:00\"],[\"2018-12-03T00:00:00\"],[\"2018-12-10T00:00:00\"],[\"2018-12-17T00:00:00\"],[\"2018-12-24T00:00:00\"],[\"2018-12-31T00:00:00\"],[\"2019-01-07T00:00:00\"],[\"2019-01-14T00:00:00\"],[\"2019-01-21T00:00:00\"],[\"2019-01-28T00:00:00\"],[\"2019-02-04T00:00:00\"],[\"2019-02-11T00:00:00\"],[\"2019-02-18T00:00:00\"],[\"2019-02-25T00:00:00\"],[\"2019-03-04T00:00:00\"],[\"2019-03-11T00:00:00\"],[\"2019-03-18T00:00:00\"],[\"2019-03-25T00:00:00\"],[\"2019-04-01T00:00:00\"],[\"2019-04-08T00:00:00\"],[\"2019-04-15T00:00:00\"],[\"2019-04-22T00:00:00\"],[\"2019-04-29T00:00:00\"],[\"2019-05-06T00:00:00\"],[\"2019-05-13T00:00:00\"],[\"2019-05-20T00:00:00\"],[\"2019-05-27T00:00:00\"],[\"2019-06-03T00:00:00\"],[\"2019-06-10T00:00:00\"],[\"2019-06-17T00:00:00\"],[\"2019-06-24T00:00:00\"],[\"2019-07-01T00:00:00\"],[\"2019-07-08T00:00:00\"],[\"2019-07-15T00:00:00\"],[\"2019-07-22T00:00:00\"],[\"2019-07-29T00:00:00\"],[\"2019-08-05T00:00:00\"],[\"2019-08-12T00:00:00\"],[\"2019-08-19T00:00:00\"],[\"2019-08-26T00:00:00\"],[\"2019-09-02T00:00:00\"],[\"2019-09-09T00:00:00\"],[\"2019-09-16T00:00:00\"],[\"2019-09-23T00:00:00\"],[\"2019-09-30T00:00:00\"],[\"2019-10-07T00:00:00\"],[\"2019-10-14T00:00:00\"],[\"2019-10-21T00:00:00\"],[\"2019-10-28T00:00:00\"],[\"2019-11-04T00:00:00\"],[\"2019-11-11T00:00:00\"],[\"2019-11-18T00:00:00\"],[\"2019-11-25T00:00:00\"],[\"2019-12-02T00:00:00\"],[\"2019-12-09T00:00:00\"],[\"2019-12-16T00:00:00\"],[\"2019-12-23T00:00:00\"],[\"2019-12-30T00:00:00\"]],\"hovertemplate\":\"FB=%{x}<br>AAPL=%{y}<br>date=%{customdata[0]}<extra></extra>\",\"legendgroup\":\"\",\"marker\":{\"color\":\"#636efa\",\"symbol\":\"circle\"},\"mode\":\"markers\",\"name\":\"\",\"orientation\":\"v\",\"showlegend\":false,\"x\":[1.0,0.9599678310954936,0.9702434422185674,1.0168584099483515,1.0183569327795472,0.9425207136466456,0.949210571606832,0.9809472149548658,0.9452501435830832,0.9913298905647344,0.9905806264731936,0.8530371628674177,0.8551778853033591,0.8413165210173983,0.8804923666954552,0.8899116599439659,0.9290339332394776,0.9451966568307202,1.0007492587396545,0.9776825642702948,0.9896708164943808,1.038212463316699,1.0120417443283358,1.048166977313343,1.0796895826698554,1.039978596521961,1.0876638451914205,1.109553119307901,1.12357503483302,0.9359914015737306,0.951458353177682,0.9647310099631464,0.9301578668399936,0.934706922085943,0.940486970067317,0.8725715159998442,0.868718232741186,0.8719828084993478,0.8801712695690254,0.8420122930046896,0.822799036998693,0.8244581110690464,0.7780036945784202,0.8046561475625534,0.7758094853901156,0.7467486995959743,0.7050039698687512,0.7525287475773482,0.735456214007293,0.7709927394918039,0.668718185644586,0.712871248181817,0.7382927084305257,0.769601275795517,0.8029969932139043,0.7974845609584834,0.8868611275292119,0.8955311566861818,0.8696815348242483,0.8664168787877908,0.8685041144713691,0.907679960149426,0.8883060779778621,0.8795289843340972,0.8921059494105662,0.9404334779630672,0.9585228806468435,0.9541342963617566,1.024832747396326,1.0461332337340143,1.0079742571696786,0.9917045600737096,0.9690125351133252,0.9497992791073284,0.9277495340299856,0.9704575658402708,1.0229595550561554,1.0329140690527994,1.0511104505931883,1.0964409334832987,1.0616001853379655,1.0690393020378066,1.011613582715111,1.0053518863681492,0.9831415097733526,0.951297801938524,0.993684731270493,1.003425201923729,1.0018196199576253,1.0164837404393767,0.9478191079105452,0.9657478790768677,0.9857639608531776,0.9946481136318508,1.0055659243596704,1.03623221184162,1.0213539730900516,1.044153062537231,1.0640620851786324,1.0791543619217223,1.07599677037206,1.0388546682733315,1.104094173804843,1.113727585323171,1.0984746770626277],\"xaxis\":\"x\",\"y\":[1.0,1.0119428342857142,1.0197714685714288,0.9800571142857144,0.9171428571428571,0.8937714514285715,0.9853142457142856,1.002857142857143,1.006914325714286,1.02845712,1.0172571657142857,0.9425142971428572,0.9587428514285714,0.9621714571428572,0.99845712,0.9469714342857144,0.9275428971428572,1.0504571542857144,1.07765712,1.06462856,1.0776000114285715,1.0870857428571428,1.0954285542857145,1.0790856914285714,1.0566857028571428,1.0577714342857143,1.0741142914285715,1.093314297142857,1.0939428685714283,1.0913142628571428,1.1885143142857142,1.1858857085714285,1.2433142971428572,1.235200022857143,1.3007428857142855,1.2645714457142856,1.279085691428571,1.2437714514285716,1.2899428857142856,1.2816571028571428,1.2692000057142856,1.253199988571429,1.236000017142857,1.1855999771428571,1.1684000057142856,1.1058857085714286,0.9845142457142856,1.0204571542857144,0.9628000285714284,0.9455999771428572,0.8613142628571429,0.8927428342857143,0.8471999714285714,0.8702285314285714,0.8961143257142857,0.9014856857142858,0.95154288,0.9737714514285716,0.97382856,0.9884000057142855,0.9998285771428572,0.9880571657142858,1.0635428285714286,1.0917143028571428,1.0854285542857145,1.1257142857142857,1.1363999714285713,1.1649142914285715,1.1674285885714286,1.21,1.126742817142857,1.08,1.02268572,1.00040004,1.0865713942857145,1.1013714571428572,1.135885708571429,1.130971417142857,1.167028548571429,1.1617143028571428,1.15765712,1.1870857428571429,1.1658285942857145,1.1485143142857142,1.18,1.1579428514285717,1.1928000285714286,1.218628542857143,1.25,1.2441714057142856,1.25040004,1.2971999714285716,1.3497714685714286,1.3509143085714286,1.409028582857143,1.4618286114285712,1.4865143714285716,1.5186286285714288,1.4958857085714288,1.5271428571428571,1.5469142342857145,1.57228568,1.5968000114285714,1.6559999314285714,1.6779999657142857],\"yaxis\":\"y\",\"type\":\"scatter\"},{\"hovertemplate\":\"<b>OLS trendline</b><br>AAPL = 0.86957 * FB + 0.316687<br>R<sup>2</sup>=0.243540<br><br>FB=%{x}<br>AAPL=%{y} <b>(trend)</b><extra></extra>\",\"legendgroup\":\"\",\"marker\":{\"color\":\"#636efa\",\"symbol\":\"circle\"},\"mode\":\"lines\",\"name\":\"\",\"showlegend\":false,\"x\":[0.668718185644586,0.7050039698687512,0.712871248181817,0.735456214007293,0.7382927084305257,0.7467486995959743,0.7525287475773482,0.769601275795517,0.7709927394918039,0.7758094853901156,0.7780036945784202,0.7974845609584834,0.8029969932139043,0.8046561475625534,0.822799036998693,0.8244581110690464,0.8413165210173983,0.8420122930046896,0.8530371628674177,0.8551778853033591,0.8664168787877908,0.8685041144713691,0.868718232741186,0.8696815348242483,0.8719828084993478,0.8725715159998442,0.8795289843340972,0.8801712695690254,0.8804923666954552,0.8868611275292119,0.8883060779778621,0.8899116599439659,0.8921059494105662,0.8955311566861818,0.907679960149426,0.9277495340299856,0.9290339332394776,0.9301578668399936,0.934706922085943,0.9359914015737306,0.9404334779630672,0.940486970067317,0.9425207136466456,0.9451966568307202,0.9452501435830832,0.9478191079105452,0.949210571606832,0.9497992791073284,0.951297801938524,0.951458353177682,0.9541342963617566,0.9585228806468435,0.9599678310954936,0.9647310099631464,0.9657478790768677,0.9690125351133252,0.9702434422185674,0.9704575658402708,0.9776825642702948,0.9809472149548658,0.9831415097733526,0.9857639608531776,0.9896708164943808,0.9905806264731936,0.9913298905647344,0.9917045600737096,0.993684731270493,0.9946481136318508,1.0,1.0007492587396545,1.0018196199576253,1.003425201923729,1.0053518863681492,1.0055659243596704,1.0079742571696786,1.011613582715111,1.0120417443283358,1.0164837404393767,1.0168584099483515,1.0183569327795472,1.0213539730900516,1.0229595550561554,1.024832747396326,1.0329140690527994,1.03623221184162,1.038212463316699,1.0388546682733315,1.039978596521961,1.044153062537231,1.0461332337340143,1.048166977313343,1.0511104505931883,1.0616001853379655,1.0640620851786324,1.0690393020378066,1.07599677037206,1.0791543619217223,1.0796895826698554,1.0876638451914205,1.0964409334832987,1.0984746770626277,1.104094173804843,1.109553119307901,1.113727585323171,1.12357503483302],\"xaxis\":\"x\",\"y\":[0.8981841526419707,0.9297371977396911,0.936578350348518,0.9562175688595274,0.9586841005431967,0.9660371804419532,0.9710633392675855,0.9859091050218014,0.9871190807106152,0.9913075805268179,0.9932155999606738,1.010155585373017,1.0149490334759683,1.0163917850412532,1.0321683052631925,1.033610987020845,1.0482705618584738,1.0488755846066968,1.0584624854664413,1.0603239944018878,1.070097090832062,1.0719120892690988,1.0720982801856858,1.0729359391951154,1.0749370587411071,1.0754489813771944,1.0814989901288432,1.082057502378657,1.0823367189459052,1.087874805061467,1.0891312912486906,1.0905274578540913,1.0924355470955796,1.0954140060691784,1.1059782463565302,1.1234301544049607,1.124547029981639,1.125524369409246,1.1294800933489775,1.130597038733288,1.1344597370223581,1.13450625217461,1.136274735459395,1.138601656532519,1.1386481670309285,1.1408820624533915,1.1420920381422053,1.1426039607782923,1.1439070319253999,1.1440466425359452,1.1463735636090693,1.1501897467458877,1.151446232933111,1.1555881524432718,1.1564723917587434,1.159311240121797,1.160381600546223,1.1605677961166525,1.1668504411295082,1.1696892848387195,1.17159737873405,1.1738777846549224,1.1772750708063147,1.1780662146634926,1.1787177525639674,1.1790435540910997,1.180765452416001,1.1816031812330627,1.1862570233793108,1.1869085566259434,1.1878393110936667,1.1892354776990675,1.190910865525559,1.1910969866345138,1.193191201638799,1.1963558515289852,1.1967281682083692,1.2005907966898073,1.2009165982169394,1.202219669364047,1.2048258070044195,1.2062219736098205,1.2078508462840603,1.2148781246556841,1.2177634835171474,1.2194854516496805,1.2200438940918619,1.2210212288656268,1.2246512210858582,1.2263731194107592,1.2281416026955445,1.230701160029875,1.2398227232134165,1.2419635185237434,1.2462915591428592,1.2523415678945087,1.2550873161454261,1.2555527282831038,1.2624869111964343,1.270119207662439,1.2718876909472243,1.276774239162311,1.2815211767668528,1.2851511689870843,1.2937142199208123],\"yaxis\":\"y\",\"type\":\"scatter\"}],                        {\"template\":{\"data\":{\"barpolar\":[{\"marker\":{\"line\":{\"color\":\"white\",\"width\":0.5},\"pattern\":{\"fillmode\":\"overlay\",\"size\":10,\"solidity\":0.2}},\"type\":\"barpolar\"}],\"bar\":[{\"error_x\":{\"color\":\"#2a3f5f\"},\"error_y\":{\"color\":\"#2a3f5f\"},\"marker\":{\"line\":{\"color\":\"white\",\"width\":0.5},\"pattern\":{\"fillmode\":\"overlay\",\"size\":10,\"solidity\":0.2}},\"type\":\"bar\"}],\"carpet\":[{\"aaxis\":{\"endlinecolor\":\"#2a3f5f\",\"gridcolor\":\"#C8D4E3\",\"linecolor\":\"#C8D4E3\",\"minorgridcolor\":\"#C8D4E3\",\"startlinecolor\":\"#2a3f5f\"},\"baxis\":{\"endlinecolor\":\"#2a3f5f\",\"gridcolor\":\"#C8D4E3\",\"linecolor\":\"#C8D4E3\",\"minorgridcolor\":\"#C8D4E3\",\"startlinecolor\":\"#2a3f5f\"},\"type\":\"carpet\"}],\"choropleth\":[{\"colorbar\":{\"outlinewidth\":0,\"ticks\":\"\"},\"type\":\"choropleth\"}],\"contourcarpet\":[{\"colorbar\":{\"outlinewidth\":0,\"ticks\":\"\"},\"type\":\"contourcarpet\"}],\"contour\":[{\"colorbar\":{\"outlinewidth\":0,\"ticks\":\"\"},\"colorscale\":[[0.0,\"#0d0887\"],[0.1111111111111111,\"#46039f\"],[0.2222222222222222,\"#7201a8\"],[0.3333333333333333,\"#9c179e\"],[0.4444444444444444,\"#bd3786\"],[0.5555555555555556,\"#d8576b\"],[0.6666666666666666,\"#ed7953\"],[0.7777777777777778,\"#fb9f3a\"],[0.8888888888888888,\"#fdca26\"],[1.0,\"#f0f921\"]],\"type\":\"contour\"}],\"heatmapgl\":[{\"colorbar\":{\"outlinewidth\":0,\"ticks\":\"\"},\"colorscale\":[[0.0,\"#0d0887\"],[0.1111111111111111,\"#46039f\"],[0.2222222222222222,\"#7201a8\"],[0.3333333333333333,\"#9c179e\"],[0.4444444444444444,\"#bd3786\"],[0.5555555555555556,\"#d8576b\"],[0.6666666666666666,\"#ed7953\"],[0.7777777777777778,\"#fb9f3a\"],[0.8888888888888888,\"#fdca26\"],[1.0,\"#f0f921\"]],\"type\":\"heatmapgl\"}],\"heatmap\":[{\"colorbar\":{\"outlinewidth\":0,\"ticks\":\"\"},\"colorscale\":[[0.0,\"#0d0887\"],[0.1111111111111111,\"#46039f\"],[0.2222222222222222,\"#7201a8\"],[0.3333333333333333,\"#9c179e\"],[0.4444444444444444,\"#bd3786\"],[0.5555555555555556,\"#d8576b\"],[0.6666666666666666,\"#ed7953\"],[0.7777777777777778,\"#fb9f3a\"],[0.8888888888888888,\"#fdca26\"],[1.0,\"#f0f921\"]],\"type\":\"heatmap\"}],\"histogram2dcontour\":[{\"colorbar\":{\"outlinewidth\":0,\"ticks\":\"\"},\"colorscale\":[[0.0,\"#0d0887\"],[0.1111111111111111,\"#46039f\"],[0.2222222222222222,\"#7201a8\"],[0.3333333333333333,\"#9c179e\"],[0.4444444444444444,\"#bd3786\"],[0.5555555555555556,\"#d8576b\"],[0.6666666666666666,\"#ed7953\"],[0.7777777777777778,\"#fb9f3a\"],[0.8888888888888888,\"#fdca26\"],[1.0,\"#f0f921\"]],\"type\":\"histogram2dcontour\"}],\"histogram2d\":[{\"colorbar\":{\"outlinewidth\":0,\"ticks\":\"\"},\"colorscale\":[[0.0,\"#0d0887\"],[0.1111111111111111,\"#46039f\"],[0.2222222222222222,\"#7201a8\"],[0.3333333333333333,\"#9c179e\"],[0.4444444444444444,\"#bd3786\"],[0.5555555555555556,\"#d8576b\"],[0.6666666666666666,\"#ed7953\"],[0.7777777777777778,\"#fb9f3a\"],[0.8888888888888888,\"#fdca26\"],[1.0,\"#f0f921\"]],\"type\":\"histogram2d\"}],\"histogram\":[{\"marker\":{\"pattern\":{\"fillmode\":\"overlay\",\"size\":10,\"solidity\":0.2}},\"type\":\"histogram\"}],\"mesh3d\":[{\"colorbar\":{\"outlinewidth\":0,\"ticks\":\"\"},\"type\":\"mesh3d\"}],\"parcoords\":[{\"line\":{\"colorbar\":{\"outlinewidth\":0,\"ticks\":\"\"}},\"type\":\"parcoords\"}],\"pie\":[{\"automargin\":true,\"type\":\"pie\"}],\"scatter3d\":[{\"line\":{\"colorbar\":{\"outlinewidth\":0,\"ticks\":\"\"}},\"marker\":{\"colorbar\":{\"outlinewidth\":0,\"ticks\":\"\"}},\"type\":\"scatter3d\"}],\"scattercarpet\":[{\"marker\":{\"colorbar\":{\"outlinewidth\":0,\"ticks\":\"\"}},\"type\":\"scattercarpet\"}],\"scattergeo\":[{\"marker\":{\"colorbar\":{\"outlinewidth\":0,\"ticks\":\"\"}},\"type\":\"scattergeo\"}],\"scattergl\":[{\"marker\":{\"colorbar\":{\"outlinewidth\":0,\"ticks\":\"\"}},\"type\":\"scattergl\"}],\"scattermapbox\":[{\"marker\":{\"colorbar\":{\"outlinewidth\":0,\"ticks\":\"\"}},\"type\":\"scattermapbox\"}],\"scatterpolargl\":[{\"marker\":{\"colorbar\":{\"outlinewidth\":0,\"ticks\":\"\"}},\"type\":\"scatterpolargl\"}],\"scatterpolar\":[{\"marker\":{\"colorbar\":{\"outlinewidth\":0,\"ticks\":\"\"}},\"type\":\"scatterpolar\"}],\"scatter\":[{\"fillpattern\":{\"fillmode\":\"overlay\",\"size\":10,\"solidity\":0.2},\"type\":\"scatter\"}],\"scatterternary\":[{\"marker\":{\"colorbar\":{\"outlinewidth\":0,\"ticks\":\"\"}},\"type\":\"scatterternary\"}],\"surface\":[{\"colorbar\":{\"outlinewidth\":0,\"ticks\":\"\"},\"colorscale\":[[0.0,\"#0d0887\"],[0.1111111111111111,\"#46039f\"],[0.2222222222222222,\"#7201a8\"],[0.3333333333333333,\"#9c179e\"],[0.4444444444444444,\"#bd3786\"],[0.5555555555555556,\"#d8576b\"],[0.6666666666666666,\"#ed7953\"],[0.7777777777777778,\"#fb9f3a\"],[0.8888888888888888,\"#fdca26\"],[1.0,\"#f0f921\"]],\"type\":\"surface\"}],\"table\":[{\"cells\":{\"fill\":{\"color\":\"#EBF0F8\"},\"line\":{\"color\":\"white\"}},\"header\":{\"fill\":{\"color\":\"#C8D4E3\"},\"line\":{\"color\":\"white\"}},\"type\":\"table\"}]},\"layout\":{\"annotationdefaults\":{\"arrowcolor\":\"#2a3f5f\",\"arrowhead\":0,\"arrowwidth\":1},\"autotypenumbers\":\"strict\",\"coloraxis\":{\"colorbar\":{\"outlinewidth\":0,\"ticks\":\"\"}},\"colorscale\":{\"diverging\":[[0,\"#8e0152\"],[0.1,\"#c51b7d\"],[0.2,\"#de77ae\"],[0.3,\"#f1b6da\"],[0.4,\"#fde0ef\"],[0.5,\"#f7f7f7\"],[0.6,\"#e6f5d0\"],[0.7,\"#b8e186\"],[0.8,\"#7fbc41\"],[0.9,\"#4d9221\"],[1,\"#276419\"]],\"sequential\":[[0.0,\"#0d0887\"],[0.1111111111111111,\"#46039f\"],[0.2222222222222222,\"#7201a8\"],[0.3333333333333333,\"#9c179e\"],[0.4444444444444444,\"#bd3786\"],[0.5555555555555556,\"#d8576b\"],[0.6666666666666666,\"#ed7953\"],[0.7777777777777778,\"#fb9f3a\"],[0.8888888888888888,\"#fdca26\"],[1.0,\"#f0f921\"]],\"sequentialminus\":[[0.0,\"#0d0887\"],[0.1111111111111111,\"#46039f\"],[0.2222222222222222,\"#7201a8\"],[0.3333333333333333,\"#9c179e\"],[0.4444444444444444,\"#bd3786\"],[0.5555555555555556,\"#d8576b\"],[0.6666666666666666,\"#ed7953\"],[0.7777777777777778,\"#fb9f3a\"],[0.8888888888888888,\"#fdca26\"],[1.0,\"#f0f921\"]]},\"colorway\":[\"#636efa\",\"#EF553B\",\"#00cc96\",\"#ab63fa\",\"#FFA15A\",\"#19d3f3\",\"#FF6692\",\"#B6E880\",\"#FF97FF\",\"#FECB52\"],\"font\":{\"color\":\"#2a3f5f\"},\"geo\":{\"bgcolor\":\"white\",\"lakecolor\":\"white\",\"landcolor\":\"white\",\"showlakes\":true,\"showland\":true,\"subunitcolor\":\"#C8D4E3\"},\"hoverlabel\":{\"align\":\"left\"},\"hovermode\":\"closest\",\"mapbox\":{\"style\":\"light\"},\"paper_bgcolor\":\"white\",\"plot_bgcolor\":\"white\",\"polar\":{\"angularaxis\":{\"gridcolor\":\"#EBF0F8\",\"linecolor\":\"#EBF0F8\",\"ticks\":\"\"},\"bgcolor\":\"white\",\"radialaxis\":{\"gridcolor\":\"#EBF0F8\",\"linecolor\":\"#EBF0F8\",\"ticks\":\"\"}},\"scene\":{\"xaxis\":{\"backgroundcolor\":\"white\",\"gridcolor\":\"#DFE8F3\",\"gridwidth\":2,\"linecolor\":\"#EBF0F8\",\"showbackground\":true,\"ticks\":\"\",\"zerolinecolor\":\"#EBF0F8\"},\"yaxis\":{\"backgroundcolor\":\"white\",\"gridcolor\":\"#DFE8F3\",\"gridwidth\":2,\"linecolor\":\"#EBF0F8\",\"showbackground\":true,\"ticks\":\"\",\"zerolinecolor\":\"#EBF0F8\"},\"zaxis\":{\"backgroundcolor\":\"white\",\"gridcolor\":\"#DFE8F3\",\"gridwidth\":2,\"linecolor\":\"#EBF0F8\",\"showbackground\":true,\"ticks\":\"\",\"zerolinecolor\":\"#EBF0F8\"}},\"shapedefaults\":{\"line\":{\"color\":\"#2a3f5f\"}},\"ternary\":{\"aaxis\":{\"gridcolor\":\"#DFE8F3\",\"linecolor\":\"#A2B1C6\",\"ticks\":\"\"},\"baxis\":{\"gridcolor\":\"#DFE8F3\",\"linecolor\":\"#A2B1C6\",\"ticks\":\"\"},\"bgcolor\":\"white\",\"caxis\":{\"gridcolor\":\"#DFE8F3\",\"linecolor\":\"#A2B1C6\",\"ticks\":\"\"}},\"title\":{\"x\":0.05},\"xaxis\":{\"automargin\":true,\"gridcolor\":\"#EBF0F8\",\"linecolor\":\"#EBF0F8\",\"ticks\":\"\",\"title\":{\"standoff\":15},\"zerolinecolor\":\"#EBF0F8\",\"zerolinewidth\":2},\"yaxis\":{\"automargin\":true,\"gridcolor\":\"#EBF0F8\",\"linecolor\":\"#EBF0F8\",\"ticks\":\"\",\"title\":{\"standoff\":15},\"zerolinecolor\":\"#EBF0F8\",\"zerolinewidth\":2}}},\"xaxis\":{\"anchor\":\"y\",\"domain\":[0.0,1.0],\"title\":{\"text\":\"FB\"}},\"yaxis\":{\"anchor\":\"x\",\"domain\":[0.0,1.0],\"title\":{\"text\":\"AAPL\"}},\"legend\":{\"tracegroupgap\":0},\"margin\":{\"t\":60},\"height\":400},                        {\"responsive\": true}                    ).then(function(){\n",
       "                            \n",
       "var gd = document.getElementById('852cde01-436f-415f-be94-91d6337b1a24');\n",
       "var x = new MutationObserver(function (mutations, observer) {{\n",
       "        var display = window.getComputedStyle(gd).display;\n",
       "        if (!display || display === 'none') {{\n",
       "            console.log([gd, 'removed!']);\n",
       "            Plotly.purge(gd);\n",
       "            observer.disconnect();\n",
       "        }}\n",
       "}});\n",
       "\n",
       "// Listen for the removal of the full notebook cells\n",
       "var notebookContainer = gd.closest('#notebook-container');\n",
       "if (notebookContainer) {{\n",
       "    x.observe(notebookContainer, {childList: true});\n",
       "}}\n",
       "\n",
       "// Listen for the clearing of the current output cell\n",
       "var outputEl = gd.closest('.output');\n",
       "if (outputEl) {{\n",
       "    x.observe(outputEl, {childList: true});\n",
       "}}\n",
       "\n",
       "                        })                };                });            </script>        </div>"
      ]
     },
     "metadata": {},
     "output_type": "display_data"
    },
    {
     "data": {
      "text/plain": [
       "<ipywidgets.widgets.interaction._InteractFactory at 0x12cf4f0d0>"
      ]
     },
     "metadata": {},
     "output_type": "display_data"
    }
   ],
   "source": [
    "out = widgets.interact(financial_scatter_widget(df, x=x_dropdown.value, y=\"AAPL\"), value=fixed(\"AAPL\"))\n",
    "display(out)"
   ]
  },
  {
   "cell_type": "markdown",
   "id": "6ols1aB77KAk",
   "metadata": {
    "id": "6ols1aB77KAk",
    "tags": [
     "hide"
    ]
   },
   "source": [
    "# 3) Réalisation du Dashboard restaurateur"
   ]
  },
  {
   "cell_type": "markdown",
   "id": "s9PZQ50c8jFB",
   "metadata": {
    "id": "s9PZQ50c8jFB",
    "tags": [
     "hide"
    ]
   },
   "source": [
    "Nous allons reprendre les visualisations faites au dernier TP et y ajouter deux éléments d'interaction, l'id du restaurant et les dates de la période sélectionnée.\n"
   ]
  },
  {
   "cell_type": "markdown",
   "id": "h8eYBstn9hkD",
   "metadata": {
    "id": "h8eYBstn9hkD",
    "tags": [
     "hide"
    ]
   },
   "source": [
    "a) Nous allons reprendre les données du TP précédent. Si besoin, vous pouvez de nouveau les téléchargez à [cette adresse](https://drive.google.com/file/d/1X5uXVFrl7SuMUKe7CJaiCmGEOhokorh2/view?usp=sharing)."
   ]
  },
  {
   "cell_type": "markdown",
   "id": "wOBczP1h9wS9",
   "metadata": {
    "id": "wOBczP1h9wS9",
    "tags": [
     "hide"
    ]
   },
   "source": [
    "b) Exécutez le code suivant de preprocessing des données."
   ]
  },
  {
   "cell_type": "code",
   "execution_count": 98,
   "id": "8MixBVyk_9eU",
   "metadata": {
    "id": "8MixBVyk_9eU"
   },
   "outputs": [],
   "source": [
    "df = pd.read_csv(\"Tiller_order_data.csv\", low_memory=False)\n",
    "\n",
    "# Transforme les dates en format datetime\n",
    "df[\"date_opened\"] = pd.to_datetime(df[\"date_opened\"])\n",
    "df[\"date_closed\"] = pd.to_datetime(df[\"date_closed\"])\n",
    "\n",
    "# Mettre en index la date d'ouverture de commande\n",
    "df = df.set_index(df[\"date_opened\"])"
   ]
  },
  {
   "cell_type": "code",
   "execution_count": 76,
   "id": "139d5a55",
   "metadata": {
    "id": "e57f169b",
    "tags": [
     "hide"
    ]
   },
   "outputs": [
    {
     "data": {
      "text/html": [
       "<div>\n",
       "<style scoped>\n",
       "    .dataframe tbody tr th:only-of-type {\n",
       "        vertical-align: middle;\n",
       "    }\n",
       "\n",
       "    .dataframe tbody tr th {\n",
       "        vertical-align: top;\n",
       "    }\n",
       "\n",
       "    .dataframe thead th {\n",
       "        text-align: right;\n",
       "    }\n",
       "</style>\n",
       "<table border=\"1\" class=\"dataframe\">\n",
       "  <thead>\n",
       "    <tr style=\"text-align: right;\">\n",
       "      <th></th>\n",
       "      <th>id_order</th>\n",
       "      <th>id_store</th>\n",
       "      <th>id_table</th>\n",
       "      <th>id_waiter</th>\n",
       "      <th>id_customer</th>\n",
       "      <th>id_external</th>\n",
       "      <th>id_device</th>\n",
       "      <th>date_opened</th>\n",
       "      <th>date_closed</th>\n",
       "      <th>dim_name</th>\n",
       "      <th>dim_status</th>\n",
       "      <th>dim_type</th>\n",
       "      <th>dim_comment</th>\n",
       "      <th>dim_source</th>\n",
       "      <th>m_nb_customer</th>\n",
       "      <th>m_cached_payed</th>\n",
       "      <th>m_cached_price</th>\n",
       "    </tr>\n",
       "    <tr>\n",
       "      <th>date_opened</th>\n",
       "      <th></th>\n",
       "      <th></th>\n",
       "      <th></th>\n",
       "      <th></th>\n",
       "      <th></th>\n",
       "      <th></th>\n",
       "      <th></th>\n",
       "      <th></th>\n",
       "      <th></th>\n",
       "      <th></th>\n",
       "      <th></th>\n",
       "      <th></th>\n",
       "      <th></th>\n",
       "      <th></th>\n",
       "      <th></th>\n",
       "      <th></th>\n",
       "      <th></th>\n",
       "    </tr>\n",
       "  </thead>\n",
       "  <tbody>\n",
       "    <tr>\n",
       "      <th>2019-01-12 13:02:17+00:00</th>\n",
       "      <td>55538867</td>\n",
       "      <td>8052</td>\n",
       "      <td>NaN</td>\n",
       "      <td>NaN</td>\n",
       "      <td>NaN</td>\n",
       "      <td>0425716B-EFF4-41CA-AEA1-839104F36833</td>\n",
       "      <td>15327.0</td>\n",
       "      <td>2019-01-12 13:02:17+00:00</td>\n",
       "      <td>2019-01-12 19:58:38+00:00</td>\n",
       "      <td>vincent</td>\n",
       "      <td>CLOSED</td>\n",
       "      <td>1</td>\n",
       "      <td>NaN</td>\n",
       "      <td>Tiller iPAD</td>\n",
       "      <td>1</td>\n",
       "      <td>45.5</td>\n",
       "      <td>45.5</td>\n",
       "    </tr>\n",
       "    <tr>\n",
       "      <th>2019-01-16 19:39:09+00:00</th>\n",
       "      <td>56035309</td>\n",
       "      <td>8052</td>\n",
       "      <td>NaN</td>\n",
       "      <td>NaN</td>\n",
       "      <td>NaN</td>\n",
       "      <td>75E41FE2-64FF-41D3-954C-A7DE4AA887EF</td>\n",
       "      <td>15327.0</td>\n",
       "      <td>2019-01-16 19:39:09+00:00</td>\n",
       "      <td>2019-01-16 22:10:50+00:00</td>\n",
       "      <td>frere et soeur avec pierre</td>\n",
       "      <td>CLOSED</td>\n",
       "      <td>1</td>\n",
       "      <td>NaN</td>\n",
       "      <td>Tiller iPAD</td>\n",
       "      <td>2</td>\n",
       "      <td>49.8</td>\n",
       "      <td>49.8</td>\n",
       "    </tr>\n",
       "    <tr>\n",
       "      <th>2019-01-12 14:18:46+00:00</th>\n",
       "      <td>55550051</td>\n",
       "      <td>8052</td>\n",
       "      <td>NaN</td>\n",
       "      <td>NaN</td>\n",
       "      <td>NaN</td>\n",
       "      <td>F6051A05-C9AC-4033-BF72-BB5149B8F439</td>\n",
       "      <td>15327.0</td>\n",
       "      <td>2019-01-12 14:18:46+00:00</td>\n",
       "      <td>2019-01-12 19:50:32+00:00</td>\n",
       "      <td>rachel</td>\n",
       "      <td>CLOSED</td>\n",
       "      <td>1</td>\n",
       "      <td>NaN</td>\n",
       "      <td>Tiller iPAD</td>\n",
       "      <td>1</td>\n",
       "      <td>27.4</td>\n",
       "      <td>27.4</td>\n",
       "    </tr>\n",
       "    <tr>\n",
       "      <th>2019-01-24 17:49:12+00:00</th>\n",
       "      <td>57000119</td>\n",
       "      <td>8052</td>\n",
       "      <td>NaN</td>\n",
       "      <td>16199.0</td>\n",
       "      <td>NaN</td>\n",
       "      <td>B8BEEC66-1C10-48A0-B4D5-035CB5EEFE62</td>\n",
       "      <td>15327.0</td>\n",
       "      <td>2019-01-24 17:49:12+00:00</td>\n",
       "      <td>2019-01-24 21:58:59+00:00</td>\n",
       "      <td>Groupe PEL</td>\n",
       "      <td>CLOSED</td>\n",
       "      <td>1</td>\n",
       "      <td>NaN</td>\n",
       "      <td>tiller-order</td>\n",
       "      <td>3</td>\n",
       "      <td>60.0</td>\n",
       "      <td>60.0</td>\n",
       "    </tr>\n",
       "    <tr>\n",
       "      <th>2019-01-12 15:25:06+00:00</th>\n",
       "      <td>55558817</td>\n",
       "      <td>8052</td>\n",
       "      <td>NaN</td>\n",
       "      <td>NaN</td>\n",
       "      <td>NaN</td>\n",
       "      <td>17F0533C-2FF1-4FC5-A50D-12704C7B7A4B</td>\n",
       "      <td>15327.0</td>\n",
       "      <td>2019-01-12 15:25:06+00:00</td>\n",
       "      <td>2019-01-12 19:21:03+00:00</td>\n",
       "      <td>remi et date</td>\n",
       "      <td>CLOSED</td>\n",
       "      <td>1</td>\n",
       "      <td>NaN</td>\n",
       "      <td>Tiller iPAD</td>\n",
       "      <td>2</td>\n",
       "      <td>39.9</td>\n",
       "      <td>39.9</td>\n",
       "    </tr>\n",
       "  </tbody>\n",
       "</table>\n",
       "</div>"
      ],
      "text/plain": [
       "                           id_order  id_store  id_table  id_waiter  \\\n",
       "date_opened                                                          \n",
       "2019-01-12 13:02:17+00:00  55538867      8052       NaN        NaN   \n",
       "2019-01-16 19:39:09+00:00  56035309      8052       NaN        NaN   \n",
       "2019-01-12 14:18:46+00:00  55550051      8052       NaN        NaN   \n",
       "2019-01-24 17:49:12+00:00  57000119      8052       NaN    16199.0   \n",
       "2019-01-12 15:25:06+00:00  55558817      8052       NaN        NaN   \n",
       "\n",
       "                           id_customer                           id_external  \\\n",
       "date_opened                                                                    \n",
       "2019-01-12 13:02:17+00:00          NaN  0425716B-EFF4-41CA-AEA1-839104F36833   \n",
       "2019-01-16 19:39:09+00:00          NaN  75E41FE2-64FF-41D3-954C-A7DE4AA887EF   \n",
       "2019-01-12 14:18:46+00:00          NaN  F6051A05-C9AC-4033-BF72-BB5149B8F439   \n",
       "2019-01-24 17:49:12+00:00          NaN  B8BEEC66-1C10-48A0-B4D5-035CB5EEFE62   \n",
       "2019-01-12 15:25:06+00:00          NaN  17F0533C-2FF1-4FC5-A50D-12704C7B7A4B   \n",
       "\n",
       "                           id_device               date_opened  \\\n",
       "date_opened                                                      \n",
       "2019-01-12 13:02:17+00:00    15327.0 2019-01-12 13:02:17+00:00   \n",
       "2019-01-16 19:39:09+00:00    15327.0 2019-01-16 19:39:09+00:00   \n",
       "2019-01-12 14:18:46+00:00    15327.0 2019-01-12 14:18:46+00:00   \n",
       "2019-01-24 17:49:12+00:00    15327.0 2019-01-24 17:49:12+00:00   \n",
       "2019-01-12 15:25:06+00:00    15327.0 2019-01-12 15:25:06+00:00   \n",
       "\n",
       "                                        date_closed  \\\n",
       "date_opened                                           \n",
       "2019-01-12 13:02:17+00:00 2019-01-12 19:58:38+00:00   \n",
       "2019-01-16 19:39:09+00:00 2019-01-16 22:10:50+00:00   \n",
       "2019-01-12 14:18:46+00:00 2019-01-12 19:50:32+00:00   \n",
       "2019-01-24 17:49:12+00:00 2019-01-24 21:58:59+00:00   \n",
       "2019-01-12 15:25:06+00:00 2019-01-12 19:21:03+00:00   \n",
       "\n",
       "                                             dim_name dim_status  dim_type  \\\n",
       "date_opened                                                                  \n",
       "2019-01-12 13:02:17+00:00                     vincent     CLOSED         1   \n",
       "2019-01-16 19:39:09+00:00  frere et soeur avec pierre     CLOSED         1   \n",
       "2019-01-12 14:18:46+00:00                      rachel     CLOSED         1   \n",
       "2019-01-24 17:49:12+00:00                  Groupe PEL     CLOSED         1   \n",
       "2019-01-12 15:25:06+00:00                remi et date     CLOSED         1   \n",
       "\n",
       "                          dim_comment    dim_source  m_nb_customer  \\\n",
       "date_opened                                                          \n",
       "2019-01-12 13:02:17+00:00         NaN   Tiller iPAD              1   \n",
       "2019-01-16 19:39:09+00:00         NaN   Tiller iPAD              2   \n",
       "2019-01-12 14:18:46+00:00         NaN   Tiller iPAD              1   \n",
       "2019-01-24 17:49:12+00:00         NaN  tiller-order              3   \n",
       "2019-01-12 15:25:06+00:00         NaN   Tiller iPAD              2   \n",
       "\n",
       "                           m_cached_payed  m_cached_price  \n",
       "date_opened                                                \n",
       "2019-01-12 13:02:17+00:00            45.5            45.5  \n",
       "2019-01-16 19:39:09+00:00            49.8            49.8  \n",
       "2019-01-12 14:18:46+00:00            27.4            27.4  \n",
       "2019-01-24 17:49:12+00:00            60.0            60.0  \n",
       "2019-01-12 15:25:06+00:00            39.9            39.9  "
      ]
     },
     "execution_count": 76,
     "metadata": {},
     "output_type": "execute_result"
    }
   ],
   "source": [
    "df.head()"
   ]
  },
  {
   "cell_type": "markdown",
   "id": "WiCYZ1dmAPAg",
   "metadata": {
    "id": "WiCYZ1dmAPAg",
    "tags": [
     "hide"
    ]
   },
   "source": [
    "c) Exécutez le code ci-dessous qui détermine l'id du restaurant et les dates de la période souhaitée. Ce sont ces paramètres que nous allons rendre sélectionnables grâce aux widgets."
   ]
  },
  {
   "cell_type": "code",
   "execution_count": 99,
   "id": "NWlGfgvAAi7x",
   "metadata": {
    "id": "NWlGfgvAAi7x",
    "tags": [
     "hide"
    ]
   },
   "outputs": [
    {
     "data": {
      "text/plain": [
       "(2703, 17)"
      ]
     },
     "execution_count": 99,
     "metadata": {},
     "output_type": "execute_result"
    }
   ],
   "source": [
    "id_store = 8052\n",
    "date_debut = \"2019-10-01\"\n",
    "date_fin = \"2021-12-31\"\n",
    "\n",
    "df_store = df[(df.id_store == id_store) & (df.date_opened >= date_debut) & (df.date_closed < date_fin)]\n",
    "df_store.shape"
   ]
  },
  {
   "cell_type": "markdown",
   "id": "D0PV9ce0CnFM",
   "metadata": {
    "id": "D0PV9ce0CnFM",
    "tags": [
     "hide"
    ]
   },
   "source": [
    "d) Changez le code précédent en utilisant deux widgets, un dropdown menu pour choisir le restaurant et un date picker pour choisir la date de début et de fin de la période qu'on souhaite analyser."
   ]
  },
  {
   "cell_type": "markdown",
   "id": "ZsTHHCmoF7HW",
   "metadata": {
    "id": "ZsTHHCmoF7HW",
    "tags": [
     "hide"
    ]
   },
   "source": [
    "Créez la variable `id_store_dropdown` avec un widget de type Dropdown :"
   ]
  },
  {
   "cell_type": "code",
   "execution_count": 108,
   "id": "p_IH0i9wC4Hd",
   "metadata": {
    "id": "p_IH0i9wC4Hd"
   },
   "outputs": [],
   "source": [
    "id_store_dropdown = widgets.Dropdown(\n",
    "    options=df.id_store.unique(),\n",
    "    value=8052,\n",
    "    description='Restaurant',\n",
    "    style= {'description_width': 'initial'},\n",
    "    disabled=False,\n",
    ")\n"
   ]
  },
  {
   "cell_type": "code",
   "execution_count": 109,
   "id": "a1bf45f2",
   "metadata": {
    "id": "a1bf45f2",
    "tags": [
     "hide"
    ]
   },
   "outputs": [
    {
     "data": {
      "application/vnd.jupyter.widget-view+json": {
       "model_id": "46a738e1442e453984e9a98c4b65c5a9",
       "version_major": 2,
       "version_minor": 0
      },
      "text/plain": [
       "Dropdown(description='Restaurant', options=(8052, 8347, 8283, 9084, 4337, 360, 1796, 7965, 6293, 4542), style=…"
      ]
     },
     "metadata": {},
     "output_type": "display_data"
    }
   ],
   "source": [
    "display(id_store_dropdown)"
   ]
  },
  {
   "cell_type": "code",
   "execution_count": 126,
   "id": "00289812",
   "metadata": {
    "tags": [
     "hide"
    ]
   },
   "outputs": [
    {
     "name": "stdout",
     "output_type": "stream",
     "text": [
      "8052\n"
     ]
    }
   ],
   "source": [
    "print(id_store_dropdown.value)"
   ]
  },
  {
   "cell_type": "markdown",
   "id": "D6mDlvftGDvg",
   "metadata": {
    "id": "D6mDlvftGDvg",
    "tags": [
     "hide"
    ]
   },
   "source": [
    "Créez la variable `date_debut_picker` avec un widget de type DatePicker :"
   ]
  },
  {
   "cell_type": "code",
   "execution_count": 87,
   "id": "dwp-hosNFSF6",
   "metadata": {
    "id": "dwp-hosNFSF6"
   },
   "outputs": [],
   "source": [
    "date_debut_picker = widgets.DatePicker(\n",
    "    description='Pick start date',\n",
    "    disabled=False\n",
    ")"
   ]
  },
  {
   "cell_type": "code",
   "execution_count": 88,
   "id": "a2dbf792",
   "metadata": {
    "id": "a2dbf792",
    "tags": [
     "hide"
    ]
   },
   "outputs": [
    {
     "data": {
      "application/vnd.jupyter.widget-view+json": {
       "model_id": "f6fed01fb2814208973c2148e589990f",
       "version_major": 2,
       "version_minor": 0
      },
      "text/plain": [
       "DatePicker(value=None, description='Pick start date', step=1)"
      ]
     },
     "metadata": {},
     "output_type": "display_data"
    }
   ],
   "source": [
    "display(date_debut_picker)"
   ]
  },
  {
   "cell_type": "code",
   "execution_count": 122,
   "id": "8867626e",
   "metadata": {
    "tags": [
     "hide"
    ]
   },
   "outputs": [
    {
     "name": "stdout",
     "output_type": "stream",
     "text": [
      "DatePicker(value=datetime.date(2020, 1, 1), description='Pick start date', step=1)\n"
     ]
    }
   ],
   "source": [
    "print(date_debut_picker)"
   ]
  },
  {
   "cell_type": "markdown",
   "id": "zN8rzhIVGXpF",
   "metadata": {
    "id": "zN8rzhIVGXpF",
    "tags": [
     "hide"
    ]
   },
   "source": [
    "Créez la variable `date_fin_picker` avec un widget de type DatePicker :"
   ]
  },
  {
   "cell_type": "code",
   "execution_count": 83,
   "id": "yZnBjzFXGXOC",
   "metadata": {
    "id": "yZnBjzFXGXOC"
   },
   "outputs": [],
   "source": [
    "date_fin_picker = widgets.DatePicker(\n",
    "    description='Pick end date',\n",
    "    disabled=False\n",
    ")"
   ]
  },
  {
   "cell_type": "code",
   "execution_count": 84,
   "id": "0b557e89",
   "metadata": {
    "id": "0b557e89",
    "tags": [
     "hide"
    ]
   },
   "outputs": [
    {
     "data": {
      "application/vnd.jupyter.widget-view+json": {
       "model_id": "779f0aa9a95747d4bda6ac7906bd409c",
       "version_major": 2,
       "version_minor": 0
      },
      "text/plain": [
       "DatePicker(value=None, description='Pick end date', step=1)"
      ]
     },
     "metadata": {},
     "output_type": "display_data"
    }
   ],
   "source": [
    "display(date_fin_picker)"
   ]
  },
  {
   "cell_type": "code",
   "execution_count": 115,
   "id": "c8239ac9",
   "metadata": {
    "tags": [
     "hide"
    ]
   },
   "outputs": [
    {
     "name": "stdout",
     "output_type": "stream",
     "text": [
      "2020-10-31\n"
     ]
    }
   ],
   "source": [
    "print(date_fin_picker.value)"
   ]
  },
  {
   "cell_type": "markdown",
   "id": "2iw1bAiOAAyC",
   "metadata": {
    "id": "2iw1bAiOAAyC",
    "tags": [
     "hide"
    ]
   },
   "source": [
    "e) Exécutez le code suivant pour transformer toutes les visualisations réalisées au TP précédent en fonctions"
   ]
  },
  {
   "cell_type": "code",
   "execution_count": 101,
   "id": "77839b33",
   "metadata": {
    "id": "77839b33",
    "scrolled": false
   },
   "outputs": [],
   "source": [
    "import plotly.graph_objects as go\n",
    "\n",
    "def revenue_over_time(df_store):\n",
    "    df_revenue = df_store[df_store.dim_status==\"CLOSED\"].resample(\"D\").m_cached_payed.sum()\n",
    "\n",
    "    fig = px.line(df_revenue,\n",
    "                  y=\"m_cached_payed\",\n",
    "                  title=\"Chiffre d'affaire au cours du temps\")\n",
    "    fig.update_xaxes(\n",
    "        rangeselector=dict(\n",
    "            buttons=list([\n",
    "                dict(count=7, label=\"Last 7days\", step=\"day\", stepmode=\"backward\"),\n",
    "                dict(count=1, label=\"1m\", step=\"month\", stepmode=\"backward\"),\n",
    "                dict(count=6, label=\"6m\", step=\"month\", stepmode=\"backward\"),\n",
    "                dict(count=1, label=\"YTD\", step=\"year\", stepmode=\"todate\"),\n",
    "                dict(count=1, label=\"1y\", step=\"year\", stepmode=\"backward\"),\n",
    "                dict(step=\"all\")\n",
    "            ])\n",
    "        )\n",
    "    )\n",
    "    fig.show()\n",
    "\n",
    "def clients_over_time(df_store):\n",
    "    df_revenue = df_store[df_store.dim_status==\"CLOSED\"].resample(\"D\").m_cached_payed.sum()\n",
    "    df_nb_customer = df_store[df_store.dim_status==\"CLOSED\"].resample(\"D\")[\"m_nb_customer\"].sum()\n",
    "\n",
    "    df_average_basket = df_revenue / df_nb_customer\n",
    "\n",
    "    fig_panier_moyen = go.Scatter(x=df_average_basket.index,\n",
    "                                  y=df_average_basket,\n",
    "                                  name=\"panier moyen\", \n",
    "                                  mode=\"lines\", \n",
    "                                  line_color=\"#000000\")\n",
    "\n",
    "    fig = px.bar(df_nb_customer,\n",
    "                 title=\"Nombre de clients au cours du temps\")\n",
    "    fig.add_trace(fig_panier_moyen)\n",
    "    fig.update_xaxes(tickformat=\"%d/%m/%Y\")\n",
    "    fig.update_xaxes(\n",
    "        rangeselector=dict(\n",
    "            buttons=list([\n",
    "                dict(count=1, label=\"1m\", step=\"month\", stepmode=\"backward\"),\n",
    "                dict(count=6, label=\"6m\", step=\"month\", stepmode=\"backward\"),\n",
    "                dict(count=1, label=\"YTD\", step=\"year\", stepmode=\"todate\"),\n",
    "                dict(count=1, label=\"1y\", step=\"year\", stepmode=\"backward\"),\n",
    "                dict(step=\"all\")\n",
    "            ])\n",
    "        )\n",
    "    )\n",
    "    fig.show()\n",
    "\n",
    "def best_staff(df_store):\n",
    "    df_store.loc[df_store[\"id_waiter\"].isnull(), \"id_waiter\"] = \"unknown\"\n",
    "\n",
    "    df_waiter = df_store.groupby(\"id_waiter\", as_index=False)[\"m_cached_payed\"].sum()\n",
    "\n",
    "    fig = px.pie(\n",
    "        df_waiter,\n",
    "        names='id_waiter',\n",
    "        values='m_cached_payed',\n",
    "        color='id_waiter',\n",
    "        title = 'Répartition des commandes non enregistrées par un serveur'\n",
    "    )\n",
    "    fig.update_traces(\n",
    "        textinfo='percent+label'\n",
    "    )\n",
    "    fig.show()"
   ]
  },
  {
   "cell_type": "markdown",
   "id": "c87eb8a7",
   "metadata": {
    "id": "c87eb8a7",
    "tags": [
     "hide"
    ]
   },
   "source": [
    "f) Faîtes intéragir les widgets précédemment créés, via la fonction 'interact', avec la fonction 'display_dash'. \n",
    "\n",
    "Cette fonction 'display_dash' filtre le dataframe initial en fonction des valeurs précisées dans les trois widgets, et appelle ensuite les visualisations ci-dessus pour les afficher à partir du dataframe filtré.\n",
    "\n",
    "Vous devez donc, dans cette fonction 'display_dash' :\n",
    "- filtrer le dataframe iniitial (df) en fonction des valeurs des widgets id_store_dropdown, date_debut_picker et date_fin_picker\n",
    "- appeler les fonctions revenue_over_time, clients_over_time et best_staff"
   ]
  },
  {
   "cell_type": "code",
   "execution_count": 130,
   "id": "0c880e95",
   "metadata": {
    "tags": [
     "hide"
    ]
   },
   "outputs": [
    {
     "data": {
      "text/html": [
       "<div>\n",
       "<style scoped>\n",
       "    .dataframe tbody tr th:only-of-type {\n",
       "        vertical-align: middle;\n",
       "    }\n",
       "\n",
       "    .dataframe tbody tr th {\n",
       "        vertical-align: top;\n",
       "    }\n",
       "\n",
       "    .dataframe thead th {\n",
       "        text-align: right;\n",
       "    }\n",
       "</style>\n",
       "<table border=\"1\" class=\"dataframe\">\n",
       "  <thead>\n",
       "    <tr style=\"text-align: right;\">\n",
       "      <th></th>\n",
       "      <th>id_order</th>\n",
       "      <th>id_store</th>\n",
       "      <th>id_table</th>\n",
       "      <th>id_waiter</th>\n",
       "      <th>id_customer</th>\n",
       "      <th>id_external</th>\n",
       "      <th>id_device</th>\n",
       "      <th>date_opened</th>\n",
       "      <th>date_closed</th>\n",
       "      <th>dim_name</th>\n",
       "      <th>dim_status</th>\n",
       "      <th>dim_type</th>\n",
       "      <th>dim_comment</th>\n",
       "      <th>dim_source</th>\n",
       "      <th>m_nb_customer</th>\n",
       "      <th>m_cached_payed</th>\n",
       "      <th>m_cached_price</th>\n",
       "    </tr>\n",
       "    <tr>\n",
       "      <th>date_opened</th>\n",
       "      <th></th>\n",
       "      <th></th>\n",
       "      <th></th>\n",
       "      <th></th>\n",
       "      <th></th>\n",
       "      <th></th>\n",
       "      <th></th>\n",
       "      <th></th>\n",
       "      <th></th>\n",
       "      <th></th>\n",
       "      <th></th>\n",
       "      <th></th>\n",
       "      <th></th>\n",
       "      <th></th>\n",
       "      <th></th>\n",
       "      <th></th>\n",
       "      <th></th>\n",
       "    </tr>\n",
       "  </thead>\n",
       "  <tbody>\n",
       "    <tr>\n",
       "      <th>2019-01-12 13:02:17+00:00</th>\n",
       "      <td>55538867</td>\n",
       "      <td>8052</td>\n",
       "      <td>NaN</td>\n",
       "      <td>NaN</td>\n",
       "      <td>NaN</td>\n",
       "      <td>0425716B-EFF4-41CA-AEA1-839104F36833</td>\n",
       "      <td>15327.0</td>\n",
       "      <td>2019-01-12 13:02:17+00:00</td>\n",
       "      <td>2019-01-12 19:58:38+00:00</td>\n",
       "      <td>vincent</td>\n",
       "      <td>CLOSED</td>\n",
       "      <td>1</td>\n",
       "      <td>NaN</td>\n",
       "      <td>Tiller iPAD</td>\n",
       "      <td>1</td>\n",
       "      <td>45.5</td>\n",
       "      <td>45.5</td>\n",
       "    </tr>\n",
       "    <tr>\n",
       "      <th>2019-01-16 19:39:09+00:00</th>\n",
       "      <td>56035309</td>\n",
       "      <td>8052</td>\n",
       "      <td>NaN</td>\n",
       "      <td>NaN</td>\n",
       "      <td>NaN</td>\n",
       "      <td>75E41FE2-64FF-41D3-954C-A7DE4AA887EF</td>\n",
       "      <td>15327.0</td>\n",
       "      <td>2019-01-16 19:39:09+00:00</td>\n",
       "      <td>2019-01-16 22:10:50+00:00</td>\n",
       "      <td>frere et soeur avec pierre</td>\n",
       "      <td>CLOSED</td>\n",
       "      <td>1</td>\n",
       "      <td>NaN</td>\n",
       "      <td>Tiller iPAD</td>\n",
       "      <td>2</td>\n",
       "      <td>49.8</td>\n",
       "      <td>49.8</td>\n",
       "    </tr>\n",
       "    <tr>\n",
       "      <th>2019-01-12 14:18:46+00:00</th>\n",
       "      <td>55550051</td>\n",
       "      <td>8052</td>\n",
       "      <td>NaN</td>\n",
       "      <td>NaN</td>\n",
       "      <td>NaN</td>\n",
       "      <td>F6051A05-C9AC-4033-BF72-BB5149B8F439</td>\n",
       "      <td>15327.0</td>\n",
       "      <td>2019-01-12 14:18:46+00:00</td>\n",
       "      <td>2019-01-12 19:50:32+00:00</td>\n",
       "      <td>rachel</td>\n",
       "      <td>CLOSED</td>\n",
       "      <td>1</td>\n",
       "      <td>NaN</td>\n",
       "      <td>Tiller iPAD</td>\n",
       "      <td>1</td>\n",
       "      <td>27.4</td>\n",
       "      <td>27.4</td>\n",
       "    </tr>\n",
       "    <tr>\n",
       "      <th>2019-01-24 17:49:12+00:00</th>\n",
       "      <td>57000119</td>\n",
       "      <td>8052</td>\n",
       "      <td>NaN</td>\n",
       "      <td>16199.0</td>\n",
       "      <td>NaN</td>\n",
       "      <td>B8BEEC66-1C10-48A0-B4D5-035CB5EEFE62</td>\n",
       "      <td>15327.0</td>\n",
       "      <td>2019-01-24 17:49:12+00:00</td>\n",
       "      <td>2019-01-24 21:58:59+00:00</td>\n",
       "      <td>Groupe PEL</td>\n",
       "      <td>CLOSED</td>\n",
       "      <td>1</td>\n",
       "      <td>NaN</td>\n",
       "      <td>tiller-order</td>\n",
       "      <td>3</td>\n",
       "      <td>60.0</td>\n",
       "      <td>60.0</td>\n",
       "    </tr>\n",
       "    <tr>\n",
       "      <th>2019-01-12 15:25:06+00:00</th>\n",
       "      <td>55558817</td>\n",
       "      <td>8052</td>\n",
       "      <td>NaN</td>\n",
       "      <td>NaN</td>\n",
       "      <td>NaN</td>\n",
       "      <td>17F0533C-2FF1-4FC5-A50D-12704C7B7A4B</td>\n",
       "      <td>15327.0</td>\n",
       "      <td>2019-01-12 15:25:06+00:00</td>\n",
       "      <td>2019-01-12 19:21:03+00:00</td>\n",
       "      <td>remi et date</td>\n",
       "      <td>CLOSED</td>\n",
       "      <td>1</td>\n",
       "      <td>NaN</td>\n",
       "      <td>Tiller iPAD</td>\n",
       "      <td>2</td>\n",
       "      <td>39.9</td>\n",
       "      <td>39.9</td>\n",
       "    </tr>\n",
       "  </tbody>\n",
       "</table>\n",
       "</div>"
      ],
      "text/plain": [
       "                           id_order  id_store  id_table  id_waiter  \\\n",
       "date_opened                                                          \n",
       "2019-01-12 13:02:17+00:00  55538867      8052       NaN        NaN   \n",
       "2019-01-16 19:39:09+00:00  56035309      8052       NaN        NaN   \n",
       "2019-01-12 14:18:46+00:00  55550051      8052       NaN        NaN   \n",
       "2019-01-24 17:49:12+00:00  57000119      8052       NaN    16199.0   \n",
       "2019-01-12 15:25:06+00:00  55558817      8052       NaN        NaN   \n",
       "\n",
       "                           id_customer                           id_external  \\\n",
       "date_opened                                                                    \n",
       "2019-01-12 13:02:17+00:00          NaN  0425716B-EFF4-41CA-AEA1-839104F36833   \n",
       "2019-01-16 19:39:09+00:00          NaN  75E41FE2-64FF-41D3-954C-A7DE4AA887EF   \n",
       "2019-01-12 14:18:46+00:00          NaN  F6051A05-C9AC-4033-BF72-BB5149B8F439   \n",
       "2019-01-24 17:49:12+00:00          NaN  B8BEEC66-1C10-48A0-B4D5-035CB5EEFE62   \n",
       "2019-01-12 15:25:06+00:00          NaN  17F0533C-2FF1-4FC5-A50D-12704C7B7A4B   \n",
       "\n",
       "                           id_device               date_opened  \\\n",
       "date_opened                                                      \n",
       "2019-01-12 13:02:17+00:00    15327.0 2019-01-12 13:02:17+00:00   \n",
       "2019-01-16 19:39:09+00:00    15327.0 2019-01-16 19:39:09+00:00   \n",
       "2019-01-12 14:18:46+00:00    15327.0 2019-01-12 14:18:46+00:00   \n",
       "2019-01-24 17:49:12+00:00    15327.0 2019-01-24 17:49:12+00:00   \n",
       "2019-01-12 15:25:06+00:00    15327.0 2019-01-12 15:25:06+00:00   \n",
       "\n",
       "                                        date_closed  \\\n",
       "date_opened                                           \n",
       "2019-01-12 13:02:17+00:00 2019-01-12 19:58:38+00:00   \n",
       "2019-01-16 19:39:09+00:00 2019-01-16 22:10:50+00:00   \n",
       "2019-01-12 14:18:46+00:00 2019-01-12 19:50:32+00:00   \n",
       "2019-01-24 17:49:12+00:00 2019-01-24 21:58:59+00:00   \n",
       "2019-01-12 15:25:06+00:00 2019-01-12 19:21:03+00:00   \n",
       "\n",
       "                                             dim_name dim_status  dim_type  \\\n",
       "date_opened                                                                  \n",
       "2019-01-12 13:02:17+00:00                     vincent     CLOSED         1   \n",
       "2019-01-16 19:39:09+00:00  frere et soeur avec pierre     CLOSED         1   \n",
       "2019-01-12 14:18:46+00:00                      rachel     CLOSED         1   \n",
       "2019-01-24 17:49:12+00:00                  Groupe PEL     CLOSED         1   \n",
       "2019-01-12 15:25:06+00:00                remi et date     CLOSED         1   \n",
       "\n",
       "                          dim_comment    dim_source  m_nb_customer  \\\n",
       "date_opened                                                          \n",
       "2019-01-12 13:02:17+00:00         NaN   Tiller iPAD              1   \n",
       "2019-01-16 19:39:09+00:00         NaN   Tiller iPAD              2   \n",
       "2019-01-12 14:18:46+00:00         NaN   Tiller iPAD              1   \n",
       "2019-01-24 17:49:12+00:00         NaN  tiller-order              3   \n",
       "2019-01-12 15:25:06+00:00         NaN   Tiller iPAD              2   \n",
       "\n",
       "                           m_cached_payed  m_cached_price  \n",
       "date_opened                                                \n",
       "2019-01-12 13:02:17+00:00            45.5            45.5  \n",
       "2019-01-16 19:39:09+00:00            49.8            49.8  \n",
       "2019-01-12 14:18:46+00:00            27.4            27.4  \n",
       "2019-01-24 17:49:12+00:00            60.0            60.0  \n",
       "2019-01-12 15:25:06+00:00            39.9            39.9  "
      ]
     },
     "execution_count": 130,
     "metadata": {},
     "output_type": "execute_result"
    }
   ],
   "source": [
    "df.head()"
   ]
  },
  {
   "cell_type": "code",
   "execution_count": 153,
   "id": "28341e3e",
   "metadata": {
    "id": "28341e3e"
   },
   "outputs": [],
   "source": [
    "def display_dash(df, id_store_dropdown, date_debut_picker, date_fin_picker):\n",
    "    df_filtered = df[(df.id_store == id_store_dropdown) & (df.index >= str(date_debut_picker)) & (df.index <= str(date_fin_picker))]\n",
    "    # Appel des fonctions revenue_over_time, clients_by_time et best_staff :\n",
    "    revenue_over_time(df_filtered)\n",
    "    clients_over_time(df_filtered)\n",
    "    best_staff(df_filtered)\n",
    "    # à compléter\n",
    "    "
   ]
  },
  {
   "cell_type": "code",
   "execution_count": 156,
   "id": "5c89a3f8",
   "metadata": {
    "id": "5c89a3f8"
   },
   "outputs": [
    {
     "data": {
      "application/vnd.jupyter.widget-view+json": {
       "model_id": "7848f4bb24d948cea9780cac49c10f0f",
       "version_major": 2,
       "version_minor": 0
      },
      "text/plain": [
       "VBox(children=(Dropdown(description='Restaurant', options=(8052, 8347, 8283, 9084, 4337, 360, 1796, 7965, 6293…"
      ]
     },
     "metadata": {},
     "output_type": "display_data"
    },
    {
     "data": {
      "application/vnd.jupyter.widget-view+json": {
       "model_id": "9b08533dd6374045ac9238bf4fe7529f",
       "version_major": 2,
       "version_minor": 0
      },
      "text/plain": [
       "Output()"
      ]
     },
     "metadata": {},
     "output_type": "display_data"
    }
   ],
   "source": [
    "from ipywidgets import HBox, VBox, interactive_output\n",
    "\n",
    "ui = VBox([id_store_dropdown,HBox([date_debut_picker, date_fin_picker])])\n",
    "\n",
    "out = interactive_output(\n",
    "    display_dash, \n",
    "    {\n",
    "        'df': fixed(df),\n",
    "        'id_store_dropdown': id_store_dropdown,\n",
    "        'date_debut_picker': date_debut_picker,\n",
    "        'date_fin_picker': date_fin_picker\n",
    "    }\n",
    ")\n",
    "\n",
    "display(ui, out)"
   ]
  },
  {
   "cell_type": "markdown",
   "id": "I7ZM1n6CDPJn",
   "metadata": {
    "id": "I7ZM1n6CDPJn",
    "tags": [
     "hide"
    ]
   },
   "source": [
    "g) Organisez votre dashboard en utilisant HBox et VBox de la librairie widgets.\n",
    "\n",
    "Ils permettent de gérer l'agencement des différentes visualisation :\n",
    "- placer sur la première ligne le widget : id_store_dropdown\n",
    "- placer sur la seconde ligne les widgets date_debut_picker et date_fin_picker"
   ]
  },
  {
   "cell_type": "code",
   "execution_count": null,
   "id": "2ac3e0aa",
   "metadata": {
    "id": "2ac3e0aa",
    "tags": [
     "hide"
    ]
   },
   "outputs": [],
   "source": [
    "from ipywidgets import HBox, VBox"
   ]
  },
  {
   "cell_type": "code",
   "execution_count": null,
   "id": "7b0e693d",
   "metadata": {
    "id": "7b0e693d",
    "scrolled": false,
    "tags": [
     "hide"
    ]
   },
   "outputs": [],
   "source": [
    "ui = # à compléter"
   ]
  },
  {
   "cell_type": "code",
   "execution_count": null,
   "id": "a83e6cdb",
   "metadata": {
    "id": "a83e6cdb",
    "tags": [
     "hide"
    ]
   },
   "outputs": [],
   "source": [
    "ui"
   ]
  },
  {
   "cell_type": "markdown",
   "id": "fbb5533c",
   "metadata": {
    "id": "fbb5533c",
    "tags": [
     "hide"
    ]
   },
   "source": [
    "h) utiliser maintenant la fonction ['interactive_output'](https://ipywidgets.readthedocs.io/en/latest/examples/Using%20Interact.html#More-control-over-the-user-interface:-interactive_output).\n",
    "Cette fonction permet d'être plus flexible sur la disposition des widgets.\n"
   ]
  },
  {
   "cell_type": "code",
   "execution_count": null,
   "id": "1342d31d",
   "metadata": {
    "id": "1342d31d",
    "tags": [
     "hide"
    ]
   },
   "outputs": [],
   "source": [
    "out = interactive_output(\n",
    "    # à compléter\n",
    ")\n",
    "display(ui, out)"
   ]
  },
  {
   "cell_type": "markdown",
   "id": "DIfWZLIrDuks",
   "metadata": {
    "id": "DIfWZLIrDuks",
    "tags": [
     "hide"
    ]
   },
   "source": [
    "i) Vérifiez que tout fonctionne bien en changeant l'id du restaurant et les dates de la période. \n",
    "Si tout fonctionne, Bravo vous avez créé votre premier dashboard sous Python !"
   ]
  },
  {
   "cell_type": "markdown",
   "id": "popular-munich",
   "metadata": {
    "id": "popular-munich",
    "tags": [
     "hide"
    ]
   },
   "source": [
    "# 4) Transformation du notebook en application web avec Voilà"
   ]
  },
  {
   "cell_type": "markdown",
   "id": "lG17wy9w3ds5",
   "metadata": {
    "id": "lG17wy9w3ds5",
    "tags": [
     "hide"
    ]
   },
   "source": [
    "Maintenant que nous avons l'ensemble des éléments pour notre dashboard utilisateur, nous allons convertir notre notebook en application web pour qu'on puisse l'exécuter en local et pouvoir interragir avec les éléments."
   ]
  },
  {
   "cell_type": "markdown",
   "id": "popular-force",
   "metadata": {
    "id": "popular-force",
    "tags": [
     "hide"
    ]
   },
   "source": [
    "a) Commencez par installer [Voila](https://github.com/voila-dashboards/voila)"
   ]
  },
  {
   "cell_type": "code",
   "execution_count": 23,
   "id": "southwest-whale",
   "metadata": {
    "id": "southwest-whale",
    "tags": [
     "hide"
    ]
   },
   "outputs": [
    {
     "name": "stdout",
     "output_type": "stream",
     "text": [
      "Collecting voila\n",
      "  Obtaining dependency information for voila from https://files.pythonhosted.org/packages/8c/43/8f8ad514d6196c7964cc74eb52596eaf4f2c4e0fccf5accfe31778b43dbe/voila-0.5.4-py3-none-any.whl.metadata\n",
      "  Using cached voila-0.5.4-py3-none-any.whl.metadata (9.0 kB)\n",
      "Requirement already satisfied: jupyter-client<9,>=7.4.4 in /Users/alixtaffle/anaconda3/envs/TheWagon/lib/python3.11/site-packages (from voila) (7.4.9)\n",
      "Requirement already satisfied: jupyter-core>=4.11.0 in /Users/alixtaffle/anaconda3/envs/TheWagon/lib/python3.11/site-packages (from voila) (5.3.0)\n",
      "Collecting jupyter-server<3,>=2.0.0 (from voila)\n",
      "  Obtaining dependency information for jupyter-server<3,>=2.0.0 from https://files.pythonhosted.org/packages/96/a2/b432812537beaf22a9dbc0d50cb62471e57ef90df42738675760fb3dce98/jupyter_server-2.7.3-py3-none-any.whl.metadata\n",
      "  Using cached jupyter_server-2.7.3-py3-none-any.whl.metadata (8.6 kB)\n",
      "Requirement already satisfied: jupyterlab-server<3,>=2.3.0 in /Users/alixtaffle/anaconda3/envs/TheWagon/lib/python3.11/site-packages (from voila) (2.22.0)\n",
      "Requirement already satisfied: nbclient<0.8,>=0.4.0 in /Users/alixtaffle/anaconda3/envs/TheWagon/lib/python3.11/site-packages (from voila) (0.5.13)\n",
      "Requirement already satisfied: nbconvert<8,>=6.4.5 in /Users/alixtaffle/anaconda3/envs/TheWagon/lib/python3.11/site-packages (from voila) (6.5.4)\n",
      "Requirement already satisfied: traitlets<6,>=5.0.3 in /Users/alixtaffle/anaconda3/envs/TheWagon/lib/python3.11/site-packages (from voila) (5.7.1)\n",
      "Collecting websockets>=9.0 (from voila)\n",
      "  Using cached websockets-11.0.3-cp311-cp311-macosx_10_9_x86_64.whl (120 kB)\n",
      "Requirement already satisfied: entrypoints in /Users/alixtaffle/anaconda3/envs/TheWagon/lib/python3.11/site-packages (from jupyter-client<9,>=7.4.4->voila) (0.4)\n",
      "Requirement already satisfied: nest-asyncio>=1.5.4 in /Users/alixtaffle/anaconda3/envs/TheWagon/lib/python3.11/site-packages (from jupyter-client<9,>=7.4.4->voila) (1.5.6)\n",
      "Requirement already satisfied: python-dateutil>=2.8.2 in /Users/alixtaffle/anaconda3/envs/TheWagon/lib/python3.11/site-packages (from jupyter-client<9,>=7.4.4->voila) (2.8.2)\n",
      "Requirement already satisfied: pyzmq>=23.0 in /Users/alixtaffle/anaconda3/envs/TheWagon/lib/python3.11/site-packages (from jupyter-client<9,>=7.4.4->voila) (23.2.0)\n",
      "Requirement already satisfied: tornado>=6.2 in /Users/alixtaffle/anaconda3/envs/TheWagon/lib/python3.11/site-packages (from jupyter-client<9,>=7.4.4->voila) (6.3.2)\n",
      "Requirement already satisfied: platformdirs>=2.5 in /Users/alixtaffle/anaconda3/envs/TheWagon/lib/python3.11/site-packages (from jupyter-core>=4.11.0->voila) (3.10.0)\n",
      "Requirement already satisfied: anyio>=3.1.0 in /Users/alixtaffle/anaconda3/envs/TheWagon/lib/python3.11/site-packages (from jupyter-server<3,>=2.0.0->voila) (3.5.0)\n",
      "Requirement already satisfied: argon2-cffi in /Users/alixtaffle/anaconda3/envs/TheWagon/lib/python3.11/site-packages (from jupyter-server<3,>=2.0.0->voila) (21.3.0)\n",
      "Requirement already satisfied: jinja2 in /Users/alixtaffle/anaconda3/envs/TheWagon/lib/python3.11/site-packages (from jupyter-server<3,>=2.0.0->voila) (3.1.2)\n",
      "Requirement already satisfied: jupyter-events>=0.6.0 in /Users/alixtaffle/anaconda3/envs/TheWagon/lib/python3.11/site-packages (from jupyter-server<3,>=2.0.0->voila) (0.6.3)\n",
      "Collecting jupyter-server-terminals (from jupyter-server<3,>=2.0.0->voila)\n",
      "  Using cached jupyter_server_terminals-0.4.4-py3-none-any.whl (13 kB)\n",
      "Requirement already satisfied: nbformat>=5.3.0 in /Users/alixtaffle/anaconda3/envs/TheWagon/lib/python3.11/site-packages (from jupyter-server<3,>=2.0.0->voila) (5.9.2)\n",
      "Collecting overrides (from jupyter-server<3,>=2.0.0->voila)\n",
      "  Obtaining dependency information for overrides from https://files.pythonhosted.org/packages/da/28/3fa6ef8297302fc7b3844980b6c5dbc71cdbd4b61e9b2591234214d5ab39/overrides-7.4.0-py3-none-any.whl.metadata\n",
      "  Using cached overrides-7.4.0-py3-none-any.whl.metadata (5.7 kB)\n",
      "Requirement already satisfied: packaging in /Users/alixtaffle/anaconda3/envs/TheWagon/lib/python3.11/site-packages (from jupyter-server<3,>=2.0.0->voila) (23.1)\n",
      "Requirement already satisfied: prometheus-client in /Users/alixtaffle/anaconda3/envs/TheWagon/lib/python3.11/site-packages (from jupyter-server<3,>=2.0.0->voila) (0.14.1)\n",
      "Collecting pyzmq>=23.0 (from jupyter-client<9,>=7.4.4->voila)\n",
      "  Obtaining dependency information for pyzmq>=23.0 from https://files.pythonhosted.org/packages/a7/51/498d0aef7d15f43bfbebf5d8e4edc65148b8f99309f19060ee5adc69f8ed/pyzmq-25.1.1-cp311-cp311-macosx_10_15_universal2.whl.metadata\n",
      "  Using cached pyzmq-25.1.1-cp311-cp311-macosx_10_15_universal2.whl.metadata (4.9 kB)\n",
      "Collecting send2trash>=1.8.2 (from jupyter-server<3,>=2.0.0->voila)\n",
      "  Using cached Send2Trash-1.8.2-py3-none-any.whl (18 kB)\n",
      "Requirement already satisfied: terminado>=0.8.3 in /Users/alixtaffle/anaconda3/envs/TheWagon/lib/python3.11/site-packages (from jupyter-server<3,>=2.0.0->voila) (0.17.1)\n",
      "Requirement already satisfied: websocket-client in /Users/alixtaffle/anaconda3/envs/TheWagon/lib/python3.11/site-packages (from jupyter-server<3,>=2.0.0->voila) (0.58.0)\n",
      "Requirement already satisfied: babel>=2.10 in /Users/alixtaffle/anaconda3/envs/TheWagon/lib/python3.11/site-packages (from jupyterlab-server<3,>=2.3.0->voila) (2.11.0)\n",
      "Requirement already satisfied: json5>=0.9.0 in /Users/alixtaffle/anaconda3/envs/TheWagon/lib/python3.11/site-packages (from jupyterlab-server<3,>=2.3.0->voila) (0.9.6)\n",
      "Requirement already satisfied: jsonschema>=4.17.3 in /Users/alixtaffle/anaconda3/envs/TheWagon/lib/python3.11/site-packages (from jupyterlab-server<3,>=2.3.0->voila) (4.17.3)\n",
      "Requirement already satisfied: requests>=2.28 in /Users/alixtaffle/anaconda3/envs/TheWagon/lib/python3.11/site-packages (from jupyterlab-server<3,>=2.3.0->voila) (2.31.0)\n",
      "Requirement already satisfied: lxml in /Users/alixtaffle/anaconda3/envs/TheWagon/lib/python3.11/site-packages (from nbconvert<8,>=6.4.5->voila) (4.9.2)\n",
      "Requirement already satisfied: beautifulsoup4 in /Users/alixtaffle/anaconda3/envs/TheWagon/lib/python3.11/site-packages (from nbconvert<8,>=6.4.5->voila) (4.12.2)\n",
      "Requirement already satisfied: bleach in /Users/alixtaffle/anaconda3/envs/TheWagon/lib/python3.11/site-packages (from nbconvert<8,>=6.4.5->voila) (4.1.0)\n",
      "Requirement already satisfied: defusedxml in /Users/alixtaffle/anaconda3/envs/TheWagon/lib/python3.11/site-packages (from nbconvert<8,>=6.4.5->voila) (0.7.1)\n",
      "Requirement already satisfied: jupyterlab-pygments in /Users/alixtaffle/anaconda3/envs/TheWagon/lib/python3.11/site-packages (from nbconvert<8,>=6.4.5->voila) (0.1.2)\n",
      "Requirement already satisfied: MarkupSafe>=2.0 in /Users/alixtaffle/anaconda3/envs/TheWagon/lib/python3.11/site-packages (from nbconvert<8,>=6.4.5->voila) (2.1.1)\n",
      "Requirement already satisfied: mistune<2,>=0.8.1 in /Users/alixtaffle/anaconda3/envs/TheWagon/lib/python3.11/site-packages (from nbconvert<8,>=6.4.5->voila) (0.8.4)\n",
      "Requirement already satisfied: pandocfilters>=1.4.1 in /Users/alixtaffle/anaconda3/envs/TheWagon/lib/python3.11/site-packages (from nbconvert<8,>=6.4.5->voila) (1.5.0)\n",
      "Requirement already satisfied: pygments>=2.4.1 in /Users/alixtaffle/anaconda3/envs/TheWagon/lib/python3.11/site-packages (from nbconvert<8,>=6.4.5->voila) (2.15.1)\n",
      "Requirement already satisfied: tinycss2 in /Users/alixtaffle/anaconda3/envs/TheWagon/lib/python3.11/site-packages (from nbconvert<8,>=6.4.5->voila) (1.2.1)\n",
      "Requirement already satisfied: idna>=2.8 in /Users/alixtaffle/anaconda3/envs/TheWagon/lib/python3.11/site-packages (from anyio>=3.1.0->jupyter-server<3,>=2.0.0->voila) (3.4)\n",
      "Requirement already satisfied: sniffio>=1.1 in /Users/alixtaffle/anaconda3/envs/TheWagon/lib/python3.11/site-packages (from anyio>=3.1.0->jupyter-server<3,>=2.0.0->voila) (1.2.0)\n",
      "Requirement already satisfied: pytz>=2015.7 in /Users/alixtaffle/anaconda3/envs/TheWagon/lib/python3.11/site-packages (from babel>=2.10->jupyterlab-server<3,>=2.3.0->voila) (2022.7)\n",
      "Requirement already satisfied: attrs>=17.4.0 in /Users/alixtaffle/anaconda3/envs/TheWagon/lib/python3.11/site-packages (from jsonschema>=4.17.3->jupyterlab-server<3,>=2.3.0->voila) (22.1.0)\n",
      "Requirement already satisfied: pyrsistent!=0.17.0,!=0.17.1,!=0.17.2,>=0.14.0 in /Users/alixtaffle/anaconda3/envs/TheWagon/lib/python3.11/site-packages (from jsonschema>=4.17.3->jupyterlab-server<3,>=2.3.0->voila) (0.18.0)\n"
     ]
    },
    {
     "name": "stdout",
     "output_type": "stream",
     "text": [
      "Requirement already satisfied: python-json-logger>=2.0.4 in /Users/alixtaffle/anaconda3/envs/TheWagon/lib/python3.11/site-packages (from jupyter-events>=0.6.0->jupyter-server<3,>=2.0.0->voila) (2.0.7)\n",
      "Requirement already satisfied: pyyaml>=5.3 in /Users/alixtaffle/anaconda3/envs/TheWagon/lib/python3.11/site-packages (from jupyter-events>=0.6.0->jupyter-server<3,>=2.0.0->voila) (6.0)\n",
      "Requirement already satisfied: rfc3339-validator in /Users/alixtaffle/anaconda3/envs/TheWagon/lib/python3.11/site-packages (from jupyter-events>=0.6.0->jupyter-server<3,>=2.0.0->voila) (0.1.4)\n",
      "Requirement already satisfied: rfc3986-validator>=0.1.1 in /Users/alixtaffle/anaconda3/envs/TheWagon/lib/python3.11/site-packages (from jupyter-events>=0.6.0->jupyter-server<3,>=2.0.0->voila) (0.1.1)\n",
      "Requirement already satisfied: fastjsonschema in /Users/alixtaffle/anaconda3/envs/TheWagon/lib/python3.11/site-packages (from nbformat>=5.3.0->jupyter-server<3,>=2.0.0->voila) (2.16.2)\n",
      "Requirement already satisfied: six>=1.5 in /Users/alixtaffle/anaconda3/envs/TheWagon/lib/python3.11/site-packages (from python-dateutil>=2.8.2->jupyter-client<9,>=7.4.4->voila) (1.16.0)\n",
      "Requirement already satisfied: charset-normalizer<4,>=2 in /Users/alixtaffle/anaconda3/envs/TheWagon/lib/python3.11/site-packages (from requests>=2.28->jupyterlab-server<3,>=2.3.0->voila) (2.0.4)\n",
      "Requirement already satisfied: urllib3<3,>=1.21.1 in /Users/alixtaffle/anaconda3/envs/TheWagon/lib/python3.11/site-packages (from requests>=2.28->jupyterlab-server<3,>=2.3.0->voila) (1.26.16)\n",
      "Requirement already satisfied: certifi>=2017.4.17 in /Users/alixtaffle/anaconda3/envs/TheWagon/lib/python3.11/site-packages (from requests>=2.28->jupyterlab-server<3,>=2.3.0->voila) (2023.7.22)\n",
      "Requirement already satisfied: ptyprocess in /Users/alixtaffle/anaconda3/envs/TheWagon/lib/python3.11/site-packages (from terminado>=0.8.3->jupyter-server<3,>=2.0.0->voila) (0.7.0)\n",
      "Requirement already satisfied: argon2-cffi-bindings in /Users/alixtaffle/anaconda3/envs/TheWagon/lib/python3.11/site-packages (from argon2-cffi->jupyter-server<3,>=2.0.0->voila) (21.2.0)\n",
      "Requirement already satisfied: soupsieve>1.2 in /Users/alixtaffle/anaconda3/envs/TheWagon/lib/python3.11/site-packages (from beautifulsoup4->nbconvert<8,>=6.4.5->voila) (2.4)\n",
      "Requirement already satisfied: webencodings in /Users/alixtaffle/anaconda3/envs/TheWagon/lib/python3.11/site-packages (from bleach->nbconvert<8,>=6.4.5->voila) (0.5.1)\n",
      "Collecting fqdn (from jsonschema>=4.17.3->jupyterlab-server<3,>=2.3.0->voila)\n",
      "  Using cached fqdn-1.5.1-py3-none-any.whl (9.1 kB)\n",
      "Collecting isoduration (from jsonschema>=4.17.3->jupyterlab-server<3,>=2.3.0->voila)\n",
      "  Using cached isoduration-20.11.0-py3-none-any.whl (11 kB)\n",
      "Collecting jsonpointer>1.13 (from jsonschema>=4.17.3->jupyterlab-server<3,>=2.3.0->voila)\n",
      "  Obtaining dependency information for jsonpointer>1.13 from https://files.pythonhosted.org/packages/12/f6/0232cc0c617e195f06f810534d00b74d2f348fe71b2118009ad8ad31f878/jsonpointer-2.4-py2.py3-none-any.whl.metadata\n",
      "  Downloading jsonpointer-2.4-py2.py3-none-any.whl.metadata (2.5 kB)\n",
      "Collecting uri-template (from jsonschema>=4.17.3->jupyterlab-server<3,>=2.3.0->voila)\n",
      "  Obtaining dependency information for uri-template from https://files.pythonhosted.org/packages/e7/00/3fca040d7cf8a32776d3d81a00c8ee7457e00f80c649f1e4a863c8321ae9/uri_template-1.3.0-py3-none-any.whl.metadata\n",
      "  Using cached uri_template-1.3.0-py3-none-any.whl.metadata (8.8 kB)\n",
      "Collecting webcolors>=1.11 (from jsonschema>=4.17.3->jupyterlab-server<3,>=2.3.0->voila)\n",
      "  Using cached webcolors-1.13-py3-none-any.whl (14 kB)\n",
      "Requirement already satisfied: cffi>=1.0.1 in /Users/alixtaffle/anaconda3/envs/TheWagon/lib/python3.11/site-packages (from argon2-cffi-bindings->argon2-cffi->jupyter-server<3,>=2.0.0->voila) (1.15.1)\n",
      "Requirement already satisfied: pycparser in /Users/alixtaffle/anaconda3/envs/TheWagon/lib/python3.11/site-packages (from cffi>=1.0.1->argon2-cffi-bindings->argon2-cffi->jupyter-server<3,>=2.0.0->voila) (2.21)\n",
      "Collecting arrow>=0.15.0 (from isoduration->jsonschema>=4.17.3->jupyterlab-server<3,>=2.3.0->voila)\n",
      "  Downloading arrow-1.2.3-py3-none-any.whl (66 kB)\n",
      "\u001b[2K     \u001b[90m━━━━━━━━━━━━━━━━━━━━━━━━━━━━━━━━━━━━━━━━\u001b[0m \u001b[32m66.4/66.4 kB\u001b[0m \u001b[31m2.1 MB/s\u001b[0m eta \u001b[36m0:00:00\u001b[0m\n",
      "\u001b[?25hUsing cached voila-0.5.4-py3-none-any.whl (3.3 MB)\n",
      "Using cached jupyter_server-2.7.3-py3-none-any.whl (375 kB)\n",
      "Using cached pyzmq-25.1.1-cp311-cp311-macosx_10_15_universal2.whl (1.9 MB)\n",
      "Using cached overrides-7.4.0-py3-none-any.whl (17 kB)\n",
      "Downloading jsonpointer-2.4-py2.py3-none-any.whl (7.8 kB)\n",
      "Using cached uri_template-1.3.0-py3-none-any.whl (11 kB)\n",
      "Installing collected packages: websockets, webcolors, uri-template, send2trash, pyzmq, overrides, jsonpointer, fqdn, jupyter-server-terminals, arrow, isoduration, jupyter-server, voila\n",
      "  Attempting uninstall: send2trash\n",
      "    Found existing installation: Send2Trash 1.8.0\n",
      "    Uninstalling Send2Trash-1.8.0:\n",
      "      Successfully uninstalled Send2Trash-1.8.0\n",
      "  Attempting uninstall: pyzmq\n",
      "    Found existing installation: pyzmq 23.2.0\n",
      "    Uninstalling pyzmq-23.2.0:\n",
      "      Successfully uninstalled pyzmq-23.2.0\n",
      "  Attempting uninstall: jupyter-server\n",
      "    Found existing installation: jupyter-server 1.23.4\n",
      "    Uninstalling jupyter-server-1.23.4:\n",
      "      Successfully uninstalled jupyter-server-1.23.4\n",
      "Successfully installed arrow-1.2.3 fqdn-1.5.1 isoduration-20.11.0 jsonpointer-2.4 jupyter-server-2.7.3 jupyter-server-terminals-0.4.4 overrides-7.4.0 pyzmq-25.1.1 send2trash-1.8.2 uri-template-1.3.0 voila-0.5.4 webcolors-1.13 websockets-11.0.3\n"
     ]
    }
   ],
   "source": [
    "import sys\n",
    "!{sys.executable} -m pip install voila"
   ]
  },
  {
   "cell_type": "markdown",
   "id": "novel-situation",
   "metadata": {
    "id": "novel-situation",
    "tags": [
     "hide"
    ]
   },
   "source": [
    "b) Marquez toutes les cellules pour ne garder que les cellules de l'exercice 3, afin de n'afficher que le dashboard de cette partie.\n",
    "\n",
    "Pour ce faire, vous devrez taggez au préalable les cellules avec un nom de tag. On choisira le tag `hide` dans cet exemple.\n",
    "\n",
    "Pour cela, cliquez sur \"Affichage\"-> \"Barre d'outil de cellule\" -> \"Tags\"\n",
    "\n",
    "(Ah... attendez, c'est déjà fait ! On vous fait gagner du temps)"
   ]
  },
  {
   "cell_type": "markdown",
   "id": "declared-nerve",
   "metadata": {
    "id": "declared-nerve",
    "tags": [
     "hide"
    ]
   },
   "source": [
    "c) Depuis un terminal, lancez la commande :\n",
    "```\n",
    "voila --TagRemovePreprocessor.remove_cell_tags hide td_6_visualisation_enoncés_v3.ipynb\n",
    "```"
   ]
  },
  {
   "cell_type": "markdown",
   "id": "nominated-literacy",
   "metadata": {
    "id": "nominated-literacy",
    "tags": [
     "hide"
    ]
   },
   "source": [
    "# 5) Déploiement de la webapp avec ngrok"
   ]
  },
  {
   "cell_type": "markdown",
   "id": "anu-fe824zpf",
   "metadata": {
    "id": "anu-fe824zpf",
    "tags": [
     "hide"
    ]
   },
   "source": [
    "On souhaite maintenant pouvoir partager notre webapp sans pour autant la déployer sur serveur sur un autre ordinateur. \n",
    "\n",
    "Pour cela, nous allons utiliser la librairie ngrok dont la documentation peut être consultée à [cette adresse](https://voila.readthedocs.io/en/stable/deploy.html). Mais nous allons vous guider dans la suite de cette partie."
   ]
  },
  {
   "cell_type": "markdown",
   "id": "matched-catalyst",
   "metadata": {
    "id": "matched-catalyst",
    "tags": [
     "hide"
    ]
   },
   "source": [
    "a) Installer [ngrok](https://ngrok.com/download)\n",
    "\n",
    "https://ngrok.com/download"
   ]
  },
  {
   "cell_type": "markdown",
   "id": "spiritual-airfare",
   "metadata": {
    "id": "spiritual-airfare",
    "tags": [
     "hide"
    ]
   },
   "source": [
    "b) Unzippez l'archive, puis authentifiez vous avec votre token :\n",
    "\n",
    "```./ngrok authtoken <token>```"
   ]
  },
  {
   "cell_type": "markdown",
   "id": "alien-inquiry",
   "metadata": {
    "id": "alien-inquiry",
    "tags": [
     "hide"
    ]
   },
   "source": [
    "c) Assurez-vous qu'une webapp voilà est déjà lancée en local (cf : commande voila ci-dessus)"
   ]
  },
  {
   "cell_type": "markdown",
   "id": "binding-spiritual",
   "metadata": {
    "id": "binding-spiritual",
    "tags": [
     "hide"
    ]
   },
   "source": [
    "d) Lancer un tunnel sur le port 8866 :\n",
    "\n",
    "```./ngrok http 8866```"
   ]
  },
  {
   "cell_type": "markdown",
   "id": "revolutionary-effectiveness",
   "metadata": {
    "id": "revolutionary-effectiveness",
    "tags": [
     "hide"
    ]
   },
   "source": [
    "e) Cliquez sur le lien affiché dans le terminal (```Forwarding```).\n",
    "Vous pouvez envoyer cette url à votre voisin, il pourra acceder à votre webapp !"
   ]
  },
  {
   "cell_type": "markdown",
   "id": "mature-margin",
   "metadata": {
    "id": "mature-margin",
    "tags": [
     "hide"
    ]
   },
   "source": [
    "# [Bonus] Déploiement d'une webapp avec Binder\n",
    "\n",
    "Pour pouvoir utiliser [Binder](https://jupyter.org/binder), il faut au préalable avoir pushé son notebook dans un repo git et avoir rajouté un fichier 'requirements.txt' contenant les librairies nécessaires pour faire tourner votre projet.\n",
    "\n",
    "Ensuite, il suffit d'aller sur https://mybinder.org/ et :\n",
    "- dans 'GitHub', copier coller l'URL de votre projet git\n",
    "- dans 'Path to a notebook file (optional)', écrivez 'voila/render/ce_notebook.ipynb' en précisant bien 'URL' au lieu de 'File'. Celà permet de spécifier à Binder qu'il faut directement utiliser Voila pour créer la webapp.\n",
    "\n",
    "Cliquez ensuite sur 'lauch'. Une image docker de votre projet sera créer grace au fichier 'requirements.txt'. Vous aurez ensuite un lien pour lancer un conteneur docker autonome qui vous permettra d'acceder à votre application web. Pour chaque utilisateur utilisant ce lien, un conteneur docker sera créé."
   ]
  }
 ],
 "metadata": {
  "celltoolbar": "Tags",
  "colab": {
   "collapsed_sections": [
    "KkSFTLKop6iM",
    "EgGjaCKepJOw",
    "ZL-b7nPPrYgM",
    "1JpboWV5rYgQ",
    "MtEOEcTIrr81",
    "boPW2ghDrYgV",
    "cb_xVZmBrYgV",
    "GQw6xkoUrYgY",
    "I_Qj3kaWrYgZ",
    "oZTjWY2jrYgb",
    "8ABYmAV1rYgc",
    "vOqsIYKYrYgd"
   ],
   "name": "td_6_visualisation_enoncés_v3.ipynb",
   "provenance": []
  },
  "kernelspec": {
   "display_name": "Python 3 (ipykernel)",
   "language": "python",
   "name": "python3"
  },
  "language_info": {
   "codemirror_mode": {
    "name": "ipython",
    "version": 3
   },
   "file_extension": ".py",
   "mimetype": "text/x-python",
   "name": "python",
   "nbconvert_exporter": "python",
   "pygments_lexer": "ipython3",
   "version": "3.11.4"
  }
 },
 "nbformat": 4,
 "nbformat_minor": 5
}
